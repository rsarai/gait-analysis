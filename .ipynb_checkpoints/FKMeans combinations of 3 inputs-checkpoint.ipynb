{
 "cells": [
  {
   "cell_type": "markdown",
   "metadata": {},
   "source": [
    "# SOM +FKMEANS"
   ]
  },
  {
   "cell_type": "markdown",
   "metadata": {},
   "source": [
    "## General Imports"
   ]
  },
  {
   "cell_type": "code",
   "execution_count": 1,
   "metadata": {},
   "outputs": [
    {
     "name": "stderr",
     "output_type": "stream",
     "text": [
      "backend module://ipykernel.pylab.backend_inline version unknown\n"
     ]
    }
   ],
   "source": [
    "from __future__ import division, print_function\n",
    "import matplotlib.pylab as plt\n",
    "import pandas as pd\n",
    "import numpy as np\n",
    "import sompy\n",
    "import skfuzzy as fuzz"
   ]
  },
  {
   "cell_type": "code",
   "execution_count": 2,
   "metadata": {},
   "outputs": [],
   "source": [
    "data_location = './data/5_gait_symmetry_ratios_and_2_kinematic_features_from_180_samples2.csv'\n",
    "complet_data = pd.read_csv(data_location)\n",
    "\n",
    "data = complet_data.drop(['Age'], axis=1)\n",
    "data = data.values\n",
    "\n",
    "group_0_10 = data[:30]\n",
    "group_10_19 = data[30:60]\n",
    "group_20_29 = data[60:90]\n",
    "group_30_39 = data[90:120]\n",
    "group_40_49 = data[120:150]\n",
    "group_over_50 = data[150:]"
   ]
  },
  {
   "cell_type": "markdown",
   "metadata": {},
   "source": [
    "## General Functions"
   ]
  },
  {
   "cell_type": "code",
   "execution_count": 3,
   "metadata": {},
   "outputs": [],
   "source": [
    "import itertools\n",
    "def plot_confusion_matrix(cm, classes,\n",
    "                          normalize=False,\n",
    "                          title='Confusion matrix',\n",
    "                          cmap=plt.cm.Blues):\n",
    "    \"\"\"\n",
    "    This function prints and plots the confusion matrix.\n",
    "    Normalization can be applied by setting `normalize=True`.\n",
    "    \"\"\"\n",
    "    if normalize:\n",
    "        cm = cm.astype('float') / cm.sum(axis=1)[:, np.newaxis]\n",
    "        print(\"Normalized confusion matrix\")\n",
    "    else:\n",
    "        print('Confusion matrix, without normalization')\n",
    "\n",
    "    print(cm)\n",
    "\n",
    "    plt.imshow(cm, interpolation='nearest', cmap=cmap)\n",
    "    plt.title(title)\n",
    "    plt.colorbar()\n",
    "    tick_marks = np.arange(len(classes))\n",
    "    plt.xticks(tick_marks, classes, rotation=45)\n",
    "    plt.yticks(tick_marks, classes)\n",
    "\n",
    "    fmt = '.2f' if normalize else 'd'\n",
    "    thresh = cm.max() / 2.\n",
    "    for i, j in itertools.product(range(cm.shape[0]), range(cm.shape[1])):\n",
    "        plt.text(j, i, format(cm[i, j], fmt),\n",
    "                 horizontalalignment=\"center\",\n",
    "                 color=\"white\" if cm[i, j] > thresh else \"black\")\n",
    "\n",
    "    plt.ylabel('True label')\n",
    "    plt.xlabel('Predicted label')\n",
    "    plt.tight_layout()"
   ]
  },
  {
   "cell_type": "code",
   "execution_count": 4,
   "metadata": {},
   "outputs": [],
   "source": [
    "def cluster(som, n_clusters=6):\n",
    "    from sklearn.cluster import KMeans\n",
    "    cl_labels = KMeans(n_clusters=n_clusters).fit(\n",
    "        som._normalizer.denormalize_by(som.data_raw, som.codebook.matrix)\n",
    "    )\n",
    "    return cl_labels"
   ]
  },
  {
   "cell_type": "code",
   "execution_count": 5,
   "metadata": {},
   "outputs": [],
   "source": [
    "def plot_data(som, full_complet_data, plot1=True, plot2=True, plot3=True, plot4=True, plot5=True, plot6=True):\n",
    "    data = full_complet_data.values\n",
    "    group_0_10 = data[:30]\n",
    "    group_10_19 = data[30:60]\n",
    "    group_20_29 = data[60:90]\n",
    "    group_30_39 = data[90:120]\n",
    "    group_40_49 = data[120:150]\n",
    "    group_over_50 = data[150:]\n",
    "\n",
    "    plt.figure(figsize=(20,20))\n",
    "    if plot1:\n",
    "        proj = som.project_data(group_0_10)\n",
    "        coord = som.bmu_ind_to_xy(proj)\n",
    "        plt.subplot(321)\n",
    "        plt.plot(coord[:, 1], coord[:, 0], marker='.', linestyle='--', color='r')\n",
    "\n",
    "    if plot2:\n",
    "        proj = som.project_data(group_10_19)\n",
    "        coord = som.bmu_ind_to_xy(proj)\n",
    "        plt.subplot(322)\n",
    "        plt.plot(coord[:, 1], coord[:, 0], c='black', linestyle='--',\n",
    "                                marker='.')\n",
    "    if plot3:\n",
    "        proj = som.project_data(group_20_29)\n",
    "        coord = som.bmu_ind_to_xy(proj)\n",
    "        plt.subplot(323)\n",
    "        plt.plot(coord[:, 1], coord[:, 0], c='brown',\n",
    "                                marker='.', linestyle='--',)\n",
    "    if plot4:\n",
    "        proj = som.project_data(group_30_39)\n",
    "        coord = som.bmu_ind_to_xy(proj)\n",
    "        plt.subplot(324)\n",
    "        plt.plot(coord[:, 1], coord[:, 0], c='blue',\n",
    "                                marker='.', linestyle='--',)\n",
    "    if plot5:\n",
    "        proj = som.project_data(group_40_49)\n",
    "        coord = som.bmu_ind_to_xy(proj)\n",
    "        plt.subplot(325)\n",
    "        plt.plot(coord[:, 1], coord[:, 0], c='green',\n",
    "                                marker='.', linestyle='--',)\n",
    "    if plot6:\n",
    "        proj = som.project_data(group_over_50)\n",
    "        coord = som.bmu_ind_to_xy(proj)\n",
    "        plt.subplot(326)\n",
    "        plt.plot(coord[:, 1], coord[:, 0], c='orange', marker='.', linestyle='--',)"
   ]
  },
  {
   "cell_type": "code",
   "execution_count": 6,
   "metadata": {},
   "outputs": [],
   "source": [
    "def plot_dots(som, full_complet_data, plot1=True, plot2=True, plot3=True, plot4=True, plot5=True, plot6=True):\n",
    "    data = full_complet_data.values\n",
    "    group_0_10 = data[:30]\n",
    "    group_10_19 = data[30:60]\n",
    "    group_20_29 = data[60:90]\n",
    "    group_30_39 = data[90:120]\n",
    "    group_40_49 = data[120:150]\n",
    "    group_over_50 = data[150:]\n",
    "    \n",
    "    plt.figure(figsize=(20,20))\n",
    "    if plot1:\n",
    "        proj = som.project_data(group_0_10)\n",
    "        coord = som.bmu_ind_to_xy(proj)\n",
    "        plt.subplot(321)\n",
    "        plt.scatter(coord[:, 1], coord[:, 0], s=2, alpha=1., c='Gray',\n",
    "                                marker='o', cmap='jet', linewidths=3, edgecolor='Gray')\n",
    "\n",
    "    if plot2:\n",
    "        proj = som.project_data(group_10_19)\n",
    "        coord = som.bmu_ind_to_xy(proj)\n",
    "        plt.subplot(322)\n",
    "        plt.scatter(coord[:, 1], coord[:, 0], s=2, alpha=1., c='black',\n",
    "                                marker='o', cmap='jet', linewidths=3, edgecolor='black')\n",
    "    if plot3:\n",
    "        proj = som.project_data(group_20_29)\n",
    "        coord = som.bmu_ind_to_xy(proj)\n",
    "        plt.subplot(323)\n",
    "        plt.scatter(coord[:, 1], coord[:, 0], s=2, alpha=1., c='brown',\n",
    "                                marker='o', cmap='jet', linewidths=3, edgecolor='brown')\n",
    "    if plot4:\n",
    "        proj = som.project_data(group_30_39)\n",
    "        coord = som.bmu_ind_to_xy(proj)\n",
    "        plt.subplot(324)\n",
    "        plt.scatter(coord[:, 1], coord[:, 0], s=2, alpha=1., c='blue',\n",
    "                                marker='o', cmap='jet', linewidths=3, edgecolor='blue')\n",
    "    if plot5:\n",
    "        proj = som.project_data(group_40_49)\n",
    "        coord = som.bmu_ind_to_xy(proj)\n",
    "        plt.subplot(325)\n",
    "        plt.scatter(coord[:, 1], coord[:, 0], s=2, alpha=1., c='green',\n",
    "                                marker='o', cmap='jet', linewidths=3, edgecolor='green')\n",
    "    if plot6:\n",
    "        proj = som.project_data(group_over_50)\n",
    "        coord = som.bmu_ind_to_xy(proj)\n",
    "        plt.subplot(326)\n",
    "        plt.scatter(coord[:, 1], coord[:, 0], s=2, alpha=1., c='red',\n",
    "                                marker='o', cmap='jet', linewidths=3, edgecolor='red')"
   ]
  },
  {
   "cell_type": "code",
   "execution_count": 7,
   "metadata": {},
   "outputs": [],
   "source": [
    "def get_prediction_vs_real(som, data, complet_data, kmeans_labels, num_classes):\n",
    "    # normalized_data = som._normalizer.normalize_by(som.data_raw, data)\n",
    "    results = kmeans_labels.predict(data)\n",
    "    complet_data['Cluster'] = results\n",
    "    return complet_data\n",
    "\n",
    "def get_false_positives(conf_matrix, num_classes=6):\n",
    "    false_positive = []\n",
    "    for i in range(num_classes):\n",
    "        false_positive.append(sum(conf_matrix[:,i]) - conf_matrix[i,i])\n",
    "    return false_positive\n",
    "\n",
    "def get_false_negatives(conf_matrix, num_classes=6):\n",
    "    false_negative = []\n",
    "    for i in range(num_classes):\n",
    "        false_negative.append(sum(conf_matrix[i,:]) - conf_matrix[i,i])\n",
    "    return false_negative\n",
    "\n",
    "def generate_confusion_matrix(complet_data, classes_name=['0~10', '10~19', '20~29', '30~39', '40~49', '>50']):\n",
    "    from sklearn import metrics\n",
    "\n",
    "    conf_matrix = metrics.confusion_matrix(complet_data['Age'], complet_data['Cluster'])\n",
    "    plt.figure()\n",
    "    plot_confusion_matrix(conf_matrix, classes=classes_name,\n",
    "                          title='Confusion matrix, without normalization')\n",
    "    return conf_matrix\n",
    "\n",
    "def get_metrics(conf_matrix, num_classes=6):\n",
    "    true_positives = np.diag(conf_matrix)\n",
    "    false_positives = get_false_positives(conf_matrix, num_classes)\n",
    "    false_negatives = get_false_negatives(conf_matrix, num_classes)\n",
    "\n",
    "    true_positives = sum(true_positives)\n",
    "    false_positives = sum(false_positives)\n",
    "    false_negatives = sum(false_negatives)\n",
    "\n",
    "    print()\n",
    "    print('true_positives total:', true_positives)\n",
    "    print('false_positives total:', false_positives)\n",
    "    print('false_negatives total:', false_negatives)\n",
    "    \n",
    "def get_precision_recal_f1_score_and_accuracy(complet_data):\n",
    "    precision = metrics.precision_score(complet_data['Age'], complet_data['Cluster'], average='macro')\n",
    "    recal = metrics.recall_score(complet_data['Age'], complet_data['Cluster'], average='micro')\n",
    "    f1_score = metrics.f1_score(complet_data['Age'], complet_data['Cluster'], average='weighted')\n",
    "    accuracy = metrics.accuracy_score(complet_data['Age'], complet_data['Cluster'])\n",
    "    \n",
    "    print()\n",
    "    print('Precision: ', precision)\n",
    "    print('Recal: ', recal)\n",
    "    print('F1-Score: ', f1_score)\n",
    "    print('Accuracy: ', accuracy)"
   ]
  },
  {
   "cell_type": "code",
   "execution_count": 8,
   "metadata": {},
   "outputs": [],
   "source": [
    "from sklearn import metrics\n",
    "\n",
    "def evaluate_som(som, data, complet_data, kmeans_labels, n_clusters=6, \n",
    "                 classes_name=['0~10', '10~19', '20~29', '30~39', '40~49', '>50']):\n",
    "    # define which cluster number represents each Age group.\n",
    "    complet_data = get_prediction_vs_real(som, data, complet_data, kmeans_labels,\n",
    "                                          num_classes=len(classes_name))\n",
    "\n",
    "    # Plot confusion matrix\n",
    "    conf_matrix = generate_confusion_matrix(complet_data, classes_name)\n",
    "    \n",
    "    # Show true positives, false negatives, false positives\n",
    "    get_metrics(conf_matrix, num_classes=len(classes_name))\n",
    "    \n",
    "    # Show metrics\n",
    "    get_precision_recal_f1_score_and_accuracy(complet_data)\n",
    "    return complet_data"
   ]
  },
  {
   "cell_type": "code",
   "execution_count": 9,
   "metadata": {},
   "outputs": [],
   "source": [
    "def analyse_cluster_per_group(complet_data):\n",
    "    complet_data[complet_data.Age.values == complet_data.Cluster.values]\n",
    "    complet_data['Cluster'].value_counts()\n",
    "    return complet_data.groupby('Age')['Cluster'].value_counts()"
   ]
  },
  {
   "cell_type": "code",
   "execution_count": 10,
   "metadata": {},
   "outputs": [],
   "source": [
    "def evaluate_group_1_and_3(kmeans_labels, som, complet_data, test_dataframe, group_1_and_3, \n",
    "                           group_1_and_3_test):\n",
    "    print('-------------------------------------------------------------------------------------------------')\n",
    "    new_complet_data = complet_data.copy()\n",
    "    new_complet_data = new_complet_data.drop(new_complet_data[new_complet_data['Age'] == 1].index)\n",
    "    new_complet_data = new_complet_data.drop(new_complet_data[new_complet_data['Age'] == 3].index)\n",
    "    new_complet_data = new_complet_data.drop(new_complet_data[new_complet_data['Age'] == 4].index)\n",
    "    new_complet_data = new_complet_data.drop(new_complet_data[new_complet_data['Age'] == 5].index)\n",
    "\n",
    "\n",
    "    new_test_dataframe = test_dataframe.copy()\n",
    "    new_test_dataframe = new_test_dataframe.drop(new_test_dataframe[new_test_dataframe['Age'] == 1].index)\n",
    "    new_test_dataframe = new_test_dataframe.drop(new_test_dataframe[new_test_dataframe['Age'] == 3].index)\n",
    "    new_test_dataframe = new_test_dataframe.drop(new_test_dataframe[new_test_dataframe['Age'] == 4].index)\n",
    "    new_test_dataframe = new_test_dataframe.drop(new_test_dataframe[new_test_dataframe['Age'] == 5].index)\n",
    "\n",
    "    # Replaces age groups number by 0 and 1\n",
    "    new_complet_data.loc[new_complet_data['Age'] == 0, 'Age'] = 1\n",
    "    new_complet_data.loc[new_complet_data['Age'] == 2, 'Age'] = 0\n",
    "\n",
    "    new_test_dataframe.loc[new_test_dataframe['Age'] == 0, 'Age'] = 1\n",
    "    new_test_dataframe.loc[new_test_dataframe['Age'] == 2, 'Age'] = 0\n",
    "\n",
    "    evaluate_som(som, group_1_and_3, new_complet_data, kmeans_labels,\n",
    "                 classes_name=['0~10', '20~29'])\n",
    "    \n",
    "    print('-------------------TEST DATASET EVALUATION----------------------')\n",
    "    complet_data = evaluate_som(som, group_1_and_3_test, new_test_dataframe, \n",
    "                                kmeans_labels, classes_name=['0~10', '20~29']) \n",
    "    \n",
    "    analyse_cluster_per_group(complet_data)"
   ]
  },
  {
   "cell_type": "code",
   "execution_count": 11,
   "metadata": {},
   "outputs": [],
   "source": [
    "def evaluate_group_1_and_3_inverse(kmeans_labels, som, complet_data, test_dataframe, group_1_and_3, \n",
    "                                   group_1_and_3_test):\n",
    "    print('-------------------------------------------------------------------------------------------------')\n",
    "\n",
    "    new_complet_data = complet_data.copy()\n",
    "    new_complet_data = new_complet_data.drop(new_complet_data[new_complet_data['Age'] == 1].index)\n",
    "    new_complet_data = new_complet_data.drop(new_complet_data[new_complet_data['Age'] == 3].index)\n",
    "    new_complet_data = new_complet_data.drop(new_complet_data[new_complet_data['Age'] == 4].index)\n",
    "    new_complet_data = new_complet_data.drop(new_complet_data[new_complet_data['Age'] == 5].index)\n",
    "\n",
    "\n",
    "    new_test_dataframe = test_dataframe.copy()\n",
    "    new_test_dataframe = new_test_dataframe.drop(new_test_dataframe[new_test_dataframe['Age'] == 1].index)\n",
    "    new_test_dataframe = new_test_dataframe.drop(new_test_dataframe[new_test_dataframe['Age'] == 3].index)\n",
    "    new_test_dataframe = new_test_dataframe.drop(new_test_dataframe[new_test_dataframe['Age'] == 4].index)\n",
    "    new_test_dataframe = new_test_dataframe.drop(new_test_dataframe[new_test_dataframe['Age'] == 5].index)\n",
    "\n",
    "    # Replaces age groups number by 0 and 1\n",
    "    new_complet_data.loc[new_complet_data['Age'] == 0, 'Age'] = 0\n",
    "    new_complet_data.loc[new_complet_data['Age'] == 2, 'Age'] = 1\n",
    "\n",
    "    new_test_dataframe.loc[new_test_dataframe['Age'] == 0, 'Age'] = 0\n",
    "    new_test_dataframe.loc[new_test_dataframe['Age'] == 2, 'Age'] = 1\n",
    "\n",
    "    evaluate_som(som, group_1_and_3, new_complet_data, kmeans_labels,\n",
    "                 classes_name=['0~10', '20~29'])\n",
    "\n",
    "    print('-------------------TEST DATASET EVALUATION----------------------')\n",
    "    evaluate_som(som, group_1_and_3_test, new_test_dataframe, kmeans_labels,\n",
    "                 classes_name=['0~10', '20~29'])"
   ]
  },
  {
   "cell_type": "code",
   "execution_count": 12,
   "metadata": {},
   "outputs": [],
   "source": [
    "def evaluate_group_5_and_6(kmeans_labels, som, complet_data, test_dataframe, group_5_and_6, \n",
    "                           group_5_and_6_test):\n",
    "    print('-------------------------------------------------------------------------------------------------')\n",
    "    new_complet_data = complet_data.copy()\n",
    "    new_complet_data = new_complet_data.drop(new_complet_data[new_complet_data['Age'] == 1].index)\n",
    "    new_complet_data = new_complet_data.drop(new_complet_data[new_complet_data['Age'] == 2].index)\n",
    "    new_complet_data = new_complet_data.drop(new_complet_data[new_complet_data['Age'] == 3].index)\n",
    "    new_complet_data = new_complet_data.drop(new_complet_data[new_complet_data['Age'] == 0].index)\n",
    "\n",
    "    new_test_dataframe = test_dataframe.copy()\n",
    "    new_test_dataframe = new_test_dataframe.drop(new_test_dataframe[new_test_dataframe['Age'] == 1].index)\n",
    "    new_test_dataframe = new_test_dataframe.drop(new_test_dataframe[new_test_dataframe['Age'] == 2].index)\n",
    "    new_test_dataframe = new_test_dataframe.drop(new_test_dataframe[new_test_dataframe['Age'] == 3].index)\n",
    "    new_test_dataframe = new_test_dataframe.drop(new_test_dataframe[new_test_dataframe['Age'] == 0].index)\n",
    "\n",
    "    # Replaces age groups number by 0 and 1\n",
    "    new_complet_data.loc[new_complet_data['Age'] == 5, 'Age'] = 1\n",
    "    new_complet_data.loc[new_complet_data['Age'] == 4, 'Age'] = 0\n",
    "\n",
    "    new_test_dataframe.loc[new_test_dataframe['Age'] == 5, 'Age'] = 1\n",
    "    new_test_dataframe.loc[new_test_dataframe['Age'] == 4, 'Age'] = 0\n",
    "\n",
    "    evaluate_som(som, group_5_and_6, new_complet_data, kmeans_labels,\n",
    "                 classes_name=['40~49', '>50'])\n",
    "    print('-------------------TEST DATASET EVALUATION----------------------')\n",
    "    complet_data = evaluate_som(som, group_5_and_6_test, new_test_dataframe, \n",
    "                                kmeans_labels, classes_name=['40~49', '>50'])\n",
    "    analyse_cluster_per_group(complet_data)"
   ]
  },
  {
   "cell_type": "code",
   "execution_count": 13,
   "metadata": {},
   "outputs": [],
   "source": [
    "def evaluate_group_5_and_6_inverse(kmeans_labels, som, complet_data, test_dataframe, group_5_and_6, \n",
    "                                   group_5_and_6_test):\n",
    "    print('-------------------------------------------------------------------------------------------------')\n",
    "    new_complet_data = complet_data.copy()\n",
    "    new_complet_data = new_complet_data.drop(new_complet_data[new_complet_data['Age'] == 1].index)\n",
    "    new_complet_data = new_complet_data.drop(new_complet_data[new_complet_data['Age'] == 2].index)\n",
    "    new_complet_data = new_complet_data.drop(new_complet_data[new_complet_data['Age'] == 3].index)\n",
    "    new_complet_data = new_complet_data.drop(new_complet_data[new_complet_data['Age'] == 0].index)\n",
    "\n",
    "    new_test_dataframe = test_dataframe.copy()\n",
    "    new_test_dataframe = new_test_dataframe.drop(new_test_dataframe[new_test_dataframe['Age'] == 1].index)\n",
    "    new_test_dataframe = new_test_dataframe.drop(new_test_dataframe[new_test_dataframe['Age'] == 2].index)\n",
    "    new_test_dataframe = new_test_dataframe.drop(new_test_dataframe[new_test_dataframe['Age'] == 3].index)\n",
    "    new_test_dataframe = new_test_dataframe.drop(new_test_dataframe[new_test_dataframe['Age'] == 0].index)\n",
    "\n",
    "    # Replaces age groups number by 0 and 1\n",
    "    new_complet_data.loc[new_complet_data['Age'] == 5, 'Age'] = 0\n",
    "    new_complet_data.loc[new_complet_data['Age'] == 4, 'Age'] = 1\n",
    "\n",
    "    new_test_dataframe.loc[new_test_dataframe['Age'] == 5, 'Age'] = 0\n",
    "    new_test_dataframe.loc[new_test_dataframe['Age'] == 4, 'Age'] = 1\n",
    "\n",
    "    evaluate_som(som, group_5_and_6, new_complet_data, kmeans_labels,\n",
    "                 classes_name=['40~49', '>50'])\n",
    "\n",
    "    print('-------------------TEST DATASET EVALUATION----------------------')\n",
    "    evaluate_som(som, group_5_and_6_test, new_test_dataframe, kmeans_labels,\n",
    "                 classes_name=['40~49', '>50'])"
   ]
  },
  {
   "cell_type": "markdown",
   "metadata": {},
   "source": [
    "## SOM + FCMEANS"
   ]
  },
  {
   "cell_type": "markdown",
   "metadata": {},
   "source": [
    "## Set up  general data information"
   ]
  },
  {
   "cell_type": "markdown",
   "metadata": {},
   "source": [
    "### Import the data"
   ]
  },
  {
   "cell_type": "code",
   "execution_count": 14,
   "metadata": {},
   "outputs": [],
   "source": [
    "all_features = ['Rst', 'Rsw', 'RssR', 'RssL', 'Rs', 'ACT[s]', 'Cadence']\n",
    "data_location = '/home/sarai/Documents/UPE/tcc/hybrid-approach/5_gait_symmetry_ratios_and_2_kinematic_features_from_180_samples2.csv'"
   ]
  },
  {
   "cell_type": "code",
   "execution_count": 15,
   "metadata": {},
   "outputs": [],
   "source": [
    "mapsize = [50,50]\n",
    "data_c = pd.read_csv(data_location)\n",
    "\n",
    "complet_train_data = data_c.copy()\n",
    "complet_train_data = complet_train_data.drop(complet_train_data.index[25:30])\n",
    "complet_train_data = complet_train_data.drop(complet_train_data.index[55:60])\n",
    "complet_train_data = complet_train_data.drop(complet_train_data.index[85:90])\n",
    "complet_train_data = complet_train_data.drop(complet_train_data.index[115:120])\n",
    "complet_train_data = complet_train_data.drop(complet_train_data.index[145:150])\n",
    "complet_train_data = complet_train_data.drop(complet_train_data.index[175:])\n",
    "\n",
    "test_dataframe = data_c.copy()\n",
    "test_dataframe = test_dataframe.drop(test_dataframe.index[150:175])\n",
    "test_dataframe = test_dataframe.drop(test_dataframe.index[120:145])\n",
    "test_dataframe = test_dataframe.drop(test_dataframe.index[90:115])\n",
    "test_dataframe = test_dataframe.drop(test_dataframe.index[60:85])\n",
    "test_dataframe = test_dataframe.drop(test_dataframe.index[30:55])\n",
    "test_dataframe = test_dataframe.drop(test_dataframe.index[:25])"
   ]
  },
  {
   "cell_type": "code",
   "execution_count": 16,
   "metadata": {},
   "outputs": [],
   "source": [
    "def generate_experiment(full_complet_data, combinations_to_be_analysed, complet_train_data, \n",
    "                        test_dataframe, iterations=2000, groups_to_classify=0):\n",
    "    from skfuzzy.cluster import cmeans\n",
    "    from sompy.visualization.hitmap import HitMapView\n",
    "\n",
    "    drop = set(all_features) - set(combinations_to_be_analysed)\n",
    "    drop = list(drop)\n",
    "    \n",
    "    test_dataframe = test_dataframe.drop(drop, axis=1)\n",
    "    full_complet_data = full_complet_data.drop(drop, axis=1)\n",
    "    \n",
    "    data = full_complet_data\n",
    "    data = data.values\n",
    "    \n",
    "    group_0_10 = data[:25]\n",
    "    group_10_19 = data[30:55]\n",
    "    group_20_29 = data[60:85]\n",
    "    group_30_39 = data[90:115]\n",
    "    group_40_49 = data[120:145]\n",
    "    group_over_50 = data[150:175]\n",
    "\n",
    "    group_0_10_test = data[25:30]\n",
    "    group_10_19_test = data[55:60]\n",
    "    group_20_29_test = data[85:90]\n",
    "    group_30_39_test = data[115:120]\n",
    "    group_40_49_test = data[145:150]\n",
    "    group_over_50_test = data[175:]\n",
    "    \n",
    "    if groups_to_classify == 0:\n",
    "        # Group 1 and 3\n",
    "        group_1_and_3 = np.concatenate((group_0_10, group_20_29))\n",
    "        group_1_and_3_test = np.concatenate((group_0_10_test, group_20_29_test))\n",
    "        data = group_1_and_3\n",
    "        clusters_number = 2\n",
    "    elif groups_to_classify == 1:\n",
    "        # Groupo 5 and 6\n",
    "        group_5_and_6 = np.concatenate((group_40_49, group_over_50))\n",
    "        group_5_and_6_test = np.concatenate((group_40_49_test, group_over_50_test))\n",
    "        data = group_5_and_6\n",
    "        clusters_number = 2\n",
    "    else:\n",
    "        data = data\n",
    "        clusters_number = 6\n",
    "\n",
    "    som = sompy.SOMFactory.build(\n",
    "        data, mapsize, mask=None, mapshape='planar', \n",
    "        normalization='var', initialization='pca', \n",
    "        neighborhood='gaussian', training='batch', \n",
    "        name='sompy', lattice='hexa')\n",
    "    som.train(n_job=4, verbose=False, train_finetune_len=100, train_rough_len=iterations)\n",
    "    \n",
    "    c_means_input = som._normalizer.denormalize_by(som.data_raw, som.codebook.matrix)\n",
    "    c_means_input = c_means_input.transpose()\n",
    "    cmeans_fc, u_orig, _, _, _, _, pc = cmeans(\n",
    "        c_means_input,  c=clusters_number, m=1.25, error=1e-6, maxiter=10000, seed=1000)\n",
    "    \n",
    "    print(\"The fuzzy partition coefficient (FPC) {}\".format(pc))\n",
    "    \n",
    "    # Visualization Plots\n",
    "    vis  = sompy.mapview.View2DPacked(5, 5, 'Cluster',text_size=12)  \n",
    "    som.cluster_labels = u_orig.argmax(axis=0)\n",
    "    vis.show(som, what='cluster')\n",
    "    \n",
    "    hits = HitMapView(20, 20,\"Clustering\",text_size=10, cmap=plt.cm.jet)\n",
    "    a = hits.show(som, anotate=True, onlyzeros=False, labelsize=7, cmap=\"Pastel1\")\n",
    "    plt.show()\n",
    "    \n",
    "    from sompy.visualization.hitmap import HitMapView\n",
    "    hits = HitMapView(20, 20,\"Clustering\",text_size=10, cmap=plt.cm.jet)\n",
    "    a = hits.show(som, anotate=True, onlyzeros=False, labelsize=7, cmap=\"jet\")\n",
    "    plt.show()\n",
    "    \n",
    "    # Plot Data Projection\n",
    "    if groups_to_classify == 0:\n",
    "        # Group 1 and 3\n",
    "        plot_data(som, full_complet_data, plot2=False, plot4=False, plot5=False, plot6=False)\n",
    "    elif groups_to_classify == 1:\n",
    "        # Group 5 and 6\n",
    "        plot_data(som, full_complet_data, plot1=False, plot2=False, plot3=False, plot4=False)\n",
    "    else:\n",
    "        plot_data(som, full_complet_data)\n",
    "        \n",
    "    # Patterns learned by the neural network which are used to determine \n",
    "    # the winning neuron of each training instance\n",
    "\n",
    "    som.component_names = combinations_to_be_analysed\n",
    "    v = sompy.mapview.View2D(10, 10, \"\", text_size=9)  \n",
    "    v.show(som, which_dim='all', cmap='jet', col_sz=4) #which_dim='all' default\n",
    "\n",
    "    # Evaluate groups\n",
    "    if groups_to_classify == 0:\n",
    "        evaluate_group_1_and_3(som, complet_train_data, test_dataframe, \n",
    "                               group_1_and_3, group_1_and_3_test, cmeans_fc)\n",
    "        evaluate_group_1_and_3_inverse(som, complet_train_data, test_dataframe, \n",
    "                                       group_1_and_3, group_1_and_3_test, cmeans_fc)\n",
    "    elif groups_to_classify == 1:\n",
    "        evaluate_group_5_and_6(som, complet_train_data, test_dataframe, \n",
    "                               group_5_and_6, group_5_and_6_test, cmeans_fc)\n",
    "        evaluate_group_5_and_6_inverse(som, complet_train_data, test_dataframe, \n",
    "                                       group_5_and_6, group_5_and_6_test, cmeans_fc)\n",
    "    else:\n",
    "        evaluate_som(som, data, complet_data, cmeans_fc)"
   ]
  },
  {
   "cell_type": "markdown",
   "metadata": {},
   "source": [
    "## [ACT[s] Cadence Rs] Only 2 features as input & Only 2 groups to classify\n",
    "- Group 1: 0~10\n",
    "- Group 2: 20~29"
   ]
  },
  {
   "cell_type": "code",
   "execution_count": 17,
   "metadata": {},
   "outputs": [],
   "source": [
    "full_complet_data = data_c.drop('Age', axis=1)\n",
    "combinations_to_be_analysed = ['ACT[s]', 'Cadence', 'Rs']"
   ]
  },
  {
   "cell_type": "code",
   "execution_count": null,
   "metadata": {
    "scrolled": false
   },
   "outputs": [],
   "source": [
    "generate_experiment(\n",
    "    full_complet_data, combinations_to_be_analysed, complet_train_data, \n",
    "    test_dataframe, groups_to_classify=0\n",
    ")"
   ]
  },
  {
   "cell_type": "markdown",
   "metadata": {},
   "source": [
    "## [ACT[s] Cadence Rs] Only 2 features as input & Only 2 groups to classify\n",
    "- Group 5: 40~49\n",
    "- Group 6: >50"
   ]
  },
  {
   "cell_type": "code",
   "execution_count": null,
   "metadata": {},
   "outputs": [],
   "source": [
    "full_complet_data = data_c.drop('Age', axis=1)\n",
    "combinations_to_be_analysed = ['ACT[s]', 'Cadence', 'Rs']"
   ]
  },
  {
   "cell_type": "code",
   "execution_count": null,
   "metadata": {
    "scrolled": false
   },
   "outputs": [],
   "source": [
    "generate_experiment(\n",
    "    full_complet_data, combinations_to_be_analysed, complet_train_data, \n",
    "    test_dataframe, iterations=100, groups_to_classify=1\n",
    ")"
   ]
  },
  {
   "cell_type": "markdown",
   "metadata": {},
   "source": [
    "## [Cadence Rst Rsw] Only 2 features as input & Only 2 groups to classify\n",
    "- Group 1: 0~10\n",
    "- Group 2: 20~29"
   ]
  },
  {
   "cell_type": "code",
   "execution_count": null,
   "metadata": {},
   "outputs": [],
   "source": [
    "full_complet_data = data_c.drop('Age', axis=1)\n",
    "combinations_to_be_analysed = ['Cadence', 'Rst', 'Rsw']"
   ]
  },
  {
   "cell_type": "code",
   "execution_count": null,
   "metadata": {
    "scrolled": false
   },
   "outputs": [],
   "source": [
    "generate_experiment(\n",
    "    full_complet_data, combinations_to_be_analysed, complet_train_data, \n",
    "    test_dataframe, groups_to_classify=0\n",
    ")"
   ]
  },
  {
   "cell_type": "markdown",
   "metadata": {},
   "source": [
    "## [Cadence Rst Rsw] Only 2 features as input & Only 2 groups to classify\n",
    "- Group 5: 40~49\n",
    "- Group 6: >50"
   ]
  },
  {
   "cell_type": "code",
   "execution_count": null,
   "metadata": {},
   "outputs": [],
   "source": [
    "full_complet_data = data_c.drop('Age', axis=1)\n",
    "combinations_to_be_analysed = ['Cadence', 'Rst', 'Rsw']"
   ]
  },
  {
   "cell_type": "code",
   "execution_count": null,
   "metadata": {
    "scrolled": true
   },
   "outputs": [],
   "source": [
    "generate_experiment(\n",
    "    full_complet_data, combinations_to_be_analysed, complet_train_data, \n",
    "    test_dataframe, groups_to_classify=1\n",
    ")"
   ]
  },
  {
   "cell_type": "markdown",
   "metadata": {},
   "source": [
    "## [RssR Rst Rsw] Only 2 features as input & Only 2 groups to classify\n",
    "- Group 1: 0~10\n",
    "- Group 2: 20~29"
   ]
  },
  {
   "cell_type": "code",
   "execution_count": null,
   "metadata": {},
   "outputs": [],
   "source": [
    "full_complet_data = data_c.drop('Age', axis=1)\n",
    "combinations_to_be_analysed = ['RssR', 'Rst', 'Rsw']"
   ]
  },
  {
   "cell_type": "code",
   "execution_count": null,
   "metadata": {
    "scrolled": false
   },
   "outputs": [],
   "source": [
    "generate_experiment(\n",
    "    full_complet_data, combinations_to_be_analysed, complet_train_data, \n",
    "    test_dataframe, groups_to_classify=0\n",
    ")"
   ]
  },
  {
   "cell_type": "markdown",
   "metadata": {},
   "source": [
    "## [RssR Rst Rsw] Only 2 features as input & Only 2 groups to classify\n",
    "- Group 5: 40~49\n",
    "- Group 6: >50"
   ]
  },
  {
   "cell_type": "code",
   "execution_count": null,
   "metadata": {},
   "outputs": [],
   "source": [
    "full_complet_data = data_c.drop('Age', axis=1)\n",
    "combinations_to_be_analysed = ['RssR', 'Rst', 'Rsw']"
   ]
  },
  {
   "cell_type": "code",
   "execution_count": null,
   "metadata": {
    "scrolled": false
   },
   "outputs": [],
   "source": [
    "generate_experiment(\n",
    "    full_complet_data, combinations_to_be_analysed, complet_train_data, \n",
    "    test_dataframe, groups_to_classify=1\n",
    ")"
   ]
  },
  {
   "cell_type": "markdown",
   "metadata": {},
   "source": [
    "## [ACT[s] Cadence Rsw] Only 2 features as input & Only 2 groups to classify\n",
    "- Group 1: 0~10\n",
    "- Group 2: 20~29"
   ]
  },
  {
   "cell_type": "code",
   "execution_count": null,
   "metadata": {},
   "outputs": [],
   "source": [
    "full_complet_data = data_c.drop('Age', axis=1)\n",
    "combinations_to_be_analysed = ['ACT[s]', 'Cadence', 'Rsw']"
   ]
  },
  {
   "cell_type": "code",
   "execution_count": null,
   "metadata": {
    "scrolled": false
   },
   "outputs": [],
   "source": [
    "generate_experiment(\n",
    "    full_complet_data, combinations_to_be_analysed, complet_train_data, \n",
    "    test_dataframe, groups_to_classify=0\n",
    ")"
   ]
  },
  {
   "cell_type": "markdown",
   "metadata": {},
   "source": [
    "## [ACT[s] Cadence Rsw] Only 2 features as input & Only 2 groups to classify\n",
    "- Group 5: 40~49\n",
    "- Group 6: >50"
   ]
  },
  {
   "cell_type": "code",
   "execution_count": null,
   "metadata": {},
   "outputs": [],
   "source": [
    "full_complet_data = data_c.drop('Age', axis=1)\n",
    "combinations_to_be_analysed = ['ACT[s]', 'Cadence', 'Rsw']"
   ]
  },
  {
   "cell_type": "code",
   "execution_count": null,
   "metadata": {
    "scrolled": false
   },
   "outputs": [],
   "source": [
    "generate_experiment(\n",
    "    full_complet_data, combinations_to_be_analysed, complet_train_data, \n",
    "    test_dataframe, groups_to_classify=1\n",
    ")"
   ]
  },
  {
   "cell_type": "markdown",
   "metadata": {},
   "source": [
    "## [Rs RssR Rst] Only 2 features as input & Only 2 groups to classify\n",
    "- Group 1: 0~10\n",
    "- Group 2: 20~29"
   ]
  },
  {
   "cell_type": "code",
   "execution_count": null,
   "metadata": {},
   "outputs": [],
   "source": [
    "full_complet_data = data_c.drop('Age', axis=1)\n",
    "combinations_to_be_analysed = ['Rs', 'RssR', 'Rst']"
   ]
  },
  {
   "cell_type": "code",
   "execution_count": null,
   "metadata": {
    "scrolled": false
   },
   "outputs": [],
   "source": [
    "generate_experiment(\n",
    "    full_complet_data, combinations_to_be_analysed, complet_train_data, \n",
    "    test_dataframe, groups_to_classify=0\n",
    ")"
   ]
  },
  {
   "cell_type": "markdown",
   "metadata": {},
   "source": [
    "## [Rs RssR Rst] Only 2 features as input & Only 2 groups to classify\n",
    "- Group 5: 40~49\n",
    "- Group 6: >50"
   ]
  },
  {
   "cell_type": "code",
   "execution_count": null,
   "metadata": {},
   "outputs": [],
   "source": [
    "full_complet_data = data_c.drop('Age', axis=1)\n",
    "combinations_to_be_analysed = ['Rs', 'RssR', 'Rst']"
   ]
  },
  {
   "cell_type": "code",
   "execution_count": null,
   "metadata": {
    "scrolled": false
   },
   "outputs": [],
   "source": [
    "generate_experiment(\n",
    "    full_complet_data, combinations_to_be_analysed, complet_train_data, \n",
    "    test_dataframe, groups_to_classify=1\n",
    ")"
   ]
  },
  {
   "cell_type": "markdown",
   "metadata": {},
   "source": [
    "## [Cadence Rs RssL] Only 2 features as input & Only 2 groups to classify\n",
    "- Group 1: 0~10\n",
    "- Group 2: 20~29"
   ]
  },
  {
   "cell_type": "code",
   "execution_count": null,
   "metadata": {},
   "outputs": [],
   "source": [
    "full_complet_data = data_c.drop('Age', axis=1)\n",
    "combinations_to_be_analysed = ['Cadence', 'Rs', 'RssL']"
   ]
  },
  {
   "cell_type": "code",
   "execution_count": null,
   "metadata": {
    "scrolled": false
   },
   "outputs": [],
   "source": [
    "generate_experiment(\n",
    "    full_complet_data, combinations_to_be_analysed, complet_train_data, \n",
    "    test_dataframe, groups_to_classify=0\n",
    ")"
   ]
  },
  {
   "cell_type": "markdown",
   "metadata": {},
   "source": [
    "## [Cadence Rs RssL] Only 2 features as input & Only 2 groups to classify\n",
    "- Group 5: 40~49\n",
    "- Group 6: >50"
   ]
  },
  {
   "cell_type": "code",
   "execution_count": null,
   "metadata": {},
   "outputs": [],
   "source": [
    "full_complet_data = data_c.drop('Age', axis=1)\n",
    "combinations_to_be_analysed = ['Cadence', 'Rs', 'RssL']"
   ]
  },
  {
   "cell_type": "code",
   "execution_count": null,
   "metadata": {
    "scrolled": false
   },
   "outputs": [],
   "source": [
    "generate_experiment(\n",
    "    full_complet_data, combinations_to_be_analysed, complet_train_data, \n",
    "    test_dataframe, groups_to_classify=1\n",
    ")"
   ]
  },
  {
   "cell_type": "markdown",
   "metadata": {},
   "source": [
    "## [ACT[s] RssL RssR] Only 2 features as input & Only 2 groups to classify\n",
    "- Group 1: 0~10\n",
    "- Group 2: 20~29"
   ]
  },
  {
   "cell_type": "code",
   "execution_count": null,
   "metadata": {},
   "outputs": [],
   "source": [
    "full_complet_data = data_c.drop('Age', axis=1)\n",
    "combinations_to_be_analysed = ['ACT[s]', 'RssL', 'RssR']"
   ]
  },
  {
   "cell_type": "code",
   "execution_count": null,
   "metadata": {
    "scrolled": false
   },
   "outputs": [],
   "source": [
    "generate_experiment(\n",
    "    full_complet_data, combinations_to_be_analysed, complet_train_data, \n",
    "    test_dataframe, groups_to_classify=0\n",
    ")"
   ]
  },
  {
   "cell_type": "markdown",
   "metadata": {},
   "source": [
    "## [ACT[s] RssL RssR] Only 2 features as input & Only 2 groups to classify\n",
    "- Group 5: 40~49\n",
    "- Group 6: >50"
   ]
  },
  {
   "cell_type": "code",
   "execution_count": null,
   "metadata": {},
   "outputs": [],
   "source": [
    "full_complet_data = data_c.drop('Age', axis=1)\n",
    "combinations_to_be_analysed = ['ACT[s]', 'RssL', 'RssR']"
   ]
  },
  {
   "cell_type": "code",
   "execution_count": null,
   "metadata": {
    "scrolled": false
   },
   "outputs": [],
   "source": [
    "generate_experiment(\n",
    "    full_complet_data, combinations_to_be_analysed, complet_train_data, \n",
    "    test_dataframe, groups_to_classify=1\n",
    ")"
   ]
  },
  {
   "cell_type": "markdown",
   "metadata": {},
   "source": [
    "## [RssL Rst Rsw] Only 2 features as input & Only 2 groups to classify\n",
    "- Group 1: 0~10\n",
    "- Group 2: 20~29"
   ]
  },
  {
   "cell_type": "code",
   "execution_count": null,
   "metadata": {},
   "outputs": [],
   "source": [
    "full_complet_data = data_c.drop('Age', axis=1)\n",
    "combinations_to_be_analysed = ['RssL', 'Rst', 'Rsw']"
   ]
  },
  {
   "cell_type": "code",
   "execution_count": null,
   "metadata": {
    "scrolled": false
   },
   "outputs": [],
   "source": [
    "generate_experiment(\n",
    "    full_complet_data, combinations_to_be_analysed, complet_train_data, \n",
    "    test_dataframe, groups_to_classify=0\n",
    ")"
   ]
  },
  {
   "cell_type": "markdown",
   "metadata": {},
   "source": [
    "## [RssL Rst Rsw] Only 2 features as input & Only 2 groups to classify\n",
    "- Group 5: 40~49\n",
    "- Group 6: >50"
   ]
  },
  {
   "cell_type": "code",
   "execution_count": null,
   "metadata": {},
   "outputs": [],
   "source": [
    "full_complet_data = data_c.drop('Age', axis=1)\n",
    "combinations_to_be_analysed = ['RssL', 'Rst', 'Rsw']"
   ]
  },
  {
   "cell_type": "code",
   "execution_count": null,
   "metadata": {
    "scrolled": false
   },
   "outputs": [],
   "source": [
    "generate_experiment(\n",
    "    full_complet_data, combinations_to_be_analysed, complet_train_data, \n",
    "    test_dataframe, groups_to_classify=1\n",
    ")"
   ]
  },
  {
   "cell_type": "markdown",
   "metadata": {},
   "source": [
    "## [Cadence RssL Rsw] Only 2 features as input & Only 2 groups to classify\n",
    "- Group 1: 0~10\n",
    "- Group 2: 20~29"
   ]
  },
  {
   "cell_type": "code",
   "execution_count": null,
   "metadata": {},
   "outputs": [],
   "source": [
    "full_complet_data = data_c.drop('Age', axis=1)\n",
    "combinations_to_be_analysed = ['Rsw', 'RssL', 'Cadence']"
   ]
  },
  {
   "cell_type": "code",
   "execution_count": null,
   "metadata": {
    "scrolled": false
   },
   "outputs": [],
   "source": [
    "generate_experiment(\n",
    "    full_complet_data, combinations_to_be_analysed, complet_train_data, \n",
    "    test_dataframe, groups_to_classify=0\n",
    ")"
   ]
  },
  {
   "cell_type": "markdown",
   "metadata": {},
   "source": [
    "## [Cadence RssL Rsw] Only 2 features as input & Only 2 groups to classify\n",
    "- Group 5: 40~49\n",
    "- Group 6: >50"
   ]
  },
  {
   "cell_type": "code",
   "execution_count": null,
   "metadata": {},
   "outputs": [],
   "source": [
    "full_complet_data = data_c.drop('Age', axis=1)\n",
    "combinations_to_be_analysed = ['Rsw', 'RssL','Cadence']"
   ]
  },
  {
   "cell_type": "code",
   "execution_count": null,
   "metadata": {
    "scrolled": false
   },
   "outputs": [],
   "source": [
    "generate_experiment(\n",
    "    full_complet_data, combinations_to_be_analysed, complet_train_data, \n",
    "    test_dataframe, groups_to_classify=1\n",
    ")"
   ]
  },
  {
   "cell_type": "markdown",
   "metadata": {},
   "source": [
    "## [Rs RssR Rsw] Only 2 features as input & Only 2 groups to classify\n",
    "- Group 1: 0~10\n",
    "- Group 2: 20~29"
   ]
  },
  {
   "cell_type": "code",
   "execution_count": null,
   "metadata": {},
   "outputs": [],
   "source": [
    "full_complet_data = data_c.drop('Age', axis=1)\n",
    "combinations_to_be_analysed = ['RssR', 'Rs', 'Rsw']"
   ]
  },
  {
   "cell_type": "code",
   "execution_count": null,
   "metadata": {
    "scrolled": false
   },
   "outputs": [],
   "source": [
    "generate_experiment(\n",
    "    full_complet_data, combinations_to_be_analysed, complet_train_data, \n",
    "    test_dataframe, groups_to_classify=0\n",
    ")"
   ]
  },
  {
   "cell_type": "markdown",
   "metadata": {},
   "source": [
    "## [Rs RssR Rsw] Only 2 features as input & Only 2 groups to classify\n",
    "- Group 5: 40~49\n",
    "- Group 6: >50"
   ]
  },
  {
   "cell_type": "code",
   "execution_count": null,
   "metadata": {},
   "outputs": [],
   "source": [
    "full_complet_data = data_c.drop('Age', axis=1)\n",
    "combinations_to_be_analysed = ['RssR', 'Rs', 'Rsw']"
   ]
  },
  {
   "cell_type": "code",
   "execution_count": null,
   "metadata": {
    "scrolled": false
   },
   "outputs": [],
   "source": [
    "generate_experiment(\n",
    "    full_complet_data, combinations_to_be_analysed, complet_train_data, \n",
    "    test_dataframe, groups_to_classify=1\n",
    ")"
   ]
  },
  {
   "cell_type": "markdown",
   "metadata": {},
   "source": [
    "## [ACT[s] RssR Rst] Only 2 features as input & Only 2 groups to classify\n",
    "- Group 1: 0~10\n",
    "- Group 2: 20~29"
   ]
  },
  {
   "cell_type": "code",
   "execution_count": null,
   "metadata": {},
   "outputs": [],
   "source": [
    "full_complet_data = data_c.drop('Age', axis=1)\n",
    "combinations_to_be_analysed = ['RssR', 'Rst', 'ACT[s]']"
   ]
  },
  {
   "cell_type": "code",
   "execution_count": null,
   "metadata": {
    "scrolled": false
   },
   "outputs": [],
   "source": [
    "generate_experiment(\n",
    "    full_complet_data, combinations_to_be_analysed, complet_train_data, \n",
    "    test_dataframe, groups_to_classify=0\n",
    ")"
   ]
  },
  {
   "cell_type": "markdown",
   "metadata": {},
   "source": [
    "## [ACT[s] RssR Rst] Only 2 features as input & Only 2 groups to classify\n",
    "- Group 5: 40~49\n",
    "- Group 6: >50"
   ]
  },
  {
   "cell_type": "code",
   "execution_count": null,
   "metadata": {},
   "outputs": [],
   "source": [
    "full_complet_data = data_c.drop('Age', axis=1)\n",
    "combinations_to_be_analysed = ['RssR', 'Rst', 'ACT[s]']"
   ]
  },
  {
   "cell_type": "code",
   "execution_count": null,
   "metadata": {
    "scrolled": true
   },
   "outputs": [],
   "source": [
    "generate_experiment(\n",
    "    full_complet_data, combinations_to_be_analysed, complet_train_data, \n",
    "    test_dataframe, groups_to_classify=1\n",
    ")"
   ]
  },
  {
   "cell_type": "markdown",
   "metadata": {},
   "source": [
    "## [ACT[s] Rs Rst] Only 2 features as input & Only 2 groups to classify\n",
    "- Group 1: 0~10\n",
    "- Group 2: 20~29"
   ]
  },
  {
   "cell_type": "code",
   "execution_count": null,
   "metadata": {},
   "outputs": [],
   "source": [
    "full_complet_data = data_c.drop('Age', axis=1)\n",
    "combinations_to_be_analysed = ['ACT[s]', 'Rst', 'Rs']"
   ]
  },
  {
   "cell_type": "code",
   "execution_count": null,
   "metadata": {
    "scrolled": true
   },
   "outputs": [],
   "source": [
    "generate_experiment(\n",
    "    full_complet_data, combinations_to_be_analysed, complet_train_data, \n",
    "    test_dataframe, groups_to_classify=0\n",
    ")"
   ]
  },
  {
   "cell_type": "markdown",
   "metadata": {},
   "source": [
    "## [ACT[s] Rs Rst] Only 2 features as input & Only 2 groups to classify\n",
    "- Group 5: 40~49\n",
    "- Group 6: >50"
   ]
  },
  {
   "cell_type": "code",
   "execution_count": null,
   "metadata": {},
   "outputs": [],
   "source": [
    "full_complet_data = data_c.drop('Age', axis=1)\n",
    "combinations_to_be_analysed = ['ACT[s]', 'Rst', 'Rs']"
   ]
  },
  {
   "cell_type": "code",
   "execution_count": null,
   "metadata": {
    "scrolled": true
   },
   "outputs": [],
   "source": [
    "generate_experiment(\n",
    "    full_complet_data, combinations_to_be_analysed, complet_train_data, \n",
    "    test_dataframe, groups_to_classify=1\n",
    ")"
   ]
  },
  {
   "cell_type": "markdown",
   "metadata": {},
   "source": [
    "## [ACT[s] Rs RssL] Only 2 features as input & Only 2 groups to classify\n",
    "- Group 1: 0~10\n",
    "- Group 2: 20~29"
   ]
  },
  {
   "cell_type": "code",
   "execution_count": null,
   "metadata": {},
   "outputs": [],
   "source": [
    "full_complet_data = data_c.drop('Age', axis=1)\n",
    "combinations_to_be_analysed = ['ACT[s]', 'Rs', 'RssL']"
   ]
  },
  {
   "cell_type": "code",
   "execution_count": null,
   "metadata": {
    "scrolled": false
   },
   "outputs": [],
   "source": [
    "generate_experiment(\n",
    "    full_complet_data, combinations_to_be_analysed, complet_train_data, \n",
    "    test_dataframe, groups_to_classify=0\n",
    ")"
   ]
  },
  {
   "cell_type": "markdown",
   "metadata": {},
   "source": [
    "## [ACT[s] Rs RssL] Only 2 features as input & Only 2 groups to classify\n",
    "- Group 5: 40~49\n",
    "- Group 6: >50"
   ]
  },
  {
   "cell_type": "code",
   "execution_count": null,
   "metadata": {},
   "outputs": [],
   "source": [
    "full_complet_data = data_c.drop('Age', axis=1)\n",
    "combinations_to_be_analysed = ['ACT[s]', 'Rs', 'RssL']"
   ]
  },
  {
   "cell_type": "code",
   "execution_count": null,
   "metadata": {
    "scrolled": false
   },
   "outputs": [],
   "source": [
    "generate_experiment(\n",
    "    full_complet_data, combinations_to_be_analysed, complet_train_data, \n",
    "    test_dataframe, groups_to_classify=1\n",
    ")"
   ]
  },
  {
   "cell_type": "markdown",
   "metadata": {},
   "source": [
    "## [Cadence RssL Rst] Only 2 features as input & Only 2 groups to classify\n",
    "- Group 1: 0~10\n",
    "- Group 2: 20~29"
   ]
  },
  {
   "cell_type": "code",
   "execution_count": null,
   "metadata": {},
   "outputs": [],
   "source": [
    "full_complet_data = data_c.drop('Age', axis=1)\n",
    "combinations_to_be_analysed = ['RssL', 'Rst', 'Cadence']"
   ]
  },
  {
   "cell_type": "code",
   "execution_count": null,
   "metadata": {
    "scrolled": false
   },
   "outputs": [],
   "source": [
    "generate_experiment(\n",
    "    full_complet_data, combinations_to_be_analysed, complet_train_data, \n",
    "    test_dataframe, groups_to_classify=0\n",
    ")"
   ]
  },
  {
   "cell_type": "markdown",
   "metadata": {},
   "source": [
    "## [Cadence RssL Rst] Only 2 features as input & Only 2 groups to classify\n",
    "- Group 5: 40~49\n",
    "- Group 6: >50"
   ]
  },
  {
   "cell_type": "code",
   "execution_count": null,
   "metadata": {},
   "outputs": [],
   "source": [
    "full_complet_data = data_c.drop('Age', axis=1)\n",
    "combinations_to_be_analysed = ['RssL', 'Rst', 'Cadence']"
   ]
  },
  {
   "cell_type": "code",
   "execution_count": null,
   "metadata": {
    "scrolled": false
   },
   "outputs": [],
   "source": [
    "generate_experiment(\n",
    "    full_complet_data, combinations_to_be_analysed, complet_train_data, \n",
    "    test_dataframe, groups_to_classify=1\n",
    ")"
   ]
  },
  {
   "cell_type": "markdown",
   "metadata": {},
   "source": [
    "## [Cadence Rs Rst] Only 2 features as input & Only 2 groups to classify\n",
    "- Group 1: 0~10\n",
    "- Group 2: 20~29"
   ]
  },
  {
   "cell_type": "code",
   "execution_count": null,
   "metadata": {},
   "outputs": [],
   "source": [
    "full_complet_data = data_c.drop('Age', axis=1)\n",
    "combinations_to_be_analysed = ['Rs', 'Rst', 'Cadence']"
   ]
  },
  {
   "cell_type": "code",
   "execution_count": null,
   "metadata": {
    "scrolled": false
   },
   "outputs": [],
   "source": [
    "generate_experiment(\n",
    "    full_complet_data, combinations_to_be_analysed, complet_train_data, \n",
    "    test_dataframe, groups_to_classify=0\n",
    ")"
   ]
  },
  {
   "cell_type": "markdown",
   "metadata": {},
   "source": [
    "## [Cadence Rs Rst] Only 2 features as input & Only 2 groups to classify\n",
    "- Group 5: 40~49\n",
    "- Group 6: >50"
   ]
  },
  {
   "cell_type": "code",
   "execution_count": null,
   "metadata": {},
   "outputs": [],
   "source": [
    "full_complet_data = data_c.drop('Age', axis=1)\n",
    "combinations_to_be_analysed = ['Rs', 'Rst', 'Cadence']"
   ]
  },
  {
   "cell_type": "code",
   "execution_count": null,
   "metadata": {
    "scrolled": false
   },
   "outputs": [],
   "source": [
    "generate_experiment(\n",
    "    full_complet_data, combinations_to_be_analysed, complet_train_data, \n",
    "    test_dataframe, groups_to_classify=1\n",
    ")"
   ]
  },
  {
   "cell_type": "markdown",
   "metadata": {},
   "source": [
    "## [Rs RssL Rst] Only 2 features as input & Only 2 groups to classify\n",
    "- Group 1: 0~10\n",
    "- Group 2: 20~29"
   ]
  },
  {
   "cell_type": "code",
   "execution_count": null,
   "metadata": {},
   "outputs": [],
   "source": [
    "full_complet_data = data_c.drop('Age', axis=1)\n",
    "combinations_to_be_analysed = ['Rs', 'Rst', 'RssL']"
   ]
  },
  {
   "cell_type": "code",
   "execution_count": null,
   "metadata": {
    "scrolled": false
   },
   "outputs": [],
   "source": [
    "generate_experiment(\n",
    "    full_complet_data, combinations_to_be_analysed, complet_train_data, \n",
    "    test_dataframe, groups_to_classify=0\n",
    ")"
   ]
  },
  {
   "cell_type": "markdown",
   "metadata": {},
   "source": [
    "## [Rs RssL Rst] Only 2 features as input & Only 2 groups to classify\n",
    "- Group 5: 40~49\n",
    "- Group 6: >50"
   ]
  },
  {
   "cell_type": "code",
   "execution_count": null,
   "metadata": {},
   "outputs": [],
   "source": [
    "full_complet_data = data_c.drop('Age', axis=1)\n",
    "combinations_to_be_analysed = ['Rs', 'Rst', 'RssL']"
   ]
  },
  {
   "cell_type": "code",
   "execution_count": null,
   "metadata": {
    "scrolled": false
   },
   "outputs": [],
   "source": [
    "generate_experiment(\n",
    "    full_complet_data, combinations_to_be_analysed, complet_train_data, \n",
    "    test_dataframe, groups_to_classify=1\n",
    ")"
   ]
  },
  {
   "cell_type": "markdown",
   "metadata": {},
   "source": [
    "## [ACT[s] Cadence RssL] Only 2 features as input & Only 2 groups to classify\n",
    "- Group 1: 0~10\n",
    "- Group 2: 20~29"
   ]
  },
  {
   "cell_type": "code",
   "execution_count": null,
   "metadata": {},
   "outputs": [],
   "source": [
    "full_complet_data = data_c.drop('Age', axis=1)\n",
    "combinations_to_be_analysed = ['ACT[s]', 'Cadence', 'RssL']"
   ]
  },
  {
   "cell_type": "code",
   "execution_count": null,
   "metadata": {
    "scrolled": false
   },
   "outputs": [],
   "source": [
    "generate_experiment(\n",
    "    full_complet_data, combinations_to_be_analysed, complet_train_data, \n",
    "    test_dataframe, groups_to_classify=0\n",
    ")"
   ]
  },
  {
   "cell_type": "markdown",
   "metadata": {},
   "source": [
    "## [ACT[s] Cadence RssL] Only 2 features as input & Only 2 groups to classify\n",
    "- Group 5: 40~49\n",
    "- Group 6: >50"
   ]
  },
  {
   "cell_type": "code",
   "execution_count": null,
   "metadata": {},
   "outputs": [],
   "source": [
    "full_complet_data = data_c.drop('Age', axis=1)\n",
    "combinations_to_be_analysed = ['ACT[s]', 'Cadence', 'RssL']"
   ]
  },
  {
   "cell_type": "code",
   "execution_count": null,
   "metadata": {
    "scrolled": false
   },
   "outputs": [],
   "source": [
    "generate_experiment(\n",
    "    full_complet_data, combinations_to_be_analysed, complet_train_data, \n",
    "    test_dataframe, groups_to_classify=1\n",
    ")"
   ]
  },
  {
   "cell_type": "markdown",
   "metadata": {},
   "source": [
    "## [ACT[s] Cadence Rst] Only 2 features as input & Only 2 groups to classify\n",
    "- Group 1: 0~10\n",
    "- Group 2: 20~29"
   ]
  },
  {
   "cell_type": "code",
   "execution_count": null,
   "metadata": {},
   "outputs": [],
   "source": [
    "full_complet_data = data_c.drop('Age', axis=1)\n",
    "combinations_to_be_analysed = ['ACT[s]', 'Cadence', 'Rst']"
   ]
  },
  {
   "cell_type": "code",
   "execution_count": null,
   "metadata": {
    "scrolled": false
   },
   "outputs": [],
   "source": [
    "generate_experiment(\n",
    "    full_complet_data, combinations_to_be_analysed, complet_train_data, \n",
    "    test_dataframe, groups_to_classify=0\n",
    ")"
   ]
  },
  {
   "cell_type": "markdown",
   "metadata": {},
   "source": [
    "## [ACT[s] Cadence Rst] Only 2 features as input & Only 2 groups to classify\n",
    "- Group 5: 40~49\n",
    "- Group 6: >50"
   ]
  },
  {
   "cell_type": "code",
   "execution_count": null,
   "metadata": {},
   "outputs": [],
   "source": [
    "full_complet_data = data_c.drop('Age', axis=1)\n",
    "combinations_to_be_analysed = ['ACT[s]', 'Cadence', 'Rst']"
   ]
  },
  {
   "cell_type": "code",
   "execution_count": null,
   "metadata": {
    "scrolled": false
   },
   "outputs": [],
   "source": [
    "generate_experiment(\n",
    "    full_complet_data, combinations_to_be_analysed, complet_train_data, \n",
    "    test_dataframe, groups_to_classify=1\n",
    ")"
   ]
  },
  {
   "cell_type": "markdown",
   "metadata": {},
   "source": [
    "## Need to run (here down)"
   ]
  },
  {
   "cell_type": "markdown",
   "metadata": {},
   "source": [
    "## [ACT[s] Cadence RssR] Only 2 features as input & Only 2 groups to classify\n",
    "- Group 1: 0~10\n",
    "- Group 2: 20~29"
   ]
  },
  {
   "cell_type": "code",
   "execution_count": null,
   "metadata": {},
   "outputs": [],
   "source": [
    "full_complet_data = data_c.drop('Age', axis=1)\n",
    "combinations_to_be_analysed = ['ACT[s]', 'Cadence', 'RssR']"
   ]
  },
  {
   "cell_type": "code",
   "execution_count": null,
   "metadata": {
    "scrolled": false
   },
   "outputs": [],
   "source": [
    "generate_experiment(\n",
    "    full_complet_data, combinations_to_be_analysed, complet_train_data, \n",
    "    test_dataframe, groups_to_classify=0\n",
    ")"
   ]
  },
  {
   "cell_type": "markdown",
   "metadata": {},
   "source": [
    "## [ACT[s] Cadence RssR] Only 2 features as input & Only 2 groups to classify\n",
    "- Group 5: 40~49\n",
    "- Group 6: >50"
   ]
  },
  {
   "cell_type": "code",
   "execution_count": null,
   "metadata": {},
   "outputs": [],
   "source": [
    "full_complet_data = data_c.drop('Age', axis=1)\n",
    "combinations_to_be_analysed = ['ACT[s]', 'Cadence', 'RssR']"
   ]
  },
  {
   "cell_type": "code",
   "execution_count": null,
   "metadata": {
    "scrolled": false
   },
   "outputs": [],
   "source": [
    "generate_experiment(\n",
    "    full_complet_data, combinations_to_be_analysed, complet_train_data, \n",
    "    test_dataframe, groups_to_classify=1\n",
    ")"
   ]
  },
  {
   "cell_type": "markdown",
   "metadata": {},
   "source": [
    "## [Cadence Rs RssR] Only 2 features as input & Only 2 groups to classify\n",
    "- Group 1: 0~10\n",
    "- Group 2: 20~29"
   ]
  },
  {
   "cell_type": "code",
   "execution_count": null,
   "metadata": {},
   "outputs": [],
   "source": [
    "full_complet_data = data_c.drop('Age', axis=1)\n",
    "combinations_to_be_analysed = ['Rs', 'Cadence', 'RssR']"
   ]
  },
  {
   "cell_type": "code",
   "execution_count": null,
   "metadata": {
    "scrolled": false
   },
   "outputs": [],
   "source": [
    "generate_experiment(\n",
    "    full_complet_data, combinations_to_be_analysed, complet_train_data, \n",
    "    test_dataframe, groups_to_classify=0\n",
    ")"
   ]
  },
  {
   "cell_type": "markdown",
   "metadata": {},
   "source": [
    "## [Cadence Rs RssR] Only 2 features as input & Only 2 groups to classify\n",
    "- Group 5: 40~49\n",
    "- Group 6: >50"
   ]
  },
  {
   "cell_type": "code",
   "execution_count": null,
   "metadata": {},
   "outputs": [],
   "source": [
    "full_complet_data = data_c.drop('Age', axis=1)\n",
    "combinations_to_be_analysed = ['Rs', 'Cadence', 'RssR']"
   ]
  },
  {
   "cell_type": "code",
   "execution_count": null,
   "metadata": {
    "scrolled": false
   },
   "outputs": [],
   "source": [
    "generate_experiment(\n",
    "    full_complet_data, combinations_to_be_analysed, complet_train_data, \n",
    "    test_dataframe, groups_to_classify=1\n",
    ")"
   ]
  },
  {
   "cell_type": "markdown",
   "metadata": {},
   "source": [
    "## [Cadence Rs Rsw] Only 2 features as input & Only 2 groups to classify\n",
    "- Group 1: 0~10\n",
    "- Group 2: 20~29"
   ]
  },
  {
   "cell_type": "code",
   "execution_count": null,
   "metadata": {},
   "outputs": [],
   "source": [
    "full_complet_data = data_c.drop('Age', axis=1)\n",
    "combinations_to_be_analysed = ['Rs', 'Cadence', 'Rsw']"
   ]
  },
  {
   "cell_type": "code",
   "execution_count": null,
   "metadata": {
    "scrolled": false
   },
   "outputs": [],
   "source": [
    "generate_experiment(\n",
    "    full_complet_data, combinations_to_be_analysed, complet_train_data, \n",
    "    test_dataframe, groups_to_classify=0\n",
    ")"
   ]
  },
  {
   "cell_type": "markdown",
   "metadata": {},
   "source": [
    "## [Cadence Rs Rsw] Only 2 features as input & Only 2 groups to classify\n",
    "- Group 5: 40~49\n",
    "- Group 6: >50"
   ]
  },
  {
   "cell_type": "code",
   "execution_count": null,
   "metadata": {},
   "outputs": [],
   "source": [
    "full_complet_data = data_c.drop('Age', axis=1)\n",
    "combinations_to_be_analysed = ['Rs', 'Cadence', 'Rsw']"
   ]
  },
  {
   "cell_type": "code",
   "execution_count": null,
   "metadata": {
    "scrolled": false
   },
   "outputs": [],
   "source": [
    "generate_experiment(\n",
    "    full_complet_data, combinations_to_be_analysed, complet_train_data, \n",
    "    test_dataframe, groups_to_classify=1\n",
    ")"
   ]
  },
  {
   "cell_type": "markdown",
   "metadata": {},
   "source": [
    "## [Cadence RssL RssR] Only 2 features as input & Only 2 groups to classify\n",
    "- Group 1: 0~10\n",
    "- Group 2: 20~29"
   ]
  },
  {
   "cell_type": "code",
   "execution_count": null,
   "metadata": {},
   "outputs": [],
   "source": [
    "full_complet_data = data_c.drop('Age', axis=1)\n",
    "combinations_to_be_analysed = ['RssL', 'Cadence', 'RssR']"
   ]
  },
  {
   "cell_type": "code",
   "execution_count": null,
   "metadata": {},
   "outputs": [],
   "source": [
    "generate_experiment(\n",
    "    full_complet_data, combinations_to_be_analysed, complet_train_data, \n",
    "    test_dataframe, groups_to_classify=0\n",
    ")"
   ]
  },
  {
   "cell_type": "markdown",
   "metadata": {},
   "source": [
    "## [Cadence RssL RssR] Only 2 features as input & Only 2 groups to classify\n",
    "- Group 5: 40~49\n",
    "- Group 6: >50"
   ]
  },
  {
   "cell_type": "code",
   "execution_count": null,
   "metadata": {},
   "outputs": [],
   "source": [
    "full_complet_data = data_c.drop('Age', axis=1)\n",
    "combinations_to_be_analysed = ['RssL', 'Cadence', 'RssR']"
   ]
  },
  {
   "cell_type": "code",
   "execution_count": null,
   "metadata": {},
   "outputs": [],
   "source": [
    "generate_experiment(\n",
    "    full_complet_data, combinations_to_be_analysed, complet_train_data, \n",
    "    test_dataframe, groups_to_classify=1\n",
    ")"
   ]
  },
  {
   "cell_type": "markdown",
   "metadata": {},
   "source": [
    "## [Cadence RssR Rst] Only 2 features as input & Only 2 groups to classify\n",
    "- Group 1: 0~10\n",
    "- Group 2: 20~29"
   ]
  },
  {
   "cell_type": "code",
   "execution_count": null,
   "metadata": {},
   "outputs": [],
   "source": [
    "full_complet_data = data_c.drop('Age', axis=1)\n",
    "combinations_to_be_analysed = ['Rst', 'Cadence', 'RssR']"
   ]
  },
  {
   "cell_type": "code",
   "execution_count": null,
   "metadata": {},
   "outputs": [],
   "source": [
    "generate_experiment(\n",
    "    full_complet_data, combinations_to_be_analysed, complet_train_data, \n",
    "    test_dataframe, groups_to_classify=0\n",
    ")"
   ]
  },
  {
   "cell_type": "markdown",
   "metadata": {},
   "source": [
    "## [Cadence RssR Rst] Only 2 features as input & Only 2 groups to classify\n",
    "- Group 5: 40~49\n",
    "- Group 6: >50"
   ]
  },
  {
   "cell_type": "code",
   "execution_count": null,
   "metadata": {},
   "outputs": [],
   "source": [
    "full_complet_data = data_c.drop('Age', axis=1)\n",
    "combinations_to_be_analysed = ['Rst', 'Cadence', 'RssR']"
   ]
  },
  {
   "cell_type": "code",
   "execution_count": null,
   "metadata": {},
   "outputs": [],
   "source": [
    "generate_experiment(\n",
    "    full_complet_data, combinations_to_be_analysed, complet_train_data, \n",
    "    test_dataframe, groups_to_classify=1\n",
    ")"
   ]
  },
  {
   "cell_type": "markdown",
   "metadata": {},
   "source": [
    "## [Cadence RssR Rsw] Only 2 features as input & Only 2 groups to classify\n",
    "- Group 1: 0~10\n",
    "- Group 2: 20~29"
   ]
  },
  {
   "cell_type": "code",
   "execution_count": null,
   "metadata": {},
   "outputs": [],
   "source": [
    "full_complet_data = data_c.drop('Age', axis=1)\n",
    "combinations_to_be_analysed = ['Rsw', 'Cadence', 'RssR']"
   ]
  },
  {
   "cell_type": "code",
   "execution_count": null,
   "metadata": {},
   "outputs": [],
   "source": [
    "generate_experiment(\n",
    "    full_complet_data, combinations_to_be_analysed, complet_train_data, \n",
    "    test_dataframe, groups_to_classify=0\n",
    ")"
   ]
  },
  {
   "cell_type": "markdown",
   "metadata": {},
   "source": [
    "## [Cadence RssR Rsw] Only 2 features as input & Only 2 groups to classify\n",
    "- Group 5: 40~49\n",
    "- Group 6: >50"
   ]
  },
  {
   "cell_type": "code",
   "execution_count": null,
   "metadata": {},
   "outputs": [],
   "source": [
    "full_complet_data = data_c.drop('Age', axis=1)\n",
    "combinations_to_be_analysed = ['Rsw', 'Cadence', 'RssR']"
   ]
  },
  {
   "cell_type": "code",
   "execution_count": null,
   "metadata": {},
   "outputs": [],
   "source": [
    "generate_experiment(\n",
    "    full_complet_data, combinations_to_be_analysed, complet_train_data, \n",
    "    test_dataframe, groups_to_classify=1\n",
    ")"
   ]
  },
  {
   "cell_type": "code",
   "execution_count": null,
   "metadata": {},
   "outputs": [],
   "source": []
  },
  {
   "cell_type": "markdown",
   "metadata": {},
   "source": [
    "## All combinations\n",
    "\n",
    "- ACT[s] Cadence Rs   - OK\n",
    "- ACT[s] Cadence RssL   - OK\n",
    "- ACT[s] Cadence RssR   - OK\n",
    "- ACT[s] Cadence Rst   - OK\n",
    "- ACT[s] Cadence Rsw   - OK\n",
    "- ACT[s] Rs RssL      - OK\n",
    "- ACT[s] Rs RssR\n",
    "- ACT[s] Rs Rst   - OK\n",
    "- ACT[s] Rs Rsw\n",
    "- ACT[s] RssL RssR   - OK\n",
    "- ACT[s] RssL Rst\n",
    "- ACT[s] RssL Rsw\n",
    "- ACT[s] RssR Rst   - OK\n",
    "- ACT[s] RssR Rsw\n",
    "- ACT[s] Rst Rsw\n",
    "- Cadence Rs RssL   - OK\n",
    "- Cadence Rs RssR   - OK\n",
    "- Cadence Rs Rst   -    OK\n",
    "- Cadence Rs Rsw     - OK\n",
    "- Cadence RssL RssR  - OK\n",
    "- Cadence RssL Rst    - OK\n",
    "- Cadence RssL Rsw   -OK\n",
    "- Cadence RssR Rst   - OK\n",
    "- Cadence RssR Rsw   - OK\n",
    "- Cadence Rst Rsw   - OK\n",
    "- Rs RssL RssR\n",
    "- Rs RssL Rst     -  OK\n",
    "- Rs RssL Rsw\n",
    "- Rs RssR Rst  - OK\n",
    "- Rs RssR Rsw  - OK\n",
    "- Rs Rst Rsw\n",
    "- RssL RssR Rst\n",
    "- RssL RssR Rsw\n",
    "- RssL Rst Rsw   - OK\n",
    "- RssR Rst Rsw   - OK "
   ]
  },
  {
   "cell_type": "code",
   "execution_count": null,
   "metadata": {},
   "outputs": [],
   "source": []
  }
 ],
 "metadata": {
  "kernelspec": {
   "display_name": "hybrid-approach",
   "language": "python",
   "name": "hybrid-approach"
  },
  "language_info": {
   "codemirror_mode": {
    "name": "ipython",
    "version": 3
   },
   "file_extension": ".py",
   "mimetype": "text/x-python",
   "name": "python",
   "nbconvert_exporter": "python",
   "pygments_lexer": "ipython3",
   "version": "3.6.3"
  }
 },
 "nbformat": 4,
 "nbformat_minor": 2
}
