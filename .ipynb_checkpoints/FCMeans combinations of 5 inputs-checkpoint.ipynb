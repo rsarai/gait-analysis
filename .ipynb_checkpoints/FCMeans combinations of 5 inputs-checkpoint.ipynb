{
 "cells": [
  {
   "cell_type": "markdown",
   "metadata": {},
   "source": [
    "## Scikit-Fuzzy\n",
    "\n",
    "Scikit-Fuzzy (http://pythonhosted.org/scikit-fuzzy/) is a Python package based on SciPy that allows implementing all the most important fuzzy logic algorithms (including fuzzy C-means).\n",
    "\n",
    "The cmeans function returns many values, but for our purposes, the most important are: the first one, which is the array containing the cluster centroids; the second one, which is the final membership degree matrix; and the last one, the partition coefficient. In order to analyze the result, we can start with the partition coefficient"
   ]
  },
  {
   "cell_type": "markdown",
   "metadata": {},
   "source": [
    "## General Imports"
   ]
  },
  {
   "cell_type": "code",
   "execution_count": 1,
   "metadata": {},
   "outputs": [
    {
     "name": "stderr",
     "output_type": "stream",
     "text": [
      "backend module://ipykernel.pylab.backend_inline version unknown\n"
     ]
    }
   ],
   "source": [
    "from __future__ import division, print_function\n",
    "import matplotlib.pylab as plt\n",
    "import pandas as pd\n",
    "import numpy as np\n",
    "import sompy\n",
    "import skfuzzy as fuzz"
   ]
  },
  {
   "cell_type": "code",
   "execution_count": 2,
   "metadata": {},
   "outputs": [],
   "source": [
    "data_location = './data/5_gait_symmetry_ratios_and_2_kinematic_features_from_180_samples2.csv'\n",
    "complet_data = pd.read_csv(data_location)\n",
    "\n",
    "data = complet_data.drop(['Age'], axis=1)\n",
    "data = data.values\n",
    "\n",
    "group_0_10 = data[:30]\n",
    "group_10_19 = data[30:60]\n",
    "group_20_29 = data[60:90]\n",
    "group_30_39 = data[90:120]\n",
    "group_40_49 = data[120:150]\n",
    "group_over_50 = data[150:]"
   ]
  },
  {
   "cell_type": "markdown",
   "metadata": {},
   "source": [
    "## LIbrary example"
   ]
  },
  {
   "cell_type": "code",
   "execution_count": 3,
   "metadata": {
    "scrolled": false
   },
   "outputs": [
    {
     "name": "stderr",
     "output_type": "stream",
     "text": [
      "findfont: Matching :family=sans-serif:style=normal:variant=normal:weight=normal:stretch=normal:size=10.0 to DejaVu Sans ('/home/sarai/.virtualenvs/jupyter-notebook/lib/python3.6/site-packages/matplotlib/mpl-data/fonts/ttf/DejaVuSans.ttf') with score of 0.050000\n"
     ]
    },
    {
     "data": {
      "image/png": "[encoded data removed]",
      "text/plain": [
       "<Figure size 432x288 with 1 Axes>"
      ]
     },
     "metadata": {},
     "output_type": "display_data"
    }
   ],
   "source": [
    "from __future__ import division, print_function\n",
    "import numpy as np\n",
    "import matplotlib.pyplot as plt\n",
    "import skfuzzy as fuzz\n",
    "\n",
    "colors = ['b', 'orange', 'g', 'r', 'c', 'm', 'y', 'k', 'Brown', 'ForestGreen']\n",
    "\n",
    "# Define three cluster centers\n",
    "centers = [[4, 2],\n",
    "           [1, 7],\n",
    "           [5, 6]]\n",
    "\n",
    "# Define three cluster sigmas in x and y, respectively\n",
    "sigmas = [[0.8, 0.3],\n",
    "          [0.3, 0.5],\n",
    "          [1.1, 0.7]]\n",
    "\n",
    "# Generate test data\n",
    "np.random.seed(42)  # Set seed for reproducibility\n",
    "xpts = np.zeros(1)\n",
    "ypts = np.zeros(1)\n",
    "labels = np.zeros(1)\n",
    "for i, ((xmu, ymu), (xsigma, ysigma)) in enumerate(zip(centers, sigmas)):\n",
    "    xpts = np.hstack((xpts, np.random.standard_normal(200) * xsigma + xmu))\n",
    "    ypts = np.hstack((ypts, np.random.standard_normal(200) * ysigma + ymu))\n",
    "    labels = np.hstack((labels, np.ones(200) * i))\n",
    "\n",
    "# Set up the loop and plot\n",
    "alldata = np.vstack((xpts, ypts))\n",
    "\n",
    "fpcs = []\n",
    "ncenters = 3\n",
    "\n",
    "cntr, u, u0, d, jm, p, fpc = fuzz.cluster.cmeans(\n",
    "    alldata, \n",
    "    ncenters, \n",
    "    2, \n",
    "    error=0.005, \n",
    "    maxiter=1000, \n",
    "    init=None\n",
    ")\n",
    "\n",
    "# Store fpc values for later\n",
    "fpcs.append(fpc)\n",
    "\n",
    "# Plot assigned clusters, for each data point in training set\n",
    "cluster_membership = np.argmax(u, axis=0)\n",
    "for j in range(ncenters):\n",
    "    plt.plot(xpts[cluster_membership == j],\n",
    "             ypts[cluster_membership == j], '.', color=colors[j])\n",
    "\n",
    "# Mark the center of each fuzzy cluster\n",
    "for pt in cntr:\n",
    "    plt.plot(pt[0], pt[1], 'rs')\n",
    "\n",
    "#plt.set_title('Centers = {0}; FPC = {1:.2f}'.format(ncenters, fpc))\n",
    "#plt.axis('off')\n",
    "\n",
    "plt.tight_layout()"
   ]
  },
  {
   "cell_type": "markdown",
   "metadata": {},
   "source": [
    "## General Functions"
   ]
  },
  {
   "cell_type": "code",
   "execution_count": 4,
   "metadata": {},
   "outputs": [],
   "source": [
    "import itertools\n",
    "def plot_confusion_matrix(cm, classes,\n",
    "                          normalize=False,\n",
    "                          title='Confusion matrix',\n",
    "                          cmap=plt.cm.Blues):\n",
    "    \"\"\"\n",
    "    This function prints and plots the confusion matrix.\n",
    "    Normalization can be applied by setting `normalize=True`.\n",
    "    \"\"\"\n",
    "    if normalize:\n",
    "        cm = cm.astype('float') / cm.sum(axis=1)[:, np.newaxis]\n",
    "        print(\"Normalized confusion matrix\")\n",
    "    else:\n",
    "        print('Confusion matrix, without normalization')\n",
    "\n",
    "    print(cm)\n",
    "\n",
    "    plt.imshow(cm, interpolation='nearest', cmap=cmap)\n",
    "    plt.title(title)\n",
    "    plt.colorbar()\n",
    "    tick_marks = np.arange(len(classes))\n",
    "    plt.xticks(tick_marks, classes, rotation=45)\n",
    "    plt.yticks(tick_marks, classes)\n",
    "\n",
    "    fmt = '.2f' if normalize else 'd'\n",
    "    thresh = cm.max() / 2.\n",
    "    for i, j in itertools.product(range(cm.shape[0]), range(cm.shape[1])):\n",
    "        plt.text(j, i, format(cm[i, j], fmt),\n",
    "                 horizontalalignment=\"center\",\n",
    "                 color=\"white\" if cm[i, j] > thresh else \"black\")\n",
    "\n",
    "    plt.ylabel('True label')\n",
    "    plt.xlabel('Predicted label')\n",
    "    plt.tight_layout()"
   ]
  },
  {
   "cell_type": "code",
   "execution_count": 5,
   "metadata": {},
   "outputs": [],
   "source": [
    "def plot_data(som, full_complet_data, plot1=True, plot2=True, plot3=True, plot4=True, plot5=True, plot6=True):\n",
    "    data = full_complet_data.values\n",
    "    group_0_10 = data[:30]\n",
    "    group_10_19 = data[30:60]\n",
    "    group_20_29 = data[60:90]\n",
    "    group_30_39 = data[90:120]\n",
    "    group_40_49 = data[120:150]\n",
    "    group_over_50 = data[150:]\n",
    "\n",
    "    plt.figure(figsize=(20,20))\n",
    "    if plot1:\n",
    "        proj = som.project_data(group_0_10)\n",
    "        coord = som.bmu_ind_to_xy(proj)\n",
    "        plt.subplot(321)\n",
    "        plt.plot(coord[:, 1], coord[:, 0], marker='.', linestyle='--', color='r')\n",
    "\n",
    "    if plot2:\n",
    "        proj = som.project_data(group_10_19)\n",
    "        coord = som.bmu_ind_to_xy(proj)\n",
    "        plt.subplot(322)\n",
    "        plt.plot(coord[:, 1], coord[:, 0], c='black', linestyle='--',\n",
    "                                marker='.')\n",
    "    if plot3:\n",
    "        proj = som.project_data(group_20_29)\n",
    "        coord = som.bmu_ind_to_xy(proj)\n",
    "        plt.subplot(323)\n",
    "        plt.plot(coord[:, 1], coord[:, 0], c='brown',\n",
    "                                marker='.', linestyle='--',)\n",
    "    if plot4:\n",
    "        proj = som.project_data(group_30_39)\n",
    "        coord = som.bmu_ind_to_xy(proj)\n",
    "        plt.subplot(324)\n",
    "        plt.plot(coord[:, 1], coord[:, 0], c='blue',\n",
    "                                marker='.', linestyle='--',)\n",
    "    if plot5:\n",
    "        proj = som.project_data(group_40_49)\n",
    "        coord = som.bmu_ind_to_xy(proj)\n",
    "        plt.subplot(325)\n",
    "        plt.plot(coord[:, 1], coord[:, 0], c='green',\n",
    "                                marker='.', linestyle='--',)\n",
    "    if plot6:\n",
    "        proj = som.project_data(group_over_50)\n",
    "        coord = som.bmu_ind_to_xy(proj)\n",
    "        plt.subplot(326)\n",
    "        plt.plot(coord[:, 1], coord[:, 0], c='orange', marker='.', linestyle='--',)"
   ]
  },
  {
   "cell_type": "code",
   "execution_count": 6,
   "metadata": {},
   "outputs": [],
   "source": [
    "def plot_dots(som, full_complet_data, plot1=True, plot2=True, plot3=True, plot4=True, plot5=True, plot6=True):\n",
    "    data = full_complet_data.values\n",
    "    group_0_10 = data[:30]\n",
    "    group_10_19 = data[30:60]\n",
    "    group_20_29 = data[60:90]\n",
    "    group_30_39 = data[90:120]\n",
    "    group_40_49 = data[120:150]\n",
    "    group_over_50 = data[150:]\n",
    "    \n",
    "    plt.figure(figsize=(20,20))\n",
    "    if plot1:\n",
    "        proj = som.project_data(group_0_10)\n",
    "        coord = som.bmu_ind_to_xy(proj)\n",
    "        plt.subplot(321)\n",
    "        plt.scatter(coord[:, 1], coord[:, 0], s=2, alpha=1., c='Gray',\n",
    "                                marker='o', cmap='jet', linewidths=3, edgecolor='Gray')\n",
    "\n",
    "    if plot2:\n",
    "        proj = som.project_data(group_10_19)\n",
    "        coord = som.bmu_ind_to_xy(proj)\n",
    "        plt.subplot(322)\n",
    "        plt.scatter(coord[:, 1], coord[:, 0], s=2, alpha=1., c='black',\n",
    "                                marker='o', cmap='jet', linewidths=3, edgecolor='black')\n",
    "    if plot3:\n",
    "        proj = som.project_data(group_20_29)\n",
    "        coord = som.bmu_ind_to_xy(proj)\n",
    "        plt.subplot(323)\n",
    "        plt.scatter(coord[:, 1], coord[:, 0], s=2, alpha=1., c='brown',\n",
    "                                marker='o', cmap='jet', linewidths=3, edgecolor='brown')\n",
    "    if plot4:\n",
    "        proj = som.project_data(group_30_39)\n",
    "        coord = som.bmu_ind_to_xy(proj)\n",
    "        plt.subplot(324)\n",
    "        plt.scatter(coord[:, 1], coord[:, 0], s=2, alpha=1., c='blue',\n",
    "                                marker='o', cmap='jet', linewidths=3, edgecolor='blue')\n",
    "    if plot5:\n",
    "        proj = som.project_data(group_40_49)\n",
    "        coord = som.bmu_ind_to_xy(proj)\n",
    "        plt.subplot(325)\n",
    "        plt.scatter(coord[:, 1], coord[:, 0], s=2, alpha=1., c='green',\n",
    "                                marker='o', cmap='jet', linewidths=3, edgecolor='green')\n",
    "    if plot6:\n",
    "        proj = som.project_data(group_over_50)\n",
    "        coord = som.bmu_ind_to_xy(proj)\n",
    "        plt.subplot(326)\n",
    "        plt.scatter(coord[:, 1], coord[:, 0], s=2, alpha=1., c='red',\n",
    "                                marker='o', cmap='jet', linewidths=3, edgecolor='red')"
   ]
  },
  {
   "cell_type": "code",
   "execution_count": 7,
   "metadata": {},
   "outputs": [],
   "source": [
    "def get_prediction_vs_real(som, data, complet_data, cmeans_fc, num_classes):\n",
    "    from skfuzzy.cluster import cmeans_predict\n",
    "    \n",
    "    normalized_data = som._normalizer.normalize_by(som.data_raw, data)\n",
    "    normalized_data = normalized_data.T\n",
    "\n",
    "    # Predict new cluster membership with `cmeans_predict` as well as `cntr`\n",
    "    u, u0, d, jm, p, fpc = cmeans_predict(normalized_data, cmeans_fc, 2, \n",
    "                                          error=0.005, maxiter=1000)\n",
    "    # Plot the classified uniform data. Note for visualization the maximum\n",
    "    # membership value has been taken at each point (i.e. these are hardened,\n",
    "    # not fuzzy results visualized) but the full fuzzy result is the output\n",
    "    # from cmeans_predict.\n",
    "    # cluster_membership = np.argmax(u, axis=0)  # Hardening for visualization\n",
    "    # fig3, ax3 = plt.subplots()\n",
    "    # ax3.set_title('Random points classifed according to known centers')\n",
    "    # for j in range(num_classes):\n",
    "    #     ax3.plot(normalized_data[cluster_membership == j, 0],\n",
    "    #              normalized_data[cluster_membership == j, 1], 'o',\n",
    "    #              label='series ' + str(j))\n",
    "    # ax3.legend()\n",
    "    # plt.show()\n",
    "    complet_data['Cluster'] = np.argmax(u, axis=0)\n",
    "    return complet_data\n",
    "\n",
    "def get_false_positives(conf_matrix, num_classes=6):\n",
    "    false_positive = []\n",
    "    for i in range(num_classes):\n",
    "        false_positive.append(sum(conf_matrix[:,i]) - conf_matrix[i,i])\n",
    "    return false_positive\n",
    "\n",
    "def get_false_negatives(conf_matrix, num_classes=6):\n",
    "    false_negative = []\n",
    "    for i in range(num_classes):\n",
    "        false_negative.append(sum(conf_matrix[i,:]) - conf_matrix[i,i])\n",
    "    return false_negative\n",
    "\n",
    "def generate_confusion_matrix(complet_data, classes_name=['0~10', '10~19', '20~29', '30~39', '40~49', '>50']):\n",
    "    from sklearn import metrics\n",
    "\n",
    "    conf_matrix = metrics.confusion_matrix(complet_data['Age'], complet_data['Cluster'])\n",
    "    plt.figure()\n",
    "    plot_confusion_matrix(conf_matrix, classes=classes_name,\n",
    "                          title='Confusion matrix, without normalization')\n",
    "    return conf_matrix\n",
    "\n",
    "def get_metrics(conf_matrix, num_classes=6):\n",
    "    true_positives = np.diag(conf_matrix)\n",
    "    false_positives = get_false_positives(conf_matrix, num_classes)\n",
    "    false_negatives = get_false_negatives(conf_matrix, num_classes)\n",
    "\n",
    "    true_positives = sum(true_positives)\n",
    "    false_positives = sum(false_positives)\n",
    "    false_negatives = sum(false_negatives)\n",
    "\n",
    "    print()\n",
    "    print('true_positives total:', true_positives)\n",
    "    print('false_positives total:', false_positives)\n",
    "    print('false_negatives total:', false_negatives)\n",
    "    \n",
    "def get_precision_recal_f1_score_and_accuracy(complet_data):\n",
    "    precision = metrics.precision_score(complet_data['Age'], complet_data['Cluster'], average='macro')\n",
    "    recal = metrics.recall_score(complet_data['Age'], complet_data['Cluster'], average='micro')\n",
    "    f1_score = metrics.f1_score(complet_data['Age'], complet_data['Cluster'], average='weighted')\n",
    "    accuracy = metrics.accuracy_score(complet_data['Age'], complet_data['Cluster'])\n",
    "    \n",
    "    print()\n",
    "    print('Precision: ', precision)\n",
    "    print('Recal: ', recal)\n",
    "    print('F1-Score: ', f1_score)\n",
    "    print('Accuracy: ', accuracy)"
   ]
  },
  {
   "cell_type": "code",
   "execution_count": 8,
   "metadata": {},
   "outputs": [],
   "source": [
    "from sklearn import metrics\n",
    "\n",
    "def evaluate_som(som, data, complet_data, cmeans_fc, n_clusters=6, \n",
    "                 classes_name=['0~10', '10~19', '20~29', '30~39', '40~49', '>50']):\n",
    "    # define which cluster number represents each Age group.\n",
    "    complet_data = get_prediction_vs_real(som, data, complet_data, cmeans_fc, \n",
    "                                          num_classes=len(classes_name))\n",
    "\n",
    "    # Plot confusion matrix\n",
    "    conf_matrix = generate_confusion_matrix(complet_data, classes_name)\n",
    "    \n",
    "    # Show true positives, false negatives, false positives\n",
    "    get_metrics(conf_matrix, num_classes=len(classes_name))\n",
    "    \n",
    "    # Show metrics\n",
    "    get_precision_recal_f1_score_and_accuracy(complet_data)\n",
    "    return complet_data"
   ]
  },
  {
   "cell_type": "code",
   "execution_count": 9,
   "metadata": {},
   "outputs": [],
   "source": [
    "def analyse_cluster_per_group(complet_data):\n",
    "    complet_data[complet_data.Age.values == complet_data.Cluster.values]\n",
    "    complet_data['Cluster'].value_counts()\n",
    "    return complet_data.groupby('Age')['Cluster'].value_counts()"
   ]
  },
  {
   "cell_type": "code",
   "execution_count": 10,
   "metadata": {},
   "outputs": [],
   "source": [
    "def evaluate_group_1_and_3(som, complet_data, test_dataframe, group_1_and_3, \n",
    "                           group_1_and_3_test, cmeans_fc):\n",
    "    print('-------------------------------------------------------------------------------------------------')\n",
    "    new_complet_data = complet_data.copy()\n",
    "    new_complet_data = new_complet_data.drop(new_complet_data[new_complet_data['Age'] == 1].index)\n",
    "    new_complet_data = new_complet_data.drop(new_complet_data[new_complet_data['Age'] == 3].index)\n",
    "    new_complet_data = new_complet_data.drop(new_complet_data[new_complet_data['Age'] == 4].index)\n",
    "    new_complet_data = new_complet_data.drop(new_complet_data[new_complet_data['Age'] == 5].index)\n",
    "\n",
    "\n",
    "    new_test_dataframe = test_dataframe.copy()\n",
    "    new_test_dataframe = new_test_dataframe.drop(new_test_dataframe[new_test_dataframe['Age'] == 1].index)\n",
    "    new_test_dataframe = new_test_dataframe.drop(new_test_dataframe[new_test_dataframe['Age'] == 3].index)\n",
    "    new_test_dataframe = new_test_dataframe.drop(new_test_dataframe[new_test_dataframe['Age'] == 4].index)\n",
    "    new_test_dataframe = new_test_dataframe.drop(new_test_dataframe[new_test_dataframe['Age'] == 5].index)\n",
    "\n",
    "    # Replaces age groups number by 0 and 1\n",
    "    new_complet_data.loc[new_complet_data['Age'] == 0, 'Age'] = 1\n",
    "    new_complet_data.loc[new_complet_data['Age'] == 2, 'Age'] = 0\n",
    "\n",
    "    new_test_dataframe.loc[new_test_dataframe['Age'] == 0, 'Age'] = 1\n",
    "    new_test_dataframe.loc[new_test_dataframe['Age'] == 2, 'Age'] = 0\n",
    "\n",
    "    evaluate_som(som, group_1_and_3, new_complet_data, cmeans_fc, \n",
    "                 classes_name=['0~10', '20~29'])\n",
    "    \n",
    "    print('-------------------TEST DATASET EVALUATION----------------------')\n",
    "    complet_data = evaluate_som(som, group_1_and_3_test, new_test_dataframe, cmeans_fc, \n",
    "                                classes_name=['0~10', '20~29']) \n",
    "    \n",
    "    analyse_cluster_per_group(complet_data)"
   ]
  },
  {
   "cell_type": "code",
   "execution_count": 11,
   "metadata": {},
   "outputs": [],
   "source": [
    "def evaluate_group_1_and_3_inverse(som, complet_data, test_dataframe, group_1_and_3, \n",
    "                                   group_1_and_3_test, cmeans_fc):\n",
    "    print('-------------------------------------------------------------------------------------------------')\n",
    "\n",
    "    new_complet_data = complet_data.copy()\n",
    "    new_complet_data = new_complet_data.drop(new_complet_data[new_complet_data['Age'] == 1].index)\n",
    "    new_complet_data = new_complet_data.drop(new_complet_data[new_complet_data['Age'] == 3].index)\n",
    "    new_complet_data = new_complet_data.drop(new_complet_data[new_complet_data['Age'] == 4].index)\n",
    "    new_complet_data = new_complet_data.drop(new_complet_data[new_complet_data['Age'] == 5].index)\n",
    "\n",
    "\n",
    "    new_test_dataframe = test_dataframe.copy()\n",
    "    new_test_dataframe = new_test_dataframe.drop(new_test_dataframe[new_test_dataframe['Age'] == 1].index)\n",
    "    new_test_dataframe = new_test_dataframe.drop(new_test_dataframe[new_test_dataframe['Age'] == 3].index)\n",
    "    new_test_dataframe = new_test_dataframe.drop(new_test_dataframe[new_test_dataframe['Age'] == 4].index)\n",
    "    new_test_dataframe = new_test_dataframe.drop(new_test_dataframe[new_test_dataframe['Age'] == 5].index)\n",
    "\n",
    "    # Replaces age groups number by 0 and 1\n",
    "    new_complet_data.loc[new_complet_data['Age'] == 0, 'Age'] = 0\n",
    "    new_complet_data.loc[new_complet_data['Age'] == 2, 'Age'] = 1\n",
    "\n",
    "    new_test_dataframe.loc[new_test_dataframe['Age'] == 0, 'Age'] = 0\n",
    "    new_test_dataframe.loc[new_test_dataframe['Age'] == 2, 'Age'] = 1\n",
    "\n",
    "    evaluate_som(som, group_1_and_3, new_complet_data, cmeans_fc, \n",
    "                 classes_name=['0~10', '20~29'])\n",
    "\n",
    "    print('-------------------TEST DATASET EVALUATION----------------------')\n",
    "    evaluate_som(som, group_1_and_3_test, new_test_dataframe, cmeans_fc, \n",
    "                 classes_name=['0~10', '20~29'])"
   ]
  },
  {
   "cell_type": "code",
   "execution_count": 12,
   "metadata": {},
   "outputs": [],
   "source": [
    "def evaluate_group_5_and_6(som, complet_data, test_dataframe, group_5_and_6, \n",
    "                           group_5_and_6_test, cmeans_fc):\n",
    "    print('-------------------------------------------------------------------------------------------------')\n",
    "    new_complet_data = complet_data.copy()\n",
    "    new_complet_data = new_complet_data.drop(new_complet_data[new_complet_data['Age'] == 1].index)\n",
    "    new_complet_data = new_complet_data.drop(new_complet_data[new_complet_data['Age'] == 2].index)\n",
    "    new_complet_data = new_complet_data.drop(new_complet_data[new_complet_data['Age'] == 3].index)\n",
    "    new_complet_data = new_complet_data.drop(new_complet_data[new_complet_data['Age'] == 0].index)\n",
    "\n",
    "    new_test_dataframe = test_dataframe.copy()\n",
    "    new_test_dataframe = new_test_dataframe.drop(new_test_dataframe[new_test_dataframe['Age'] == 1].index)\n",
    "    new_test_dataframe = new_test_dataframe.drop(new_test_dataframe[new_test_dataframe['Age'] == 2].index)\n",
    "    new_test_dataframe = new_test_dataframe.drop(new_test_dataframe[new_test_dataframe['Age'] == 3].index)\n",
    "    new_test_dataframe = new_test_dataframe.drop(new_test_dataframe[new_test_dataframe['Age'] == 0].index)\n",
    "\n",
    "    # Replaces age groups number by 0 and 1\n",
    "    new_complet_data.loc[new_complet_data['Age'] == 5, 'Age'] = 1\n",
    "    new_complet_data.loc[new_complet_data['Age'] == 4, 'Age'] = 0\n",
    "\n",
    "    new_test_dataframe.loc[new_test_dataframe['Age'] == 5, 'Age'] = 1\n",
    "    new_test_dataframe.loc[new_test_dataframe['Age'] == 4, 'Age'] = 0\n",
    "\n",
    "    evaluate_som(som, group_5_and_6, new_complet_data, cmeans_fc, \n",
    "                 classes_name=['40~49', '>50'])\n",
    "    print('-------------------TEST DATASET EVALUATION----------------------')\n",
    "    complet_data = evaluate_som(som, group_5_and_6_test, new_test_dataframe, cmeans_fc, \n",
    "                                classes_name=['40~49', '>50'])\n",
    "    analyse_cluster_per_group(complet_data)"
   ]
  },
  {
   "cell_type": "code",
   "execution_count": 13,
   "metadata": {},
   "outputs": [],
   "source": [
    "def evaluate_group_5_and_6_inverse(som, complet_data, test_dataframe, group_5_and_6, \n",
    "                                   group_5_and_6_test, cmeans_fc):\n",
    "    print('-------------------------------------------------------------------------------------------------')\n",
    "    new_complet_data = complet_data.copy()\n",
    "    new_complet_data = new_complet_data.drop(new_complet_data[new_complet_data['Age'] == 1].index)\n",
    "    new_complet_data = new_complet_data.drop(new_complet_data[new_complet_data['Age'] == 2].index)\n",
    "    new_complet_data = new_complet_data.drop(new_complet_data[new_complet_data['Age'] == 3].index)\n",
    "    new_complet_data = new_complet_data.drop(new_complet_data[new_complet_data['Age'] == 0].index)\n",
    "\n",
    "    new_test_dataframe = test_dataframe.copy()\n",
    "    new_test_dataframe = new_test_dataframe.drop(new_test_dataframe[new_test_dataframe['Age'] == 1].index)\n",
    "    new_test_dataframe = new_test_dataframe.drop(new_test_dataframe[new_test_dataframe['Age'] == 2].index)\n",
    "    new_test_dataframe = new_test_dataframe.drop(new_test_dataframe[new_test_dataframe['Age'] == 3].index)\n",
    "    new_test_dataframe = new_test_dataframe.drop(new_test_dataframe[new_test_dataframe['Age'] == 0].index)\n",
    "\n",
    "    # Replaces age groups number by 0 and 1\n",
    "    new_complet_data.loc[new_complet_data['Age'] == 5, 'Age'] = 0\n",
    "    new_complet_data.loc[new_complet_data['Age'] == 4, 'Age'] = 1\n",
    "\n",
    "    new_test_dataframe.loc[new_test_dataframe['Age'] == 5, 'Age'] = 0\n",
    "    new_test_dataframe.loc[new_test_dataframe['Age'] == 4, 'Age'] = 1\n",
    "\n",
    "    evaluate_som(som, group_5_and_6, new_complet_data, cmeans_fc, \n",
    "                 classes_name=['40~49', '>50'])\n",
    "\n",
    "    print('-------------------TEST DATASET EVALUATION----------------------')\n",
    "    evaluate_som(som, group_5_and_6_test, new_test_dataframe, cmeans_fc,\n",
    "                 classes_name=['40~49', '>50'])"
   ]
  },
  {
   "cell_type": "markdown",
   "metadata": {},
   "source": [
    "## SOM + FCMEANS"
   ]
  },
  {
   "cell_type": "markdown",
   "metadata": {},
   "source": [
    "## Set up  general data information"
   ]
  },
  {
   "cell_type": "markdown",
   "metadata": {},
   "source": [
    "### Import the data"
   ]
  },
  {
   "cell_type": "code",
   "execution_count": 14,
   "metadata": {},
   "outputs": [],
   "source": [
    "all_features = ['Rst', 'Rsw', 'RssR', 'RssL', 'Rs', 'ACT[s]', 'Cadence']\n",
    "data_location = '/home/sarai/Documents/UPE/tcc/hybrid-approach/5_gait_symmetry_ratios_and_2_kinematic_features_from_180_samples2.csv'"
   ]
  },
  {
   "cell_type": "code",
   "execution_count": 15,
   "metadata": {},
   "outputs": [],
   "source": [
    "mapsize = [50,50]\n",
    "data_c = pd.read_csv(data_location)\n",
    "\n",
    "complet_train_data = data_c.copy()\n",
    "complet_train_data = complet_train_data.drop(complet_train_data.index[25:30])\n",
    "complet_train_data = complet_train_data.drop(complet_train_data.index[55:60])\n",
    "complet_train_data = complet_train_data.drop(complet_train_data.index[85:90])\n",
    "complet_train_data = complet_train_data.drop(complet_train_data.index[115:120])\n",
    "complet_train_data = complet_train_data.drop(complet_train_data.index[145:150])\n",
    "complet_train_data = complet_train_data.drop(complet_train_data.index[175:])\n",
    "\n",
    "test_dataframe = data_c.copy()\n",
    "test_dataframe = test_dataframe.drop(test_dataframe.index[150:175])\n",
    "test_dataframe = test_dataframe.drop(test_dataframe.index[120:145])\n",
    "test_dataframe = test_dataframe.drop(test_dataframe.index[90:115])\n",
    "test_dataframe = test_dataframe.drop(test_dataframe.index[60:85])\n",
    "test_dataframe = test_dataframe.drop(test_dataframe.index[30:55])\n",
    "test_dataframe = test_dataframe.drop(test_dataframe.index[:25])"
   ]
  },
  {
   "cell_type": "code",
   "execution_count": 16,
   "metadata": {},
   "outputs": [],
   "source": [
    "def generate_experiment(full_complet_data, combinations_to_be_analysed, complet_train_data, \n",
    "                        test_dataframe, iterations=2000, groups_to_classify=0):\n",
    "    from skfuzzy.cluster import cmeans\n",
    "    from sompy.visualization.hitmap import HitMapView\n",
    "    \n",
    "    drop = set(all_features) - set(combinations_to_be_analysed)\n",
    "    drop = list(drop)\n",
    "    \n",
    "    test_dataframe = test_dataframe.drop(drop, axis=1)\n",
    "    full_complet_data = full_complet_data.drop(drop, axis=1)\n",
    "    \n",
    "    data = full_complet_data\n",
    "    data = data.values\n",
    "    \n",
    "    group_0_10 = data[:25]\n",
    "    group_10_19 = data[30:55]\n",
    "    group_20_29 = data[60:85]\n",
    "    group_30_39 = data[90:115]\n",
    "    group_40_49 = data[120:145]\n",
    "    group_over_50 = data[150:175]\n",
    "\n",
    "    group_0_10_test = data[25:30]\n",
    "    group_10_19_test = data[55:60]\n",
    "    group_20_29_test = data[85:90]\n",
    "    group_30_39_test = data[115:120]\n",
    "    group_40_49_test = data[145:150]\n",
    "    group_over_50_test = data[175:]\n",
    "    \n",
    "    if groups_to_classify == 0:\n",
    "        # Group 1 and 3\n",
    "        group_1_and_3 = np.concatenate((group_0_10, group_20_29))\n",
    "        group_1_and_3_test = np.concatenate((group_0_10_test, group_20_29_test))\n",
    "        data = group_1_and_3\n",
    "        clusters_number = 2\n",
    "    elif groups_to_classify == 1:\n",
    "        # Groupo 5 and 6\n",
    "        group_5_and_6 = np.concatenate((group_40_49, group_over_50))\n",
    "        group_5_and_6_test = np.concatenate((group_40_49_test, group_over_50_test))\n",
    "        data = group_5_and_6\n",
    "        clusters_number = 2\n",
    "    else:\n",
    "        data = data\n",
    "        clusters_number = 6\n",
    "\n",
    "    som = sompy.SOMFactory.build(\n",
    "        data, mapsize, mask=None, mapshape='planar', \n",
    "        normalization='var', initialization='pca', \n",
    "        neighborhood='gaussian', training='batch', \n",
    "        name='sompy', lattice='hexa')\n",
    "    som.train(n_job=4, verbose=False, train_finetune_len=100, train_rough_len=iterations)\n",
    "    \n",
    "    c_means_input = som._normalizer.denormalize_by(som.data_raw, som.codebook.matrix)\n",
    "    c_means_input = c_means_input.transpose()\n",
    "    cmeans_fc, u_orig, _, _, _, _, pc = cmeans(\n",
    "        c_means_input,  c=clusters_number, m=1.25, error=1e-6, maxiter=10000, seed=1000)\n",
    "    \n",
    "    print(\"The fuzzy partition coefficient (FPC) {}\".format(pc))\n",
    "    \n",
    "    # Visualization Plots\n",
    "    vis  = sompy.mapview.View2DPacked(5, 5, 'Cluster',text_size=12)  \n",
    "    som.cluster_labels = u_orig.argmax(axis=0)\n",
    "    vis.show(som, what='cluster')\n",
    "    \n",
    "    hits = HitMapView(20, 20,\"Clustering\",text_size=10, cmap=plt.cm.jet)\n",
    "    a = hits.show(som, anotate=True, onlyzeros=False, labelsize=7, cmap=\"Pastel1\")\n",
    "    plt.show()\n",
    "    \n",
    "    from sompy.visualization.hitmap import HitMapView\n",
    "    hits = HitMapView(20, 20,\"Clustering\",text_size=10, cmap=plt.cm.jet)\n",
    "    a = hits.show(som, anotate=True, onlyzeros=False, labelsize=7, cmap=\"jet\")\n",
    "    plt.show()\n",
    "    \n",
    "    # Plot Data Projection\n",
    "    if groups_to_classify == 0:\n",
    "        # Group 1 and 3\n",
    "        plot_data(som, full_complet_data, plot2=False, plot4=False, plot5=False, plot6=False)\n",
    "    elif groups_to_classify == 1:\n",
    "        # Group 5 and 6\n",
    "        plot_data(som, full_complet_data, plot1=False, plot2=False, plot3=False, plot4=False)\n",
    "    else:\n",
    "        plot_data(som, full_complet_data)\n",
    "        \n",
    "    # Patterns learned by the neural network which are used to determine \n",
    "    # the winning neuron of each training instance\n",
    "    som.component_names = combinations_to_be_analysed\n",
    "    v = sompy.mapview.View2D(10, 10, \"\", text_size=9)  \n",
    "    v.show(som, which_dim='all', cmap='jet', col_sz=4) #which_dim='all' default\n",
    "    \n",
    "    # Evaluate groups\n",
    "    if groups_to_classify == 0:\n",
    "        evaluate_group_1_and_3(som, complet_train_data, test_dataframe, \n",
    "                               group_1_and_3, group_1_and_3_test, cmeans_fc)\n",
    "        evaluate_group_1_and_3_inverse(som, complet_train_data, test_dataframe, \n",
    "                                       group_1_and_3, group_1_and_3_test, cmeans_fc)\n",
    "    elif groups_to_classify == 1:\n",
    "        evaluate_group_5_and_6(som, complet_train_data, test_dataframe, \n",
    "                               group_5_and_6, group_5_and_6_test, cmeans_fc)\n",
    "        evaluate_group_5_and_6_inverse(som, complet_train_data, test_dataframe, \n",
    "                                       group_5_and_6, group_5_and_6_test, cmeans_fc)\n",
    "    else:\n",
    "        evaluate_som(som, data, complet_data, cmeans_fc)"
   ]
  },
  {
   "cell_type": "markdown",
   "metadata": {},
   "source": [
    "## All Combinations for 4\n",
    "\n",
    "- ACT[s] Cadence Rs RssL   -     OK\n",
    "- ACT[s] Cadence Rs RssR\n",
    "- ACT[s] Cadence Rs Rst     - OK\n",
    "- ACT[s] Cadence Rs Rsw\n",
    "- ACT[s] Cadence RssL RssR    - OK\n",
    "- ACT[s] Cadence RssL Rst\n",
    "- ACT[s] Cadence RssL Rsw    -  OK\n",
    "- ACT[s] Cadence RssR Rst\n",
    "- ACT[s] Cadence RssR Rsw\n",
    "- ACT[s] Cadence Rst Rsw   -  OK\n",
    "- ACT[s] Rs RssL RssR\n",
    "- ACT[s] Rs RssL Rst\n",
    "- ACT[s] Rs RssL Rsw\n",
    "- ACT[s] Rs RssR Rst     - OK\n",
    "- ACT[s] Rs RssR Rsw    - OK\n",
    "- ACT[s] Rs Rst Rsw\n",
    "- ACT[s] RssL RssR Rst      -   OK\n",
    "- ACT[s] RssL RssR Rsw\n",
    "- ACT[s] RssL Rst Rsw         - OK\n",
    "- ACT[s] RssR Rst Rsw\n",
    "- Cadence Rs RssL RssR\n",
    "- Cadence Rs RssL Rst      - OK\n",
    "- Cadence Rs RssL Rsw\n",
    "- Cadence Rs RssR Rst     - OK\n",
    "- Cadence Rs RssR Rsw\n",
    "- Cadence Rs Rst Rsw    -    OK\n",
    "- Cadence RssL RssR Rst\n",
    "- Cadence RssL RssR Rsw\n",
    "- Cadence RssL Rst Rsw    -  OK\n",
    "- Cadence RssR Rst Rsw\n",
    "- Rs RssL RssR Rst       - OK\n",
    "- Rs RssL RssR Rsw\n",
    "- Rs RssL Rst Rsw       - OK\n",
    "- Rs RssR Rst Rsw\n",
    "- RssL RssR Rst Rsw    -     OK"
   ]
  },
  {
   "cell_type": "markdown",
   "metadata": {},
   "source": [
    "## [ACT[s] Cadence Rs RssL] Only 2 features as input & Only 2 groups to classify\n",
    "- Group 1: 0~10\n",
    "- Group 2: 20~29"
   ]
  },
  {
   "cell_type": "code",
   "execution_count": 17,
   "metadata": {},
   "outputs": [],
   "source": [
    "full_complet_data = data_c.drop('Age', axis=1)\n",
    "combinations_to_be_analysed = ['ACT[s]', 'Cadence', 'Rs', 'RssL']"
   ]
  },
  {
   "cell_type": "code",
   "execution_count": null,
   "metadata": {},
   "outputs": [],
   "source": [
    "generate_experiment(\n",
    "    full_complet_data, combinations_to_be_analysed, complet_train_data, \n",
    "    test_dataframe, groups_to_classify=0\n",
    ")"
   ]
  },
  {
   "cell_type": "markdown",
   "metadata": {},
   "source": [
    "## [ACT[s] Cadence Rs RssL] Only 2 features as input & Only 2 groups to classify\n",
    "- Group 5: 40~49\n",
    "- Group 6: >50"
   ]
  },
  {
   "cell_type": "code",
   "execution_count": null,
   "metadata": {},
   "outputs": [],
   "source": [
    "full_complet_data = data_c.drop('Age', axis=1)\n",
    "combinations_to_be_analysed = ['ACT[s]' 'Cadence' 'Rs', 'RssL']"
   ]
  },
  {
   "cell_type": "code",
   "execution_count": null,
   "metadata": {},
   "outputs": [],
   "source": [
    "generate_experiment(\n",
    "    full_complet_data, combinations_to_be_analysed, complet_train_data, \n",
    "    test_dataframe, groups_to_classify=1\n",
    ")"
   ]
  },
  {
   "cell_type": "markdown",
   "metadata": {},
   "source": [
    "## [RssL RssR Rst Rsw] Only 2 features as input & Only 2 groups to classify\n",
    "- Group 1: 0~10\n",
    "- Group 2: 20~29"
   ]
  },
  {
   "cell_type": "code",
   "execution_count": null,
   "metadata": {},
   "outputs": [],
   "source": [
    "full_complet_data = data_c.drop('Age', axis=1)\n",
    "combinations_to_be_analysed = ['RssL', 'Rst', 'Rsw', 'RssR']"
   ]
  },
  {
   "cell_type": "code",
   "execution_count": null,
   "metadata": {},
   "outputs": [],
   "source": [
    "generate_experiment(\n",
    "    full_complet_data, combinations_to_be_analysed, complet_train_data, \n",
    "    test_dataframe, groups_to_classify=0\n",
    ")"
   ]
  },
  {
   "cell_type": "markdown",
   "metadata": {},
   "source": [
    "## [RssL RssR Rst Rsw] Only 2 features as input & Only 2 groups to classify\n",
    "- Group 5: 40~49\n",
    "- Group 6: >50"
   ]
  },
  {
   "cell_type": "code",
   "execution_count": null,
   "metadata": {},
   "outputs": [],
   "source": [
    "full_complet_data = data_c.drop('Age', axis=1)\n",
    "combinations_to_be_analysed = ['RssL', 'Rst', 'Rsw', 'RssR']"
   ]
  },
  {
   "cell_type": "code",
   "execution_count": null,
   "metadata": {},
   "outputs": [],
   "source": [
    "generate_experiment(\n",
    "    full_complet_data, combinations_to_be_analysed, complet_train_data, \n",
    "    test_dataframe, groups_to_classify=1\n",
    ")"
   ]
  },
  {
   "cell_type": "markdown",
   "metadata": {},
   "source": [
    "## [ACT[s] Cadence RssL Rsw] Only 2 features as input & Only 2 groups to classify\n",
    "- Group 1: 0~10\n",
    "- Group 2: 20~29"
   ]
  },
  {
   "cell_type": "code",
   "execution_count": null,
   "metadata": {},
   "outputs": [],
   "source": [
    "full_complet_data = data_c.drop('Age', axis=1)\n",
    "combinations_to_be_analysed = ['ACT[s]', 'Cadence', 'RssL', 'Rsw']"
   ]
  },
  {
   "cell_type": "code",
   "execution_count": null,
   "metadata": {
    "scrolled": false
   },
   "outputs": [],
   "source": [
    "generate_experiment(\n",
    "    full_complet_data, combinations_to_be_analysed, complet_train_data, \n",
    "    test_dataframe, groups_to_classify=0\n",
    ")"
   ]
  },
  {
   "cell_type": "markdown",
   "metadata": {},
   "source": [
    "## [ACT[s] Cadence RssL Rsw] Only 2 features as input & Only 2 groups to classify\n",
    "- Group 5: 40~49\n",
    "- Group 6: >50"
   ]
  },
  {
   "cell_type": "code",
   "execution_count": null,
   "metadata": {},
   "outputs": [],
   "source": [
    "full_complet_data = data_c.drop('Age', axis=1)\n",
    "combinations_to_be_analysed = ['ACT[s]', 'Cadence', 'RssL', 'Rsw']"
   ]
  },
  {
   "cell_type": "code",
   "execution_count": null,
   "metadata": {},
   "outputs": [],
   "source": [
    "generate_experiment(\n",
    "    full_complet_data, combinations_to_be_analysed, complet_train_data, \n",
    "    test_dataframe, groups_to_classify=1\n",
    ")"
   ]
  },
  {
   "cell_type": "markdown",
   "metadata": {},
   "source": [
    "## [Cadence RssL Rst Rsw] Only 2 features as input & Only 2 groups to classify\n",
    "- Group 1: 0~10\n",
    "- Group 2: 20~29"
   ]
  },
  {
   "cell_type": "code",
   "execution_count": null,
   "metadata": {},
   "outputs": [],
   "source": [
    "full_complet_data = data_c.drop('Age', axis=1)\n",
    "combinations_to_be_analysed = ['RssL', 'Cadence', 'Rst', 'Rsw']"
   ]
  },
  {
   "cell_type": "code",
   "execution_count": null,
   "metadata": {},
   "outputs": [],
   "source": [
    "generate_experiment(\n",
    "    full_complet_data, combinations_to_be_analysed, complet_train_data, \n",
    "    test_dataframe, groups_to_classify=0\n",
    ")"
   ]
  },
  {
   "cell_type": "markdown",
   "metadata": {},
   "source": [
    "## [Cadence RssL Rst Rsw] Only 2 features as input & Only 2 groups to classify\n",
    "- Group 5: 40~49\n",
    "- Group 6: >50"
   ]
  },
  {
   "cell_type": "code",
   "execution_count": null,
   "metadata": {},
   "outputs": [],
   "source": [
    "full_complet_data = data_c.drop('Age', axis=1)\n",
    "combinations_to_be_analysed = ['RssL', 'Cadence', 'Rst', 'Rsw']"
   ]
  },
  {
   "cell_type": "code",
   "execution_count": null,
   "metadata": {},
   "outputs": [],
   "source": [
    "generate_experiment(\n",
    "    full_complet_data, combinations_to_be_analysed, complet_train_data, \n",
    "    test_dataframe, groups_to_classify=1\n",
    ")"
   ]
  },
  {
   "cell_type": "markdown",
   "metadata": {},
   "source": [
    "## [ACT[s] RssL RssR Rst] Only 2 features as input & Only 2 groups to classify\n",
    "- Group 1: 0~10\n",
    "- Group 2: 20~29"
   ]
  },
  {
   "cell_type": "code",
   "execution_count": null,
   "metadata": {},
   "outputs": [],
   "source": [
    "full_complet_data = data_c.drop('Age', axis=1)\n",
    "combinations_to_be_analysed = ['ACT[s]', 'RssL', 'RssR', 'Rst']"
   ]
  },
  {
   "cell_type": "code",
   "execution_count": null,
   "metadata": {},
   "outputs": [],
   "source": [
    "generate_experiment(\n",
    "    full_complet_data, combinations_to_be_analysed, complet_train_data, \n",
    "    test_dataframe, groups_to_classify=0\n",
    ")"
   ]
  },
  {
   "cell_type": "markdown",
   "metadata": {},
   "source": [
    "## [ACT[s] RssL RssR Rst] Only 2 features as input & Only 2 groups to classify\n",
    "- Group 5: 40~49\n",
    "- Group 6: >50"
   ]
  },
  {
   "cell_type": "code",
   "execution_count": null,
   "metadata": {},
   "outputs": [],
   "source": [
    "full_complet_data = data_c.drop('Age', axis=1)\n",
    "combinations_to_be_analysed = ['ACT[s]', 'RssL', 'RssR', 'Rst']"
   ]
  },
  {
   "cell_type": "code",
   "execution_count": null,
   "metadata": {},
   "outputs": [],
   "source": [
    "generate_experiment(\n",
    "    full_complet_data, combinations_to_be_analysed, complet_train_data, \n",
    "    test_dataframe, groups_to_classify=1\n",
    ")"
   ]
  },
  {
   "cell_type": "markdown",
   "metadata": {},
   "source": [
    "## [Cadence Rs RssL Rst] Only 2 features as input & Only 2 groups to classify\n",
    "- Group 1: 0~10\n",
    "- Group 2: 20~29"
   ]
  },
  {
   "cell_type": "code",
   "execution_count": null,
   "metadata": {},
   "outputs": [],
   "source": [
    "full_complet_data = data_c.drop('Age', axis=1)\n",
    "combinations_to_be_analysed = ['Cadence', 'Rs', 'RssL', 'Rst']"
   ]
  },
  {
   "cell_type": "code",
   "execution_count": null,
   "metadata": {
    "scrolled": false
   },
   "outputs": [],
   "source": [
    "generate_experiment(\n",
    "    full_complet_data, combinations_to_be_analysed, complet_train_data, \n",
    "    test_dataframe, groups_to_classify=0\n",
    ")"
   ]
  },
  {
   "cell_type": "markdown",
   "metadata": {},
   "source": [
    "## [Cadence Rs RssL Rst] Only 2 features as input & Only 2 groups to classify\n",
    "- Group 5: 40~49\n",
    "- Group 6: >50"
   ]
  },
  {
   "cell_type": "code",
   "execution_count": null,
   "metadata": {},
   "outputs": [],
   "source": [
    "full_complet_data = data_c.drop('Age', axis=1)\n",
    "combinations_to_be_analysed = ['Cadence', 'Rs', 'RssL', 'Rst']"
   ]
  },
  {
   "cell_type": "code",
   "execution_count": null,
   "metadata": {},
   "outputs": [],
   "source": [
    "generate_experiment(\n",
    "    full_complet_data, combinations_to_be_analysed, complet_train_data, \n",
    "    test_dataframe, groups_to_classify=1\n",
    ")"
   ]
  },
  {
   "cell_type": "markdown",
   "metadata": {},
   "source": [
    "## [ACT[s] Rs RssL Rst] Only 2 features as input & Only 2 groups to classify\n",
    "- Group 1: 0~10\n",
    "- Group 2: 20~29"
   ]
  },
  {
   "cell_type": "code",
   "execution_count": null,
   "metadata": {},
   "outputs": [],
   "source": [
    "full_complet_data = data_c.drop('Age', axis=1)\n",
    "combinations_to_be_analysed = ['ACT[s]', 'Rs', 'RssL', 'Rst']"
   ]
  },
  {
   "cell_type": "code",
   "execution_count": null,
   "metadata": {},
   "outputs": [],
   "source": [
    "generate_experiment(\n",
    "    full_complet_data, combinations_to_be_analysed, complet_train_data, \n",
    "    test_dataframe, groups_to_classify=0\n",
    ")"
   ]
  },
  {
   "cell_type": "markdown",
   "metadata": {},
   "source": [
    "## [ACT[s] Rs RssL Rst] Only 2 features as input & Only 2 groups to classify\n",
    "- Group 5: 40~49\n",
    "- Group 6: >50"
   ]
  },
  {
   "cell_type": "code",
   "execution_count": null,
   "metadata": {},
   "outputs": [],
   "source": [
    "full_complet_data = data_c.drop('Age', axis=1)\n",
    "combinations_to_be_analysed = ['ACT[s]', 'Rs', 'RssL', 'Rst']"
   ]
  },
  {
   "cell_type": "code",
   "execution_count": null,
   "metadata": {},
   "outputs": [],
   "source": [
    "generate_experiment(\n",
    "    full_complet_data, combinations_to_be_analysed, complet_train_data, \n",
    "    test_dataframe, groups_to_classify=1\n",
    ")"
   ]
  },
  {
   "cell_type": "markdown",
   "metadata": {},
   "source": [
    "## [Cadence Rs Rst Rsw] Only 2 features as input & Only 2 groups to classify\n",
    "- Group 1: 0~10\n",
    "- Group 2: 20~29"
   ]
  },
  {
   "cell_type": "code",
   "execution_count": null,
   "metadata": {},
   "outputs": [],
   "source": [
    "full_complet_data = data_c.drop('Age', axis=1)\n",
    "combinations_to_be_analysed = ['Cadence', 'Rs', 'Rst', 'Rsw']"
   ]
  },
  {
   "cell_type": "code",
   "execution_count": null,
   "metadata": {},
   "outputs": [],
   "source": [
    "generate_experiment(\n",
    "    full_complet_data, combinations_to_be_analysed, complet_train_data, \n",
    "    test_dataframe, groups_to_classify=0\n",
    ")"
   ]
  },
  {
   "cell_type": "markdown",
   "metadata": {},
   "source": [
    "## [Cadence Rs Rst Rsw] Only 2 features as input & Only 2 groups to classify\n",
    "- Group 5: 40~49\n",
    "- Group 6: >50"
   ]
  },
  {
   "cell_type": "code",
   "execution_count": null,
   "metadata": {},
   "outputs": [],
   "source": [
    "full_complet_data = data_c.drop('Age', axis=1)\n",
    "combinations_to_be_analysed = ['Cadence', 'Rs', 'Rst', 'Rsw']"
   ]
  },
  {
   "cell_type": "code",
   "execution_count": null,
   "metadata": {
    "scrolled": true
   },
   "outputs": [],
   "source": [
    "generate_experiment(\n",
    "    full_complet_data, combinations_to_be_analysed, complet_train_data, \n",
    "    test_dataframe, groups_to_classify=1\n",
    ")"
   ]
  },
  {
   "cell_type": "markdown",
   "metadata": {},
   "source": [
    "## [ACT[s] Cadence Rst Rsw] Only 2 features as input & Only 2 groups to classify\n",
    "- Group 1: 0~10\n",
    "- Group 2: 20~29"
   ]
  },
  {
   "cell_type": "code",
   "execution_count": null,
   "metadata": {},
   "outputs": [],
   "source": [
    "full_complet_data = data_c.drop('Age', axis=1)\n",
    "combinations_to_be_analysed = ['ACT[s]', 'Cadence', 'Rst', 'Rsw']"
   ]
  },
  {
   "cell_type": "code",
   "execution_count": null,
   "metadata": {},
   "outputs": [],
   "source": [
    "generate_experiment(\n",
    "    full_complet_data, combinations_to_be_analysed, complet_train_data, \n",
    "    test_dataframe, groups_to_classify=0\n",
    ")"
   ]
  },
  {
   "cell_type": "markdown",
   "metadata": {},
   "source": [
    "## [ACT[s] Cadence Rst Rsw] Only 2 features as input & Only 2 groups to classify\n",
    "- Group 5: 40~49\n",
    "- Group 6: >50"
   ]
  },
  {
   "cell_type": "code",
   "execution_count": null,
   "metadata": {},
   "outputs": [],
   "source": [
    "full_complet_data = data_c.drop('Age', axis=1)\n",
    "combinations_to_be_analysed = ['ACT[s]', 'Cadence', 'Rst', 'Rsw']"
   ]
  },
  {
   "cell_type": "code",
   "execution_count": null,
   "metadata": {
    "scrolled": false
   },
   "outputs": [],
   "source": [
    "generate_experiment(\n",
    "    full_complet_data, combinations_to_be_analysed, complet_train_data, \n",
    "    test_dataframe, groups_to_classify=1\n",
    ")"
   ]
  },
  {
   "cell_type": "markdown",
   "metadata": {},
   "source": [
    "## [ACT[s] Rs RssL Rsw] Only 2 features as input & Only 2 groups to classify\n",
    "- Group 1: 0~10\n",
    "- Group 2: 20~29"
   ]
  },
  {
   "cell_type": "code",
   "execution_count": null,
   "metadata": {},
   "outputs": [],
   "source": [
    "full_complet_data = data_c.drop('Age', axis=1)\n",
    "combinations_to_be_analysed = ['ACT[s]', 'Rs', 'RssL', 'Rsw']"
   ]
  },
  {
   "cell_type": "code",
   "execution_count": null,
   "metadata": {},
   "outputs": [],
   "source": [
    "generate_experiment(\n",
    "    full_complet_data, combinations_to_be_analysed, complet_train_data, \n",
    "    test_dataframe, groups_to_classify=0\n",
    ")"
   ]
  },
  {
   "cell_type": "markdown",
   "metadata": {},
   "source": [
    "## [ACT[s] Rs RssL Rsw] Only 2 features as input & Only 2 groups to classify\n",
    "- Group 5: 40~49\n",
    "- Group 6: >50"
   ]
  },
  {
   "cell_type": "code",
   "execution_count": null,
   "metadata": {},
   "outputs": [],
   "source": [
    "full_complet_data = data_c.drop('Age', axis=1)\n",
    "combinations_to_be_analysed = ['ACT[s]', 'Rs', 'RssL', 'Rsw']"
   ]
  },
  {
   "cell_type": "code",
   "execution_count": null,
   "metadata": {},
   "outputs": [],
   "source": [
    "generate_experiment(\n",
    "    full_complet_data, combinations_to_be_analysed, complet_train_data, \n",
    "    test_dataframe, groups_to_classify=1\n",
    ")"
   ]
  },
  {
   "cell_type": "markdown",
   "metadata": {},
   "source": [
    "## [Rs RssL RssR Rst] Only 2 features as input & Only 2 groups to classify\n",
    "- Group 1: 0~10\n",
    "- Group 2: 20~29"
   ]
  },
  {
   "cell_type": "code",
   "execution_count": null,
   "metadata": {},
   "outputs": [],
   "source": [
    "full_complet_data = data_c.drop('Age', axis=1)\n",
    "combinations_to_be_analysed = ['Rs', 'RssR', 'Rst', 'RssL']"
   ]
  },
  {
   "cell_type": "code",
   "execution_count": null,
   "metadata": {},
   "outputs": [],
   "source": [
    "generate_experiment(\n",
    "    full_complet_data, combinations_to_be_analysed, complet_train_data, \n",
    "    test_dataframe, groups_to_classify=0\n",
    ")"
   ]
  },
  {
   "cell_type": "markdown",
   "metadata": {},
   "source": [
    "## [Rs RssL RssR Rst] Only 2 features as input & Only 2 groups to classify\n",
    "- Group 5: 40~49\n",
    "- Group 6: >50"
   ]
  },
  {
   "cell_type": "code",
   "execution_count": null,
   "metadata": {},
   "outputs": [],
   "source": [
    "full_complet_data = data_c.drop('Age', axis=1)\n",
    "combinations_to_be_analysed = ['Rs', 'RssR', 'Rst', 'RssL']"
   ]
  },
  {
   "cell_type": "code",
   "execution_count": null,
   "metadata": {},
   "outputs": [],
   "source": [
    "generate_experiment(\n",
    "    full_complet_data, combinations_to_be_analysed, complet_train_data, \n",
    "    test_dataframe, groups_to_classify=1\n",
    ")"
   ]
  },
  {
   "cell_type": "markdown",
   "metadata": {},
   "source": [
    "## [Cadence Rs RssR Rst] Only 2 features as input & Only 2 groups to classify\n",
    "- Group 1: 0~10\n",
    "- Group 2: 20~29"
   ]
  },
  {
   "cell_type": "code",
   "execution_count": null,
   "metadata": {},
   "outputs": [],
   "source": [
    "full_complet_data = data_c.drop('Age', axis=1)\n",
    "combinations_to_be_analysed = ['Cadence', 'Rst', 'Rs', 'RssR']"
   ]
  },
  {
   "cell_type": "code",
   "execution_count": null,
   "metadata": {},
   "outputs": [],
   "source": [
    "generate_experiment(\n",
    "    full_complet_data, combinations_to_be_analysed, complet_train_data, \n",
    "    test_dataframe, groups_to_classify=0\n",
    ")"
   ]
  },
  {
   "cell_type": "markdown",
   "metadata": {},
   "source": [
    "## [Cadence Rs RssR Rst] Only 2 features as input & Only 2 groups to classify\n",
    "- Group 5: 40~49\n",
    "- Group 6: >50"
   ]
  },
  {
   "cell_type": "code",
   "execution_count": null,
   "metadata": {},
   "outputs": [],
   "source": [
    "full_complet_data = data_c.drop('Age', axis=1)\n",
    "combinations_to_be_analysed = ['Cadence', 'Rst', 'Rs', 'RssR']"
   ]
  },
  {
   "cell_type": "code",
   "execution_count": null,
   "metadata": {},
   "outputs": [],
   "source": [
    "generate_experiment(\n",
    "    full_complet_data, combinations_to_be_analysed, complet_train_data, \n",
    "    test_dataframe, groups_to_classify=1\n",
    ")"
   ]
  },
  {
   "cell_type": "markdown",
   "metadata": {},
   "source": [
    "## [ACT[s] RssL Rst Rsw] Only 2 features as input & Only 2 groups to classify\n",
    "- Group 1: 0~10\n",
    "- Group 2: 20~29"
   ]
  },
  {
   "cell_type": "code",
   "execution_count": null,
   "metadata": {},
   "outputs": [],
   "source": [
    "full_complet_data = data_c.drop('Age', axis=1)\n",
    "combinations_to_be_analysed = ['ACT[s]', 'Rst', 'RssL', 'Rsw']"
   ]
  },
  {
   "cell_type": "code",
   "execution_count": null,
   "metadata": {},
   "outputs": [],
   "source": [
    "generate_experiment(\n",
    "    full_complet_data, combinations_to_be_analysed, complet_train_data, \n",
    "    test_dataframe, groups_to_classify=0\n",
    ")"
   ]
  },
  {
   "cell_type": "markdown",
   "metadata": {},
   "source": [
    "## [ACT[s] RssL Rst Rsw] Only 2 features as input & Only 2 groups to classify\n",
    "- Group 5: 40~49\n",
    "- Group 6: >50"
   ]
  },
  {
   "cell_type": "code",
   "execution_count": null,
   "metadata": {},
   "outputs": [],
   "source": [
    "full_complet_data = data_c.drop('Age', axis=1)\n",
    "combinations_to_be_analysed = ['ACT[s]', 'Rst', 'RssL', 'Rsw']"
   ]
  },
  {
   "cell_type": "code",
   "execution_count": null,
   "metadata": {},
   "outputs": [],
   "source": [
    "generate_experiment(\n",
    "    full_complet_data, combinations_to_be_analysed, complet_train_data, \n",
    "    test_dataframe, groups_to_classify=1\n",
    ")"
   ]
  },
  {
   "cell_type": "markdown",
   "metadata": {},
   "source": [
    "## [ACT[s] Cadence Rs Rst] Only 2 features as input & Only 2 groups to classify\n",
    "- Group 1: 0~10\n",
    "- Group 2: 20~29"
   ]
  },
  {
   "cell_type": "code",
   "execution_count": null,
   "metadata": {},
   "outputs": [],
   "source": [
    "full_complet_data = data_c.drop('Age', axis=1)\n",
    "combinations_to_be_analysed = ['ACT[s]', 'Rs', 'Rst', 'Cadence']"
   ]
  },
  {
   "cell_type": "code",
   "execution_count": null,
   "metadata": {},
   "outputs": [],
   "source": [
    "generate_experiment(\n",
    "    full_complet_data, combinations_to_be_analysed, complet_train_data, \n",
    "    test_dataframe, groups_to_classify=0\n",
    ")"
   ]
  },
  {
   "cell_type": "markdown",
   "metadata": {},
   "source": [
    "## [ACT[s] Cadence Rs Rst] Only 2 features as input & Only 2 groups to classify\n",
    "- Group 5: 40~49\n",
    "- Group 6: >50"
   ]
  },
  {
   "cell_type": "code",
   "execution_count": null,
   "metadata": {},
   "outputs": [],
   "source": [
    "full_complet_data = data_c.drop('Age', axis=1)\n",
    "combinations_to_be_analysed = ['ACT[s]', 'Rs', 'Rst', 'Cadence']"
   ]
  },
  {
   "cell_type": "code",
   "execution_count": null,
   "metadata": {},
   "outputs": [],
   "source": [
    "generate_experiment(\n",
    "    full_complet_data, combinations_to_be_analysed, complet_train_data, \n",
    "    test_dataframe, groups_to_classify=1\n",
    ")"
   ]
  },
  {
   "cell_type": "markdown",
   "metadata": {},
   "source": [
    "## [ACT[s] Cadence RssL RssR] Only 2 features as input & Only 2 groups to classify\n",
    "- Group 1: 0~10\n",
    "- Group 2: 20~29"
   ]
  },
  {
   "cell_type": "code",
   "execution_count": null,
   "metadata": {},
   "outputs": [],
   "source": [
    "full_complet_data = data_c.drop('Age', axis=1)\n",
    "combinations_to_be_analysed = ['ACT[s]', 'RssL', 'RssR', 'Cadence']"
   ]
  },
  {
   "cell_type": "code",
   "execution_count": null,
   "metadata": {},
   "outputs": [],
   "source": [
    "generate_experiment(\n",
    "    full_complet_data, combinations_to_be_analysed, complet_train_data, \n",
    "    test_dataframe, groups_to_classify=0\n",
    ")"
   ]
  },
  {
   "cell_type": "markdown",
   "metadata": {},
   "source": [
    "## [ACT[s] Cadence RssL RssR] Only 2 features as input & Only 2 groups to classify\n",
    "- Group 5: 40~49\n",
    "- Group 6: >50"
   ]
  },
  {
   "cell_type": "code",
   "execution_count": null,
   "metadata": {},
   "outputs": [],
   "source": [
    "full_complet_data = data_c.drop('Age', axis=1)\n",
    "combinations_to_be_analysed = ['ACT[s]', 'RssL', 'RssR', 'Cadence']"
   ]
  },
  {
   "cell_type": "code",
   "execution_count": null,
   "metadata": {},
   "outputs": [],
   "source": [
    "generate_experiment(\n",
    "    full_complet_data, combinations_to_be_analysed, complet_train_data, \n",
    "    test_dataframe, groups_to_classify=1\n",
    ")"
   ]
  },
  {
   "cell_type": "markdown",
   "metadata": {},
   "source": [
    "## [Rs RssL Rst Rsw] Only 2 features as input & Only 2 groups to classify\n",
    "- Group 1: 0~10\n",
    "- Group 2: 20~29"
   ]
  },
  {
   "cell_type": "code",
   "execution_count": null,
   "metadata": {},
   "outputs": [],
   "source": [
    "full_complet_data = data_c.drop('Age', axis=1)\n",
    "combinations_to_be_analysed = ['Rs', 'Rst', 'RssL', 'Rsw']"
   ]
  },
  {
   "cell_type": "code",
   "execution_count": null,
   "metadata": {},
   "outputs": [],
   "source": [
    "generate_experiment(\n",
    "    full_complet_data, combinations_to_be_analysed, complet_train_data, \n",
    "    test_dataframe, groups_to_classify=0\n",
    ")"
   ]
  },
  {
   "cell_type": "markdown",
   "metadata": {},
   "source": [
    "## [Rs RssL Rst Rsw] Only 2 features as input & Only 2 groups to classify\n",
    "- Group 5: 40~49\n",
    "- Group 6: >50"
   ]
  },
  {
   "cell_type": "code",
   "execution_count": null,
   "metadata": {},
   "outputs": [],
   "source": [
    "full_complet_data = data_c.drop('Age', axis=1)\n",
    "combinations_to_be_analysed = ['Rs', 'Rst', 'RssL', 'Rsw']"
   ]
  },
  {
   "cell_type": "code",
   "execution_count": null,
   "metadata": {},
   "outputs": [],
   "source": [
    "generate_experiment(\n",
    "    full_complet_data, combinations_to_be_analysed, complet_train_data, \n",
    "    test_dataframe, groups_to_classify=1\n",
    ")"
   ]
  },
  {
   "cell_type": "markdown",
   "metadata": {},
   "source": [
    "## [ACT[s] Rs RssR Rsw] Only 2 features as input & Only 2 groups to classify\n",
    "- Group 1: 0~10\n",
    "- Group 2: 20~29"
   ]
  },
  {
   "cell_type": "code",
   "execution_count": null,
   "metadata": {},
   "outputs": [],
   "source": [
    "full_complet_data = data_c.drop('Age', axis=1)\n",
    "combinations_to_be_analysed = ['ACT[s]', 'Rs', 'RssR', 'Rsw']"
   ]
  },
  {
   "cell_type": "code",
   "execution_count": null,
   "metadata": {},
   "outputs": [],
   "source": [
    "generate_experiment(\n",
    "    full_complet_data, combinations_to_be_analysed, complet_train_data, \n",
    "    test_dataframe, groups_to_classify=0\n",
    ")"
   ]
  },
  {
   "cell_type": "markdown",
   "metadata": {},
   "source": [
    "## [ACT[s] Rs RssR Rsw] Only 2 features as input & Only 2 groups to classify\n",
    "- Group 5: 40~49\n",
    "- Group 6: >50"
   ]
  },
  {
   "cell_type": "code",
   "execution_count": null,
   "metadata": {},
   "outputs": [],
   "source": [
    "full_complet_data = data_c.drop('Age', axis=1)\n",
    "combinations_to_be_analysed = ['ACT[s]', 'Rs', 'RssR', 'Rsw']"
   ]
  },
  {
   "cell_type": "code",
   "execution_count": null,
   "metadata": {},
   "outputs": [],
   "source": [
    "generate_experiment(\n",
    "    full_complet_data, combinations_to_be_analysed, complet_train_data, \n",
    "    test_dataframe, groups_to_classify=1\n",
    ")"
   ]
  },
  {
   "cell_type": "markdown",
   "metadata": {},
   "source": [
    "## [ACT[s] Cadence Rs RssR] Only 2 features as input & Only 2 groups to classify\n",
    "- Group 1: 0~10\n",
    "- Group 2: 20~29"
   ]
  },
  {
   "cell_type": "code",
   "execution_count": null,
   "metadata": {},
   "outputs": [],
   "source": [
    "full_complet_data = data_c.drop('Age', axis=1)\n",
    "combinations_to_be_analysed = ['ACT[s]', 'Cadence', 'RssR', 'Rs']"
   ]
  },
  {
   "cell_type": "code",
   "execution_count": null,
   "metadata": {},
   "outputs": [],
   "source": [
    "generate_experiment(\n",
    "    full_complet_data, combinations_to_be_analysed, complet_train_data, \n",
    "    test_dataframe, groups_to_classify=0\n",
    ")"
   ]
  },
  {
   "cell_type": "markdown",
   "metadata": {},
   "source": [
    "## [ACT[s] Cadence Rs RssR] Only 2 features as input & Only 2 groups to classify\n",
    "- Group 5: 40~49\n",
    "- Group 6: >50"
   ]
  },
  {
   "cell_type": "code",
   "execution_count": null,
   "metadata": {},
   "outputs": [],
   "source": [
    "full_complet_data = data_c.drop('Age', axis=1)\n",
    "combinations_to_be_analysed = ['ACT[s]', 'Cadence', 'RssR', 'Rs']"
   ]
  },
  {
   "cell_type": "code",
   "execution_count": null,
   "metadata": {},
   "outputs": [],
   "source": [
    "generate_experiment(\n",
    "    full_complet_data, combinations_to_be_analysed, complet_train_data, \n",
    "    test_dataframe, groups_to_classify=1\n",
    ")"
   ]
  },
  {
   "cell_type": "code",
   "execution_count": null,
   "metadata": {},
   "outputs": [],
   "source": []
  }
 ],
 "metadata": {
  "kernelspec": {
   "display_name": "hybrid-approach",
   "language": "python",
   "name": "hybrid-approach"
  },
  "language_info": {
   "codemirror_mode": {
    "name": "ipython",
    "version": 3
   },
   "file_extension": ".py",
   "mimetype": "text/x-python",
   "name": "python",
   "nbconvert_exporter": "python",
   "pygments_lexer": "ipython3",
   "version": "3.6.3"
  }
 },
 "nbformat": 4,
 "nbformat_minor": 2
}
