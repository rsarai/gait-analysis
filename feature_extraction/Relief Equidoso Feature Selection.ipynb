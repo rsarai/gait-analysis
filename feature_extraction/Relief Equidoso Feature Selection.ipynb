{
 "cells": [
  {
   "cell_type": "code",
   "execution_count": 1,
   "metadata": {},
   "outputs": [
    {
     "data": {
      "text/html": [
       "<div>\n",
       "<style scoped>\n",
       "    .dataframe tbody tr th:only-of-type {\n",
       "        vertical-align: middle;\n",
       "    }\n",
       "\n",
       "    .dataframe tbody tr th {\n",
       "        vertical-align: top;\n",
       "    }\n",
       "\n",
       "    .dataframe thead th {\n",
       "        text-align: right;\n",
       "    }\n",
       "</style>\n",
       "<table border=\"1\" class=\"dataframe\">\n",
       "  <thead>\n",
       "    <tr style=\"text-align: right;\">\n",
       "      <th></th>\n",
       "      <th>Grupo</th>\n",
       "      <th>Sexo</th>\n",
       "      <th>Idade</th>\n",
       "      <th>Massa</th>\n",
       "      <th>Estatura</th>\n",
       "      <th>IMC</th>\n",
       "      <th>Gait_Speed_TS_T0</th>\n",
       "      <th>Gait_Speed_TS_T3</th>\n",
       "      <th>Gait_Speed_TS_T6</th>\n",
       "      <th>Gait_Speed_TS_T9</th>\n",
       "      <th>...</th>\n",
       "      <th>StroopColor_ortost_T0</th>\n",
       "      <th>StroopColor_ortost_T3</th>\n",
       "      <th>StroopColor_ortost_T6</th>\n",
       "      <th>StroopColor_ortost_T9</th>\n",
       "      <th>StroopColor_ortost_T12</th>\n",
       "      <th>StroopColorEffectOrt_T0</th>\n",
       "      <th>StroopColorEffectOrt_T3</th>\n",
       "      <th>StroopColorEffectOrt_T6</th>\n",
       "      <th>StroopColorEffectOrt_T9</th>\n",
       "      <th>StroopColorEffectOrt_T12</th>\n",
       "    </tr>\n",
       "    <tr>\n",
       "      <th>ID</th>\n",
       "      <th></th>\n",
       "      <th></th>\n",
       "      <th></th>\n",
       "      <th></th>\n",
       "      <th></th>\n",
       "      <th></th>\n",
       "      <th></th>\n",
       "      <th></th>\n",
       "      <th></th>\n",
       "      <th></th>\n",
       "      <th></th>\n",
       "      <th></th>\n",
       "      <th></th>\n",
       "      <th></th>\n",
       "      <th></th>\n",
       "      <th></th>\n",
       "      <th></th>\n",
       "      <th></th>\n",
       "      <th></th>\n",
       "      <th></th>\n",
       "      <th></th>\n",
       "    </tr>\n",
       "  </thead>\n",
       "  <tbody>\n",
       "    <tr>\n",
       "      <th>s56</th>\n",
       "      <td>GE</td>\n",
       "      <td>F</td>\n",
       "      <td>70</td>\n",
       "      <td>79.0</td>\n",
       "      <td>1.54</td>\n",
       "      <td>33.310845</td>\n",
       "      <td>1.13</td>\n",
       "      <td>NaN</td>\n",
       "      <td>NaN</td>\n",
       "      <td>NaN</td>\n",
       "      <td>...</td>\n",
       "      <td>87.8</td>\n",
       "      <td>NaN</td>\n",
       "      <td>NaN</td>\n",
       "      <td>NaN</td>\n",
       "      <td>NaN</td>\n",
       "      <td>-54.305800</td>\n",
       "      <td>NaN</td>\n",
       "      <td>NaN</td>\n",
       "      <td>NaN</td>\n",
       "      <td>NaN</td>\n",
       "    </tr>\n",
       "    <tr>\n",
       "      <th>s57</th>\n",
       "      <td>GC</td>\n",
       "      <td>M</td>\n",
       "      <td>78</td>\n",
       "      <td>69.4</td>\n",
       "      <td>1.69</td>\n",
       "      <td>24.298869</td>\n",
       "      <td>1.59</td>\n",
       "      <td>NaN</td>\n",
       "      <td>NaN</td>\n",
       "      <td>NaN</td>\n",
       "      <td>...</td>\n",
       "      <td>202.6</td>\n",
       "      <td>NaN</td>\n",
       "      <td>NaN</td>\n",
       "      <td>NaN</td>\n",
       "      <td>NaN</td>\n",
       "      <td>-342.358079</td>\n",
       "      <td>NaN</td>\n",
       "      <td>NaN</td>\n",
       "      <td>NaN</td>\n",
       "      <td>NaN</td>\n",
       "    </tr>\n",
       "    <tr>\n",
       "      <th>s58</th>\n",
       "      <td>GC</td>\n",
       "      <td>F</td>\n",
       "      <td>71</td>\n",
       "      <td>75.0</td>\n",
       "      <td>1.59</td>\n",
       "      <td>29.666548</td>\n",
       "      <td>1.27</td>\n",
       "      <td>1.15</td>\n",
       "      <td></td>\n",
       "      <td>1.15</td>\n",
       "      <td>...</td>\n",
       "      <td>53.6</td>\n",
       "      <td>53.3</td>\n",
       "      <td>42.3</td>\n",
       "      <td>49.4</td>\n",
       "      <td>NaN</td>\n",
       "      <td>-109.375000</td>\n",
       "      <td>-125.847458</td>\n",
       "      <td>-81.545064</td>\n",
       "      <td>-94.488189</td>\n",
       "      <td>NaN</td>\n",
       "    </tr>\n",
       "    <tr>\n",
       "      <th>s59</th>\n",
       "      <td>GC</td>\n",
       "      <td>F</td>\n",
       "      <td>73</td>\n",
       "      <td>55.5</td>\n",
       "      <td>1.58</td>\n",
       "      <td>22.232014</td>\n",
       "      <td>1.25</td>\n",
       "      <td>NaN</td>\n",
       "      <td>1.47</td>\n",
       "      <td>1.32</td>\n",
       "      <td>...</td>\n",
       "      <td>103.5</td>\n",
       "      <td>NaN</td>\n",
       "      <td>149.8</td>\n",
       "      <td>142.1</td>\n",
       "      <td>95.0</td>\n",
       "      <td>-175.265957</td>\n",
       "      <td>NaN</td>\n",
       "      <td>-255.819477</td>\n",
       "      <td>-299.157303</td>\n",
       "      <td>-157.452575</td>\n",
       "    </tr>\n",
       "    <tr>\n",
       "      <th>s60</th>\n",
       "      <td>GC</td>\n",
       "      <td>F</td>\n",
       "      <td>65</td>\n",
       "      <td>59.4</td>\n",
       "      <td>1.46</td>\n",
       "      <td>27.866391</td>\n",
       "      <td>1.26</td>\n",
       "      <td>NaN</td>\n",
       "      <td>1.53</td>\n",
       "      <td>1.36</td>\n",
       "      <td>...</td>\n",
       "      <td>64.5</td>\n",
       "      <td>NaN</td>\n",
       "      <td>59.4</td>\n",
       "      <td>52.1</td>\n",
       "      <td>50.0</td>\n",
       "      <td>-113.576159</td>\n",
       "      <td>NaN</td>\n",
       "      <td>-102.730375</td>\n",
       "      <td>-84.098940</td>\n",
       "      <td>-76.056338</td>\n",
       "    </tr>\n",
       "  </tbody>\n",
       "</table>\n",
       "<p>5 rows × 391 columns</p>\n",
       "</div>"
      ],
      "text/plain": [
       "    Grupo Sexo  Idade  Massa  Estatura        IMC  Gait_Speed_TS_T0  \\\n",
       "ID                                                                    \n",
       "s56    GE    F     70   79.0      1.54  33.310845              1.13   \n",
       "s57    GC    M     78   69.4      1.69  24.298869              1.59   \n",
       "s58    GC    F     71   75.0      1.59  29.666548              1.27   \n",
       "s59    GC    F     73   55.5      1.58  22.232014              1.25   \n",
       "s60    GC    F     65   59.4      1.46  27.866391              1.26   \n",
       "\n",
       "     Gait_Speed_TS_T3 Gait_Speed_TS_T6  Gait_Speed_TS_T9  ...  \\\n",
       "ID                                                        ...   \n",
       "s56               NaN              NaN               NaN  ...   \n",
       "s57               NaN              NaN               NaN  ...   \n",
       "s58              1.15                               1.15  ...   \n",
       "s59               NaN             1.47              1.32  ...   \n",
       "s60               NaN             1.53              1.36  ...   \n",
       "\n",
       "     StroopColor_ortost_T0  StroopColor_ortost_T3  StroopColor_ortost_T6  \\\n",
       "ID                                                                         \n",
       "s56                   87.8                    NaN                    NaN   \n",
       "s57                  202.6                    NaN                    NaN   \n",
       "s58                   53.6                   53.3                   42.3   \n",
       "s59                  103.5                    NaN                  149.8   \n",
       "s60                   64.5                    NaN                   59.4   \n",
       "\n",
       "     StroopColor_ortost_T9  StroopColor_ortost_T12  StroopColorEffectOrt_T0  \\\n",
       "ID                                                                            \n",
       "s56                    NaN                     NaN               -54.305800   \n",
       "s57                    NaN                     NaN              -342.358079   \n",
       "s58                   49.4                     NaN              -109.375000   \n",
       "s59                  142.1                    95.0              -175.265957   \n",
       "s60                   52.1                    50.0              -113.576159   \n",
       "\n",
       "     StroopColorEffectOrt_T3  StroopColorEffectOrt_T6  \\\n",
       "ID                                                      \n",
       "s56                      NaN                      NaN   \n",
       "s57                      NaN                      NaN   \n",
       "s58              -125.847458               -81.545064   \n",
       "s59                      NaN              -255.819477   \n",
       "s60                      NaN              -102.730375   \n",
       "\n",
       "     StroopColorEffectOrt_T9  StroopColorEffectOrt_T12  \n",
       "ID                                                      \n",
       "s56                      NaN                       NaN  \n",
       "s57                      NaN                       NaN  \n",
       "s58               -94.488189                       NaN  \n",
       "s59              -299.157303               -157.452575  \n",
       "s60               -84.098940                -76.056338  \n",
       "\n",
       "[5 rows x 391 columns]"
      ]
     },
     "execution_count": 1,
     "metadata": {},
     "output_type": "execute_result"
    }
   ],
   "source": [
    "import numpy as np\n",
    "import pandas as pd\n",
    "import matplotlib.pyplot as plt\n",
    "\n",
    "filepath = \"path.xlsx\"\n",
    "df = pd.read_excel(filepath, index_col=0)\n",
    "df.tail()"
   ]
  },
  {
   "cell_type": "code",
   "execution_count": 2,
   "metadata": {},
   "outputs": [
    {
     "data": {
      "text/plain": [
       "['GC', 'GE']"
      ]
     },
     "execution_count": 2,
     "metadata": {},
     "output_type": "execute_result"
    }
   ],
   "source": [
    "list(df['Grupo'].unique())"
   ]
  },
  {
   "cell_type": "code",
   "execution_count": 3,
   "metadata": {},
   "outputs": [],
   "source": [
    "df.loc[df['Grupo'] == 'GC', 'Label'] = int(1)\n",
    "df.loc[df['Grupo'] == 'GE', 'Label'] = int(0)\n",
    "df['Label'] = df['Label'].astype('int64')"
   ]
  },
  {
   "cell_type": "code",
   "execution_count": 4,
   "metadata": {},
   "outputs": [
    {
     "data": {
      "text/plain": [
       "ID\n",
       "s01    1\n",
       "s02    1\n",
       "s03    0\n",
       "s04    1\n",
       "s05    0\n",
       "Name: Label, dtype: int64"
      ]
     },
     "execution_count": 4,
     "metadata": {},
     "output_type": "execute_result"
    }
   ],
   "source": [
    "df['Label'].head()"
   ]
  },
  {
   "cell_type": "code",
   "execution_count": 99,
   "metadata": {},
   "outputs": [],
   "source": [
    "from sklearn.model_selection import cross_val_score\n",
    "from skrebate import ReliefF\n",
    "from sklearn.pipeline import make_pipeline\n",
    "from sklearn.ensemble import RandomForestClassifier\n",
    "from sklearn.svm import SVC\n",
    "\n",
    "\n",
    "def generate_experiment(df, classifier, relief=True):\n",
    "    features, labels = df.drop(['Label'], axis=1).astype('float64').values, df['Label'].astype('int64').values\n",
    "    \n",
    "    if relief:\n",
    "        clf = make_pipeline(\n",
    "            *[ReliefF(n_features_to_select=10, n_neighbors=100, verbose=False, n_jobs=8), classifier],\n",
    "            verbose=False,\n",
    "        )\n",
    "        clf.fit(features, labels)\n",
    "    else:\n",
    "        clf = make_pipeline(\n",
    "            *[classifier],\n",
    "            verbose=False,\n",
    "        )\n",
    "        clf.fit(features, labels)\n",
    "\n",
    "    scores = cross_val_score(clf, features, labels)\n",
    "    print(\"Accuracy: %0.2f (+/- %0.2f)\" % (scores.mean(), scores.std() * 2))\n",
    "    scores = cross_val_score(clf, features, labels, scoring='f1_micro')\n",
    "    print(\"F1 Micro: %0.2f (+/- %0.2f)\" % (scores.mean(), scores.std() * 2))\n",
    "    scores = cross_val_score(clf, features, labels, scoring='precision')\n",
    "    print(\"Precision: %0.2f (+/- %0.2f)\" % (scores.mean(), scores.std() * 2))\n",
    "    scores = cross_val_score(clf, features, labels, scoring='recall')\n",
    "    print(\"Recall: %0.2f (+/- %0.2f)\" % (scores.mean(), scores.std() * 2))\n",
    "    scores = cross_val_score(clf, features, labels, scoring='roc_auc')\n",
    "    print(\"ROC: %0.2f (+/- %0.2f)\" % (scores.mean(), scores.std() * 2))\n",
    "\n",
    "    if relief:\n",
    "        relief = clf.get_params()['steps'][0][1]\n",
    "        dfcolumns = pd.DataFrame(df.drop(['Label'], axis=1).columns)\n",
    "        dfscores = pd.DataFrame(relief.feature_importances_)\n",
    "\n",
    "        featureScores = pd.concat([dfcolumns, dfscores], axis=1)\n",
    "        featureScores.columns = ['Features','Score']\n",
    "        df_features_scores = featureScores.sort_values(\"Score\", ascending=False)\n",
    "        return df_features_scores[:10]"
   ]
  },
  {
   "cell_type": "markdown",
   "metadata": {},
   "source": [
    "# Experiments\n",
    "- The goal is to find the features that most represent the final evaluation state\n",
    "- Use T0, T3, T6, T9, T12 to predict the Group (GC or GE)\n",
    "    \n",
    "# Preprocessing\n",
    "- Remove patients with NaNs on T12 evaluations\n",
    "- Replace NaNs by an average of the previous and posterior evaluation moment\n",
    "- **17 subjects** by considering only subjects that have all the measures.\n",
    "- **31 subjects** by considering subjects that may have missed evaluations but have the T12.\n",
    "- **42 subjects** by considering subjects that may have missed evaluations and predicting the T9 state instead of T12\n",
    "\n",
    "# Experiment #1\n",
    "- Using only measurements T0 and T2 to predict the group (GC or GE)"
   ]
  },
  {
   "cell_type": "code",
   "execution_count": 100,
   "metadata": {
    "scrolled": true
   },
   "outputs": [],
   "source": [
    "drop_cols = [col for col in df.columns if \"T3\" in col or \"T6\" in col or \"T9\" in col]\n",
    "T0_T12_df = df.drop(labels=drop_cols, axis=1)\n",
    "T0_T12_df = T0_T12_df.drop(labels=['Grupo', 'Sexo'], axis=1)\n",
    "T0_T12_df = T0_T12_df.dropna()"
   ]
  },
  {
   "cell_type": "code",
   "execution_count": 101,
   "metadata": {
    "scrolled": true
   },
   "outputs": [
    {
     "name": "stdout",
     "output_type": "stream",
     "text": [
      "22\n"
     ]
    },
    {
     "data": {
      "text/html": [
       "<div>\n",
       "<style scoped>\n",
       "    .dataframe tbody tr th:only-of-type {\n",
       "        vertical-align: middle;\n",
       "    }\n",
       "\n",
       "    .dataframe tbody tr th {\n",
       "        vertical-align: top;\n",
       "    }\n",
       "\n",
       "    .dataframe thead th {\n",
       "        text-align: right;\n",
       "    }\n",
       "</style>\n",
       "<table border=\"1\" class=\"dataframe\">\n",
       "  <thead>\n",
       "    <tr style=\"text-align: right;\">\n",
       "      <th></th>\n",
       "      <th>Idade</th>\n",
       "      <th>Massa</th>\n",
       "      <th>Estatura</th>\n",
       "      <th>IMC</th>\n",
       "      <th>Gait_Speed_TS_T0</th>\n",
       "      <th>Gait_Speed_TS_T12</th>\n",
       "      <th>Gait_Variability_TS_T0</th>\n",
       "      <th>Gait_Variability_TS_T12</th>\n",
       "      <th>Gait_Assimetry_TS_T0</th>\n",
       "      <th>Gait_Assimetry_TS_T12</th>\n",
       "      <th>...</th>\n",
       "      <th>StroopColor_T12</th>\n",
       "      <th>StroopColorEffect_T0</th>\n",
       "      <th>StroopColorEffect_T12</th>\n",
       "      <th>StroopPB_ortost_T0</th>\n",
       "      <th>StroopPB_ortost_T12</th>\n",
       "      <th>StroopColor_ortost_T0</th>\n",
       "      <th>StroopColor_ortost_T12</th>\n",
       "      <th>StroopColorEffectOrt_T0</th>\n",
       "      <th>StroopColorEffectOrt_T12</th>\n",
       "      <th>Label</th>\n",
       "    </tr>\n",
       "    <tr>\n",
       "      <th>ID</th>\n",
       "      <th></th>\n",
       "      <th></th>\n",
       "      <th></th>\n",
       "      <th></th>\n",
       "      <th></th>\n",
       "      <th></th>\n",
       "      <th></th>\n",
       "      <th></th>\n",
       "      <th></th>\n",
       "      <th></th>\n",
       "      <th></th>\n",
       "      <th></th>\n",
       "      <th></th>\n",
       "      <th></th>\n",
       "      <th></th>\n",
       "      <th></th>\n",
       "      <th></th>\n",
       "      <th></th>\n",
       "      <th></th>\n",
       "      <th></th>\n",
       "      <th></th>\n",
       "    </tr>\n",
       "  </thead>\n",
       "  <tbody>\n",
       "    <tr>\n",
       "      <th>s02</th>\n",
       "      <td>60</td>\n",
       "      <td>63.0</td>\n",
       "      <td>1.64</td>\n",
       "      <td>23.423557</td>\n",
       "      <td>1.41</td>\n",
       "      <td>1.31</td>\n",
       "      <td>2.57</td>\n",
       "      <td>2.22</td>\n",
       "      <td>-1.9</td>\n",
       "      <td>5.5</td>\n",
       "      <td>...</td>\n",
       "      <td>41.3</td>\n",
       "      <td>-50.488599</td>\n",
       "      <td>-69.958848</td>\n",
       "      <td>34.0</td>\n",
       "      <td>22.9</td>\n",
       "      <td>56.6</td>\n",
       "      <td>44.3</td>\n",
       "      <td>-66.470588</td>\n",
       "      <td>-93.449782</td>\n",
       "      <td>1</td>\n",
       "    </tr>\n",
       "    <tr>\n",
       "      <th>s03</th>\n",
       "      <td>70</td>\n",
       "      <td>62.9</td>\n",
       "      <td>1.59</td>\n",
       "      <td>24.880345</td>\n",
       "      <td>1.40</td>\n",
       "      <td>1.44</td>\n",
       "      <td>1.90</td>\n",
       "      <td>2.18</td>\n",
       "      <td>1.7</td>\n",
       "      <td>1.1</td>\n",
       "      <td>...</td>\n",
       "      <td>63.4</td>\n",
       "      <td>-140.909091</td>\n",
       "      <td>-129.710145</td>\n",
       "      <td>33.5</td>\n",
       "      <td>29.0</td>\n",
       "      <td>97.1</td>\n",
       "      <td>60.9</td>\n",
       "      <td>-189.850746</td>\n",
       "      <td>-110.000000</td>\n",
       "      <td>0</td>\n",
       "    </tr>\n",
       "    <tr>\n",
       "      <th>s04</th>\n",
       "      <td>64</td>\n",
       "      <td>81.0</td>\n",
       "      <td>1.58</td>\n",
       "      <td>32.446723</td>\n",
       "      <td>1.34</td>\n",
       "      <td>1.46</td>\n",
       "      <td>2.43</td>\n",
       "      <td>3.00</td>\n",
       "      <td>3.1</td>\n",
       "      <td>-1.7</td>\n",
       "      <td>...</td>\n",
       "      <td>50.4</td>\n",
       "      <td>-110.511364</td>\n",
       "      <td>-93.846154</td>\n",
       "      <td>31.2</td>\n",
       "      <td>27.0</td>\n",
       "      <td>71.1</td>\n",
       "      <td>58.8</td>\n",
       "      <td>-127.884615</td>\n",
       "      <td>-117.777778</td>\n",
       "      <td>1</td>\n",
       "    </tr>\n",
       "    <tr>\n",
       "      <th>s06</th>\n",
       "      <td>68</td>\n",
       "      <td>74.0</td>\n",
       "      <td>1.54</td>\n",
       "      <td>31.202564</td>\n",
       "      <td>1.40</td>\n",
       "      <td>1.39</td>\n",
       "      <td>3.66</td>\n",
       "      <td>2.26</td>\n",
       "      <td>0.6</td>\n",
       "      <td>-1.3</td>\n",
       "      <td>...</td>\n",
       "      <td>83.7</td>\n",
       "      <td>-418.000000</td>\n",
       "      <td>-142.608696</td>\n",
       "      <td>56.7</td>\n",
       "      <td>34.4</td>\n",
       "      <td>130.0</td>\n",
       "      <td>78.3</td>\n",
       "      <td>-245.149912</td>\n",
       "      <td>-127.616279</td>\n",
       "      <td>1</td>\n",
       "    </tr>\n",
       "    <tr>\n",
       "      <th>s09</th>\n",
       "      <td>69</td>\n",
       "      <td>56.0</td>\n",
       "      <td>1.50</td>\n",
       "      <td>24.888889</td>\n",
       "      <td>1.45</td>\n",
       "      <td>1.38</td>\n",
       "      <td>1.42</td>\n",
       "      <td>1.57</td>\n",
       "      <td>2.4</td>\n",
       "      <td>-2.5</td>\n",
       "      <td>...</td>\n",
       "      <td>66.2</td>\n",
       "      <td>-157.512953</td>\n",
       "      <td>-89.142857</td>\n",
       "      <td>38.6</td>\n",
       "      <td>32.5</td>\n",
       "      <td>78.6</td>\n",
       "      <td>72.1</td>\n",
       "      <td>-103.626943</td>\n",
       "      <td>-121.846154</td>\n",
       "      <td>0</td>\n",
       "    </tr>\n",
       "  </tbody>\n",
       "</table>\n",
       "<p>5 rows × 159 columns</p>\n",
       "</div>"
      ],
      "text/plain": [
       "     Idade  Massa  Estatura        IMC  Gait_Speed_TS_T0  Gait_Speed_TS_T12  \\\n",
       "ID                                                                            \n",
       "s02     60   63.0      1.64  23.423557              1.41               1.31   \n",
       "s03     70   62.9      1.59  24.880345              1.40               1.44   \n",
       "s04     64   81.0      1.58  32.446723              1.34               1.46   \n",
       "s06     68   74.0      1.54  31.202564              1.40               1.39   \n",
       "s09     69   56.0      1.50  24.888889              1.45               1.38   \n",
       "\n",
       "     Gait_Variability_TS_T0  Gait_Variability_TS_T12  Gait_Assimetry_TS_T0  \\\n",
       "ID                                                                           \n",
       "s02                    2.57                     2.22                  -1.9   \n",
       "s03                    1.90                     2.18                   1.7   \n",
       "s04                    2.43                     3.00                   3.1   \n",
       "s06                    3.66                     2.26                   0.6   \n",
       "s09                    1.42                     1.57                   2.4   \n",
       "\n",
       "     Gait_Assimetry_TS_T12  ...  StroopColor_T12  StroopColorEffect_T0  \\\n",
       "ID                          ...                                          \n",
       "s02                    5.5  ...             41.3            -50.488599   \n",
       "s03                    1.1  ...             63.4           -140.909091   \n",
       "s04                   -1.7  ...             50.4           -110.511364   \n",
       "s06                   -1.3  ...             83.7           -418.000000   \n",
       "s09                   -2.5  ...             66.2           -157.512953   \n",
       "\n",
       "     StroopColorEffect_T12  StroopPB_ortost_T0  StroopPB_ortost_T12  \\\n",
       "ID                                                                    \n",
       "s02             -69.958848                34.0                 22.9   \n",
       "s03            -129.710145                33.5                 29.0   \n",
       "s04             -93.846154                31.2                 27.0   \n",
       "s06            -142.608696                56.7                 34.4   \n",
       "s09             -89.142857                38.6                 32.5   \n",
       "\n",
       "     StroopColor_ortost_T0  StroopColor_ortost_T12  StroopColorEffectOrt_T0  \\\n",
       "ID                                                                            \n",
       "s02                   56.6                    44.3               -66.470588   \n",
       "s03                   97.1                    60.9              -189.850746   \n",
       "s04                   71.1                    58.8              -127.884615   \n",
       "s06                  130.0                    78.3              -245.149912   \n",
       "s09                   78.6                    72.1              -103.626943   \n",
       "\n",
       "     StroopColorEffectOrt_T12  Label  \n",
       "ID                                    \n",
       "s02                -93.449782      1  \n",
       "s03               -110.000000      0  \n",
       "s04               -117.777778      1  \n",
       "s06               -127.616279      1  \n",
       "s09               -121.846154      0  \n",
       "\n",
       "[5 rows x 159 columns]"
      ]
     },
     "execution_count": 101,
     "metadata": {},
     "output_type": "execute_result"
    }
   ],
   "source": [
    "print(len(T0_T12_df))\n",
    "experiment_1_columns = T0_T12_df.columns\n",
    "T0_T12_df.head()"
   ]
  },
  {
   "cell_type": "code",
   "execution_count": 103,
   "metadata": {},
   "outputs": [
    {
     "name": "stdout",
     "output_type": "stream",
     "text": [
      "Accuracy: 0.48 (+/- 0.62)\n",
      "F1 Micro: 0.49 (+/- 0.48)\n",
      "Precision: 0.53 (+/- 0.80)\n",
      "Recall: 0.67 (+/- 0.56)\n",
      "ROC: 0.62 (+/- 0.53)\n"
     ]
    },
    {
     "data": {
      "text/html": [
       "<div>\n",
       "<style scoped>\n",
       "    .dataframe tbody tr th:only-of-type {\n",
       "        vertical-align: middle;\n",
       "    }\n",
       "\n",
       "    .dataframe tbody tr th {\n",
       "        vertical-align: top;\n",
       "    }\n",
       "\n",
       "    .dataframe thead th {\n",
       "        text-align: right;\n",
       "    }\n",
       "</style>\n",
       "<table border=\"1\" class=\"dataframe\">\n",
       "  <thead>\n",
       "    <tr style=\"text-align: right;\">\n",
       "      <th></th>\n",
       "      <th>Features</th>\n",
       "      <th>Score</th>\n",
       "    </tr>\n",
       "  </thead>\n",
       "  <tbody>\n",
       "    <tr>\n",
       "      <th>108</th>\n",
       "      <td>BIOF_T0</td>\n",
       "      <td>0.297521</td>\n",
       "    </tr>\n",
       "    <tr>\n",
       "      <th>112</th>\n",
       "      <td>CTSIB_Total_T0</td>\n",
       "      <td>0.264463</td>\n",
       "    </tr>\n",
       "    <tr>\n",
       "      <th>135</th>\n",
       "      <td>SF36_Pain_T12</td>\n",
       "      <td>0.206612</td>\n",
       "    </tr>\n",
       "    <tr>\n",
       "      <th>9</th>\n",
       "      <td>Gait_Assimetry_TS_T12</td>\n",
       "      <td>0.186931</td>\n",
       "    </tr>\n",
       "    <tr>\n",
       "      <th>123</th>\n",
       "      <td>GDS_T12</td>\n",
       "      <td>0.173554</td>\n",
       "    </tr>\n",
       "    <tr>\n",
       "      <th>61</th>\n",
       "      <td>Gait_Assimetry_DTPF_T12</td>\n",
       "      <td>0.151534</td>\n",
       "    </tr>\n",
       "    <tr>\n",
       "      <th>114</th>\n",
       "      <td>STS_5X_T0</td>\n",
       "      <td>0.143054</td>\n",
       "    </tr>\n",
       "    <tr>\n",
       "      <th>149</th>\n",
       "      <td>StroopColor_T12</td>\n",
       "      <td>0.132894</td>\n",
       "    </tr>\n",
       "    <tr>\n",
       "      <th>35</th>\n",
       "      <td>Gait_Assimetry_DTPV_T12</td>\n",
       "      <td>0.126865</td>\n",
       "    </tr>\n",
       "    <tr>\n",
       "      <th>92</th>\n",
       "      <td>EERE_T0</td>\n",
       "      <td>0.123967</td>\n",
       "    </tr>\n",
       "  </tbody>\n",
       "</table>\n",
       "</div>"
      ],
      "text/plain": [
       "                    Features     Score\n",
       "108                  BIOF_T0  0.297521\n",
       "112           CTSIB_Total_T0  0.264463\n",
       "135            SF36_Pain_T12  0.206612\n",
       "9      Gait_Assimetry_TS_T12  0.186931\n",
       "123                  GDS_T12  0.173554\n",
       "61   Gait_Assimetry_DTPF_T12  0.151534\n",
       "114                STS_5X_T0  0.143054\n",
       "149          StroopColor_T12  0.132894\n",
       "35   Gait_Assimetry_DTPV_T12  0.126865\n",
       "92                   EERE_T0  0.123967"
      ]
     },
     "execution_count": 103,
     "metadata": {},
     "output_type": "execute_result"
    }
   ],
   "source": [
    "generate_experiment(T0_T12_df, classifier=RandomForestClassifier(n_estimators=100))"
   ]
  },
  {
   "cell_type": "code",
   "execution_count": 104,
   "metadata": {},
   "outputs": [
    {
     "name": "stdout",
     "output_type": "stream",
     "text": [
      "Accuracy: 0.64 (+/- 0.55)\n",
      "F1 Micro: 0.64 (+/- 0.55)\n",
      "Precision: 0.70 (+/- 0.53)\n",
      "Recall: 0.67 (+/- 0.56)\n",
      "ROC: 0.65 (+/- 0.60)\n"
     ]
    },
    {
     "data": {
      "text/html": [
       "<div>\n",
       "<style scoped>\n",
       "    .dataframe tbody tr th:only-of-type {\n",
       "        vertical-align: middle;\n",
       "    }\n",
       "\n",
       "    .dataframe tbody tr th {\n",
       "        vertical-align: top;\n",
       "    }\n",
       "\n",
       "    .dataframe thead th {\n",
       "        text-align: right;\n",
       "    }\n",
       "</style>\n",
       "<table border=\"1\" class=\"dataframe\">\n",
       "  <thead>\n",
       "    <tr style=\"text-align: right;\">\n",
       "      <th></th>\n",
       "      <th>Features</th>\n",
       "      <th>Score</th>\n",
       "    </tr>\n",
       "  </thead>\n",
       "  <tbody>\n",
       "    <tr>\n",
       "      <th>108</th>\n",
       "      <td>BIOF_T0</td>\n",
       "      <td>0.297521</td>\n",
       "    </tr>\n",
       "    <tr>\n",
       "      <th>112</th>\n",
       "      <td>CTSIB_Total_T0</td>\n",
       "      <td>0.264463</td>\n",
       "    </tr>\n",
       "    <tr>\n",
       "      <th>135</th>\n",
       "      <td>SF36_Pain_T12</td>\n",
       "      <td>0.206612</td>\n",
       "    </tr>\n",
       "    <tr>\n",
       "      <th>9</th>\n",
       "      <td>Gait_Assimetry_TS_T12</td>\n",
       "      <td>0.186931</td>\n",
       "    </tr>\n",
       "    <tr>\n",
       "      <th>123</th>\n",
       "      <td>GDS_T12</td>\n",
       "      <td>0.173554</td>\n",
       "    </tr>\n",
       "    <tr>\n",
       "      <th>61</th>\n",
       "      <td>Gait_Assimetry_DTPF_T12</td>\n",
       "      <td>0.151534</td>\n",
       "    </tr>\n",
       "    <tr>\n",
       "      <th>114</th>\n",
       "      <td>STS_5X_T0</td>\n",
       "      <td>0.143054</td>\n",
       "    </tr>\n",
       "    <tr>\n",
       "      <th>149</th>\n",
       "      <td>StroopColor_T12</td>\n",
       "      <td>0.132894</td>\n",
       "    </tr>\n",
       "    <tr>\n",
       "      <th>35</th>\n",
       "      <td>Gait_Assimetry_DTPV_T12</td>\n",
       "      <td>0.126865</td>\n",
       "    </tr>\n",
       "    <tr>\n",
       "      <th>92</th>\n",
       "      <td>EERE_T0</td>\n",
       "      <td>0.123967</td>\n",
       "    </tr>\n",
       "  </tbody>\n",
       "</table>\n",
       "</div>"
      ],
      "text/plain": [
       "                    Features     Score\n",
       "108                  BIOF_T0  0.297521\n",
       "112           CTSIB_Total_T0  0.264463\n",
       "135            SF36_Pain_T12  0.206612\n",
       "9      Gait_Assimetry_TS_T12  0.186931\n",
       "123                  GDS_T12  0.173554\n",
       "61   Gait_Assimetry_DTPF_T12  0.151534\n",
       "114                STS_5X_T0  0.143054\n",
       "149          StroopColor_T12  0.132894\n",
       "35   Gait_Assimetry_DTPV_T12  0.126865\n",
       "92                   EERE_T0  0.123967"
      ]
     },
     "execution_count": 104,
     "metadata": {},
     "output_type": "execute_result"
    }
   ],
   "source": [
    "generate_experiment(T0_T12_df, classifier=SVC(kernel='linear'))"
   ]
  },
  {
   "cell_type": "code",
   "execution_count": 105,
   "metadata": {},
   "outputs": [
    {
     "name": "stdout",
     "output_type": "stream",
     "text": [
      "Accuracy: 0.61 (+/- 0.47)\n",
      "F1 Micro: 0.61 (+/- 0.47)\n"
     ]
    },
    {
     "name": "stderr",
     "output_type": "stream",
     "text": [
      "/home/sarai/.virtualenvs/relief/lib/python3.7/site-packages/sklearn/metrics/_classification.py:1268: UndefinedMetricWarning: Precision is ill-defined and being set to 0.0 due to no predicted samples. Use `zero_division` parameter to control this behavior.\n",
      "  _warn_prf(average, modifier, msg_start, len(result))\n"
     ]
    },
    {
     "name": "stdout",
     "output_type": "stream",
     "text": [
      "Precision: 0.51 (+/- 0.66)\n",
      "Recall: 0.80 (+/- 0.80)\n",
      "ROC: 0.70 (+/- 0.80)\n"
     ]
    },
    {
     "data": {
      "text/html": [
       "<div>\n",
       "<style scoped>\n",
       "    .dataframe tbody tr th:only-of-type {\n",
       "        vertical-align: middle;\n",
       "    }\n",
       "\n",
       "    .dataframe tbody tr th {\n",
       "        vertical-align: top;\n",
       "    }\n",
       "\n",
       "    .dataframe thead th {\n",
       "        text-align: right;\n",
       "    }\n",
       "</style>\n",
       "<table border=\"1\" class=\"dataframe\">\n",
       "  <thead>\n",
       "    <tr style=\"text-align: right;\">\n",
       "      <th></th>\n",
       "      <th>Features</th>\n",
       "      <th>Score</th>\n",
       "    </tr>\n",
       "  </thead>\n",
       "  <tbody>\n",
       "    <tr>\n",
       "      <th>108</th>\n",
       "      <td>BIOF_T0</td>\n",
       "      <td>0.297521</td>\n",
       "    </tr>\n",
       "    <tr>\n",
       "      <th>112</th>\n",
       "      <td>CTSIB_Total_T0</td>\n",
       "      <td>0.264463</td>\n",
       "    </tr>\n",
       "    <tr>\n",
       "      <th>135</th>\n",
       "      <td>SF36_Pain_T12</td>\n",
       "      <td>0.206612</td>\n",
       "    </tr>\n",
       "    <tr>\n",
       "      <th>9</th>\n",
       "      <td>Gait_Assimetry_TS_T12</td>\n",
       "      <td>0.186931</td>\n",
       "    </tr>\n",
       "    <tr>\n",
       "      <th>123</th>\n",
       "      <td>GDS_T12</td>\n",
       "      <td>0.173554</td>\n",
       "    </tr>\n",
       "    <tr>\n",
       "      <th>61</th>\n",
       "      <td>Gait_Assimetry_DTPF_T12</td>\n",
       "      <td>0.151534</td>\n",
       "    </tr>\n",
       "    <tr>\n",
       "      <th>114</th>\n",
       "      <td>STS_5X_T0</td>\n",
       "      <td>0.143054</td>\n",
       "    </tr>\n",
       "    <tr>\n",
       "      <th>149</th>\n",
       "      <td>StroopColor_T12</td>\n",
       "      <td>0.132894</td>\n",
       "    </tr>\n",
       "    <tr>\n",
       "      <th>35</th>\n",
       "      <td>Gait_Assimetry_DTPV_T12</td>\n",
       "      <td>0.126865</td>\n",
       "    </tr>\n",
       "    <tr>\n",
       "      <th>92</th>\n",
       "      <td>EERE_T0</td>\n",
       "      <td>0.123967</td>\n",
       "    </tr>\n",
       "  </tbody>\n",
       "</table>\n",
       "</div>"
      ],
      "text/plain": [
       "                    Features     Score\n",
       "108                  BIOF_T0  0.297521\n",
       "112           CTSIB_Total_T0  0.264463\n",
       "135            SF36_Pain_T12  0.206612\n",
       "9      Gait_Assimetry_TS_T12  0.186931\n",
       "123                  GDS_T12  0.173554\n",
       "61   Gait_Assimetry_DTPF_T12  0.151534\n",
       "114                STS_5X_T0  0.143054\n",
       "149          StroopColor_T12  0.132894\n",
       "35   Gait_Assimetry_DTPV_T12  0.126865\n",
       "92                   EERE_T0  0.123967"
      ]
     },
     "execution_count": 105,
     "metadata": {},
     "output_type": "execute_result"
    }
   ],
   "source": [
    "generate_experiment(T0_T12_df, classifier=SVC(kernel='sigmoid'))"
   ]
  },
  {
   "cell_type": "code",
   "execution_count": 106,
   "metadata": {
    "scrolled": false
   },
   "outputs": [
    {
     "name": "stdout",
     "output_type": "stream",
     "text": [
      "Accuracy: 0.46 (+/- 0.61)\n",
      "F1 Micro: 0.46 (+/- 0.61)\n",
      "Precision: 0.52 (+/- 0.82)\n",
      "Recall: 0.47 (+/- 0.65)\n",
      "ROC: 0.52 (+/- 0.73)\n"
     ]
    },
    {
     "data": {
      "text/html": [
       "<div>\n",
       "<style scoped>\n",
       "    .dataframe tbody tr th:only-of-type {\n",
       "        vertical-align: middle;\n",
       "    }\n",
       "\n",
       "    .dataframe tbody tr th {\n",
       "        vertical-align: top;\n",
       "    }\n",
       "\n",
       "    .dataframe thead th {\n",
       "        text-align: right;\n",
       "    }\n",
       "</style>\n",
       "<table border=\"1\" class=\"dataframe\">\n",
       "  <thead>\n",
       "    <tr style=\"text-align: right;\">\n",
       "      <th></th>\n",
       "      <th>Features</th>\n",
       "      <th>Score</th>\n",
       "    </tr>\n",
       "  </thead>\n",
       "  <tbody>\n",
       "    <tr>\n",
       "      <th>108</th>\n",
       "      <td>BIOF_T0</td>\n",
       "      <td>0.297521</td>\n",
       "    </tr>\n",
       "    <tr>\n",
       "      <th>112</th>\n",
       "      <td>CTSIB_Total_T0</td>\n",
       "      <td>0.264463</td>\n",
       "    </tr>\n",
       "    <tr>\n",
       "      <th>135</th>\n",
       "      <td>SF36_Pain_T12</td>\n",
       "      <td>0.206612</td>\n",
       "    </tr>\n",
       "    <tr>\n",
       "      <th>9</th>\n",
       "      <td>Gait_Assimetry_TS_T12</td>\n",
       "      <td>0.186931</td>\n",
       "    </tr>\n",
       "    <tr>\n",
       "      <th>123</th>\n",
       "      <td>GDS_T12</td>\n",
       "      <td>0.173554</td>\n",
       "    </tr>\n",
       "    <tr>\n",
       "      <th>61</th>\n",
       "      <td>Gait_Assimetry_DTPF_T12</td>\n",
       "      <td>0.151534</td>\n",
       "    </tr>\n",
       "    <tr>\n",
       "      <th>114</th>\n",
       "      <td>STS_5X_T0</td>\n",
       "      <td>0.143054</td>\n",
       "    </tr>\n",
       "    <tr>\n",
       "      <th>149</th>\n",
       "      <td>StroopColor_T12</td>\n",
       "      <td>0.132894</td>\n",
       "    </tr>\n",
       "    <tr>\n",
       "      <th>35</th>\n",
       "      <td>Gait_Assimetry_DTPV_T12</td>\n",
       "      <td>0.126865</td>\n",
       "    </tr>\n",
       "    <tr>\n",
       "      <th>92</th>\n",
       "      <td>EERE_T0</td>\n",
       "      <td>0.123967</td>\n",
       "    </tr>\n",
       "  </tbody>\n",
       "</table>\n",
       "</div>"
      ],
      "text/plain": [
       "                    Features     Score\n",
       "108                  BIOF_T0  0.297521\n",
       "112           CTSIB_Total_T0  0.264463\n",
       "135            SF36_Pain_T12  0.206612\n",
       "9      Gait_Assimetry_TS_T12  0.186931\n",
       "123                  GDS_T12  0.173554\n",
       "61   Gait_Assimetry_DTPF_T12  0.151534\n",
       "114                STS_5X_T0  0.143054\n",
       "149          StroopColor_T12  0.132894\n",
       "35   Gait_Assimetry_DTPV_T12  0.126865\n",
       "92                   EERE_T0  0.123967"
      ]
     },
     "execution_count": 106,
     "metadata": {},
     "output_type": "execute_result"
    }
   ],
   "source": [
    "generate_experiment(T0_T12_df, classifier=SVC(kernel='poly'))"
   ]
  },
  {
   "cell_type": "markdown",
   "metadata": {},
   "source": [
    "## Without Relief (feature selection)"
   ]
  },
  {
   "cell_type": "code",
   "execution_count": 108,
   "metadata": {},
   "outputs": [
    {
     "name": "stdout",
     "output_type": "stream",
     "text": [
      "Accuracy: 0.59 (+/- 0.31)\n",
      "F1 Micro: 0.53 (+/- 0.48)\n",
      "Precision: 0.60 (+/- 0.78)\n",
      "Recall: 0.57 (+/- 0.78)\n",
      "ROC: 0.55 (+/- 0.90)\n"
     ]
    }
   ],
   "source": [
    "generate_experiment(T0_T12_df, classifier=RandomForestClassifier(n_estimators=100), relief=False)"
   ]
  },
  {
   "cell_type": "code",
   "execution_count": 109,
   "metadata": {},
   "outputs": [
    {
     "name": "stdout",
     "output_type": "stream",
     "text": [
      "Accuracy: 0.50 (+/- 0.34)\n",
      "F1 Micro: 0.50 (+/- 0.34)\n",
      "Precision: 0.50 (+/- 0.21)\n",
      "Recall: 0.57 (+/- 0.45)\n",
      "ROC: 0.55 (+/- 0.53)\n"
     ]
    }
   ],
   "source": [
    "generate_experiment(T0_T12_df, classifier=SVC(kernel='linear'), relief=False)"
   ]
  },
  {
   "cell_type": "code",
   "execution_count": 110,
   "metadata": {},
   "outputs": [
    {
     "name": "stdout",
     "output_type": "stream",
     "text": [
      "Accuracy: 0.41 (+/- 0.18)\n",
      "F1 Micro: 0.41 (+/- 0.18)\n",
      "Precision: 0.18 (+/- 0.45)\n",
      "Recall: 0.30 (+/- 0.80)\n",
      "ROC: 0.28 (+/- 0.08)\n"
     ]
    },
    {
     "name": "stderr",
     "output_type": "stream",
     "text": [
      "/home/sarai/.virtualenvs/relief/lib/python3.7/site-packages/sklearn/metrics/_classification.py:1268: UndefinedMetricWarning: Precision is ill-defined and being set to 0.0 due to no predicted samples. Use `zero_division` parameter to control this behavior.\n",
      "  _warn_prf(average, modifier, msg_start, len(result))\n",
      "/home/sarai/.virtualenvs/relief/lib/python3.7/site-packages/sklearn/metrics/_classification.py:1268: UndefinedMetricWarning: Precision is ill-defined and being set to 0.0 due to no predicted samples. Use `zero_division` parameter to control this behavior.\n",
      "  _warn_prf(average, modifier, msg_start, len(result))\n"
     ]
    }
   ],
   "source": [
    "generate_experiment(T0_T12_df, classifier=SVC(kernel='sigmoid'), relief=False)"
   ]
  },
  {
   "cell_type": "code",
   "execution_count": 111,
   "metadata": {},
   "outputs": [
    {
     "name": "stdout",
     "output_type": "stream",
     "text": [
      "Accuracy: 0.36 (+/- 0.37)\n",
      "F1 Micro: 0.36 (+/- 0.37)\n",
      "Precision: 0.08 (+/- 0.32)\n",
      "Recall: 0.20 (+/- 0.80)\n",
      "ROC: 0.37 (+/- 0.39)\n"
     ]
    },
    {
     "name": "stderr",
     "output_type": "stream",
     "text": [
      "/home/sarai/.virtualenvs/relief/lib/python3.7/site-packages/sklearn/metrics/_classification.py:1268: UndefinedMetricWarning: Precision is ill-defined and being set to 0.0 due to no predicted samples. Use `zero_division` parameter to control this behavior.\n",
      "  _warn_prf(average, modifier, msg_start, len(result))\n",
      "/home/sarai/.virtualenvs/relief/lib/python3.7/site-packages/sklearn/metrics/_classification.py:1268: UndefinedMetricWarning: Precision is ill-defined and being set to 0.0 due to no predicted samples. Use `zero_division` parameter to control this behavior.\n",
      "  _warn_prf(average, modifier, msg_start, len(result))\n",
      "/home/sarai/.virtualenvs/relief/lib/python3.7/site-packages/sklearn/metrics/_classification.py:1268: UndefinedMetricWarning: Precision is ill-defined and being set to 0.0 due to no predicted samples. Use `zero_division` parameter to control this behavior.\n",
      "  _warn_prf(average, modifier, msg_start, len(result))\n"
     ]
    }
   ],
   "source": [
    "generate_experiment(T0_T12_df, classifier=SVC(kernel='poly'), relief=False)"
   ]
  },
  {
   "cell_type": "markdown",
   "metadata": {},
   "source": [
    "# Experiment 2\n",
    "- Using only measurements from T0 to predict the group (GC or GE)"
   ]
  },
  {
   "cell_type": "code",
   "execution_count": 112,
   "metadata": {},
   "outputs": [],
   "source": [
    "drop_cols = [col for col in df.columns if \"T3\" in col or \"T6\" in col or \"T9\" in col or \"T12\" in col]\n",
    "T0_df = df.drop(labels=drop_cols, axis=1)\n",
    "T0_df = T0_df.drop(labels=['Grupo', 'Sexo', 'Missing Values'], axis=1)\n",
    "T0_df = T0_df.dropna()"
   ]
  },
  {
   "cell_type": "code",
   "execution_count": 114,
   "metadata": {},
   "outputs": [
    {
     "name": "stdout",
     "output_type": "stream",
     "text": [
      "Accuracy: 0.39 (+/- 0.15)\n",
      "F1 Micro: 0.39 (+/- 0.15)\n",
      "Precision: 0.30 (+/- 0.36)\n",
      "Recall: 0.39 (+/- 0.68)\n",
      "ROC: 0.23 (+/- 0.33)\n"
     ]
    },
    {
     "data": {
      "text/html": [
       "<div>\n",
       "<style scoped>\n",
       "    .dataframe tbody tr th:only-of-type {\n",
       "        vertical-align: middle;\n",
       "    }\n",
       "\n",
       "    .dataframe tbody tr th {\n",
       "        vertical-align: top;\n",
       "    }\n",
       "\n",
       "    .dataframe thead th {\n",
       "        text-align: right;\n",
       "    }\n",
       "</style>\n",
       "<table border=\"1\" class=\"dataframe\">\n",
       "  <thead>\n",
       "    <tr style=\"text-align: right;\">\n",
       "      <th></th>\n",
       "      <th>Features</th>\n",
       "      <th>Score</th>\n",
       "    </tr>\n",
       "  </thead>\n",
       "  <tbody>\n",
       "    <tr>\n",
       "      <th>56</th>\n",
       "      <td>BIOF_T0</td>\n",
       "      <td>0.099112</td>\n",
       "    </tr>\n",
       "    <tr>\n",
       "      <th>58</th>\n",
       "      <td>CTSIB_Total_T0</td>\n",
       "      <td>0.081361</td>\n",
       "    </tr>\n",
       "    <tr>\n",
       "      <th>15</th>\n",
       "      <td>SwingSpeed_D_TS_T0</td>\n",
       "      <td>0.054231</td>\n",
       "    </tr>\n",
       "    <tr>\n",
       "      <th>64</th>\n",
       "      <td>SF36_PF_T0</td>\n",
       "      <td>0.042792</td>\n",
       "    </tr>\n",
       "    <tr>\n",
       "      <th>19</th>\n",
       "      <td>Gait_Assimetry_DTPV_T0</td>\n",
       "      <td>0.039463</td>\n",
       "    </tr>\n",
       "    <tr>\n",
       "      <th>52</th>\n",
       "      <td>BEOA_T0</td>\n",
       "      <td>0.036982</td>\n",
       "    </tr>\n",
       "    <tr>\n",
       "      <th>28</th>\n",
       "      <td>SwingSpeed_D_DTPV_T0</td>\n",
       "      <td>0.035598</td>\n",
       "    </tr>\n",
       "    <tr>\n",
       "      <th>71</th>\n",
       "      <td>SF36_GHP_T0</td>\n",
       "      <td>0.032914</td>\n",
       "    </tr>\n",
       "    <tr>\n",
       "      <th>14</th>\n",
       "      <td>PeakAngVelocity_D_TS_T0</td>\n",
       "      <td>0.031757</td>\n",
       "    </tr>\n",
       "    <tr>\n",
       "      <th>29</th>\n",
       "      <td>MinToe_D_DTPV_T0</td>\n",
       "      <td>0.031065</td>\n",
       "    </tr>\n",
       "  </tbody>\n",
       "</table>\n",
       "</div>"
      ],
      "text/plain": [
       "                   Features     Score\n",
       "56                  BIOF_T0  0.099112\n",
       "58           CTSIB_Total_T0  0.081361\n",
       "15       SwingSpeed_D_TS_T0  0.054231\n",
       "64               SF36_PF_T0  0.042792\n",
       "19   Gait_Assimetry_DTPV_T0  0.039463\n",
       "52                  BEOA_T0  0.036982\n",
       "28     SwingSpeed_D_DTPV_T0  0.035598\n",
       "71              SF36_GHP_T0  0.032914\n",
       "14  PeakAngVelocity_D_TS_T0  0.031757\n",
       "29         MinToe_D_DTPV_T0  0.031065"
      ]
     },
     "execution_count": 114,
     "metadata": {},
     "output_type": "execute_result"
    }
   ],
   "source": [
    "generate_experiment(T0_df, classifier=SVC(kernel='poly'))"
   ]
  },
  {
   "cell_type": "code",
   "execution_count": 115,
   "metadata": {},
   "outputs": [
    {
     "name": "stdout",
     "output_type": "stream",
     "text": [
      "Accuracy: 0.48 (+/- 0.13)\n",
      "F1 Micro: 0.48 (+/- 0.13)\n"
     ]
    },
    {
     "name": "stderr",
     "output_type": "stream",
     "text": [
      "/home/sarai/.virtualenvs/relief/lib/python3.7/site-packages/sklearn/metrics/_classification.py:1268: UndefinedMetricWarning: Precision is ill-defined and being set to 0.0 due to no predicted samples. Use `zero_division` parameter to control this behavior.\n",
      "  _warn_prf(average, modifier, msg_start, len(result))\n",
      "/home/sarai/.virtualenvs/relief/lib/python3.7/site-packages/sklearn/metrics/_classification.py:1268: UndefinedMetricWarning: Precision is ill-defined and being set to 0.0 due to no predicted samples. Use `zero_division` parameter to control this behavior.\n",
      "  _warn_prf(average, modifier, msg_start, len(result))\n"
     ]
    },
    {
     "name": "stdout",
     "output_type": "stream",
     "text": [
      "Precision: 0.29 (+/- 0.49)\n",
      "Recall: 0.40 (+/- 0.76)\n",
      "ROC: 0.40 (+/- 0.34)\n"
     ]
    },
    {
     "data": {
      "text/html": [
       "<div>\n",
       "<style scoped>\n",
       "    .dataframe tbody tr th:only-of-type {\n",
       "        vertical-align: middle;\n",
       "    }\n",
       "\n",
       "    .dataframe tbody tr th {\n",
       "        vertical-align: top;\n",
       "    }\n",
       "\n",
       "    .dataframe thead th {\n",
       "        text-align: right;\n",
       "    }\n",
       "</style>\n",
       "<table border=\"1\" class=\"dataframe\">\n",
       "  <thead>\n",
       "    <tr style=\"text-align: right;\">\n",
       "      <th></th>\n",
       "      <th>Features</th>\n",
       "      <th>Score</th>\n",
       "    </tr>\n",
       "  </thead>\n",
       "  <tbody>\n",
       "    <tr>\n",
       "      <th>56</th>\n",
       "      <td>BIOF_T0</td>\n",
       "      <td>0.099112</td>\n",
       "    </tr>\n",
       "    <tr>\n",
       "      <th>58</th>\n",
       "      <td>CTSIB_Total_T0</td>\n",
       "      <td>0.081361</td>\n",
       "    </tr>\n",
       "    <tr>\n",
       "      <th>15</th>\n",
       "      <td>SwingSpeed_D_TS_T0</td>\n",
       "      <td>0.054231</td>\n",
       "    </tr>\n",
       "    <tr>\n",
       "      <th>64</th>\n",
       "      <td>SF36_PF_T0</td>\n",
       "      <td>0.042792</td>\n",
       "    </tr>\n",
       "    <tr>\n",
       "      <th>19</th>\n",
       "      <td>Gait_Assimetry_DTPV_T0</td>\n",
       "      <td>0.039463</td>\n",
       "    </tr>\n",
       "    <tr>\n",
       "      <th>52</th>\n",
       "      <td>BEOA_T0</td>\n",
       "      <td>0.036982</td>\n",
       "    </tr>\n",
       "    <tr>\n",
       "      <th>28</th>\n",
       "      <td>SwingSpeed_D_DTPV_T0</td>\n",
       "      <td>0.035598</td>\n",
       "    </tr>\n",
       "    <tr>\n",
       "      <th>71</th>\n",
       "      <td>SF36_GHP_T0</td>\n",
       "      <td>0.032914</td>\n",
       "    </tr>\n",
       "    <tr>\n",
       "      <th>14</th>\n",
       "      <td>PeakAngVelocity_D_TS_T0</td>\n",
       "      <td>0.031757</td>\n",
       "    </tr>\n",
       "    <tr>\n",
       "      <th>29</th>\n",
       "      <td>MinToe_D_DTPV_T0</td>\n",
       "      <td>0.031065</td>\n",
       "    </tr>\n",
       "  </tbody>\n",
       "</table>\n",
       "</div>"
      ],
      "text/plain": [
       "                   Features     Score\n",
       "56                  BIOF_T0  0.099112\n",
       "58           CTSIB_Total_T0  0.081361\n",
       "15       SwingSpeed_D_TS_T0  0.054231\n",
       "64               SF36_PF_T0  0.042792\n",
       "19   Gait_Assimetry_DTPV_T0  0.039463\n",
       "52                  BEOA_T0  0.036982\n",
       "28     SwingSpeed_D_DTPV_T0  0.035598\n",
       "71              SF36_GHP_T0  0.032914\n",
       "14  PeakAngVelocity_D_TS_T0  0.031757\n",
       "29         MinToe_D_DTPV_T0  0.031065"
      ]
     },
     "execution_count": 115,
     "metadata": {},
     "output_type": "execute_result"
    }
   ],
   "source": [
    "generate_experiment(T0_df, classifier=SVC(kernel='sigmoid'))"
   ]
  },
  {
   "cell_type": "code",
   "execution_count": 116,
   "metadata": {
    "scrolled": false
   },
   "outputs": [
    {
     "name": "stdout",
     "output_type": "stream",
     "text": [
      "Accuracy: 0.52 (+/- 0.27)\n",
      "F1 Micro: 0.52 (+/- 0.27)\n",
      "Precision: 0.45 (+/- 0.46)\n",
      "Recall: 0.51 (+/- 0.61)\n",
      "ROC: 0.58 (+/- 0.38)\n"
     ]
    },
    {
     "data": {
      "text/html": [
       "<div>\n",
       "<style scoped>\n",
       "    .dataframe tbody tr th:only-of-type {\n",
       "        vertical-align: middle;\n",
       "    }\n",
       "\n",
       "    .dataframe tbody tr th {\n",
       "        vertical-align: top;\n",
       "    }\n",
       "\n",
       "    .dataframe thead th {\n",
       "        text-align: right;\n",
       "    }\n",
       "</style>\n",
       "<table border=\"1\" class=\"dataframe\">\n",
       "  <thead>\n",
       "    <tr style=\"text-align: right;\">\n",
       "      <th></th>\n",
       "      <th>Features</th>\n",
       "      <th>Score</th>\n",
       "    </tr>\n",
       "  </thead>\n",
       "  <tbody>\n",
       "    <tr>\n",
       "      <th>56</th>\n",
       "      <td>BIOF_T0</td>\n",
       "      <td>0.099112</td>\n",
       "    </tr>\n",
       "    <tr>\n",
       "      <th>58</th>\n",
       "      <td>CTSIB_Total_T0</td>\n",
       "      <td>0.081361</td>\n",
       "    </tr>\n",
       "    <tr>\n",
       "      <th>15</th>\n",
       "      <td>SwingSpeed_D_TS_T0</td>\n",
       "      <td>0.054231</td>\n",
       "    </tr>\n",
       "    <tr>\n",
       "      <th>64</th>\n",
       "      <td>SF36_PF_T0</td>\n",
       "      <td>0.042792</td>\n",
       "    </tr>\n",
       "    <tr>\n",
       "      <th>19</th>\n",
       "      <td>Gait_Assimetry_DTPV_T0</td>\n",
       "      <td>0.039463</td>\n",
       "    </tr>\n",
       "    <tr>\n",
       "      <th>52</th>\n",
       "      <td>BEOA_T0</td>\n",
       "      <td>0.036982</td>\n",
       "    </tr>\n",
       "    <tr>\n",
       "      <th>28</th>\n",
       "      <td>SwingSpeed_D_DTPV_T0</td>\n",
       "      <td>0.035598</td>\n",
       "    </tr>\n",
       "    <tr>\n",
       "      <th>71</th>\n",
       "      <td>SF36_GHP_T0</td>\n",
       "      <td>0.032914</td>\n",
       "    </tr>\n",
       "    <tr>\n",
       "      <th>14</th>\n",
       "      <td>PeakAngVelocity_D_TS_T0</td>\n",
       "      <td>0.031757</td>\n",
       "    </tr>\n",
       "    <tr>\n",
       "      <th>29</th>\n",
       "      <td>MinToe_D_DTPV_T0</td>\n",
       "      <td>0.031065</td>\n",
       "    </tr>\n",
       "  </tbody>\n",
       "</table>\n",
       "</div>"
      ],
      "text/plain": [
       "                   Features     Score\n",
       "56                  BIOF_T0  0.099112\n",
       "58           CTSIB_Total_T0  0.081361\n",
       "15       SwingSpeed_D_TS_T0  0.054231\n",
       "64               SF36_PF_T0  0.042792\n",
       "19   Gait_Assimetry_DTPV_T0  0.039463\n",
       "52                  BEOA_T0  0.036982\n",
       "28     SwingSpeed_D_DTPV_T0  0.035598\n",
       "71              SF36_GHP_T0  0.032914\n",
       "14  PeakAngVelocity_D_TS_T0  0.031757\n",
       "29         MinToe_D_DTPV_T0  0.031065"
      ]
     },
     "execution_count": 116,
     "metadata": {},
     "output_type": "execute_result"
    }
   ],
   "source": [
    "generate_experiment(T0_df, classifier=SVC(kernel='linear'))"
   ]
  },
  {
   "cell_type": "code",
   "execution_count": 118,
   "metadata": {},
   "outputs": [
    {
     "name": "stdout",
     "output_type": "stream",
     "text": [
      "Accuracy: 0.51 (+/- 0.26)\n",
      "F1 Micro: 0.46 (+/- 0.11)\n",
      "Precision: 0.56 (+/- 0.49)\n",
      "Recall: 0.58 (+/- 0.27)\n",
      "ROC: 0.45 (+/- 0.24)\n"
     ]
    },
    {
     "data": {
      "text/html": [
       "<div>\n",
       "<style scoped>\n",
       "    .dataframe tbody tr th:only-of-type {\n",
       "        vertical-align: middle;\n",
       "    }\n",
       "\n",
       "    .dataframe tbody tr th {\n",
       "        vertical-align: top;\n",
       "    }\n",
       "\n",
       "    .dataframe thead th {\n",
       "        text-align: right;\n",
       "    }\n",
       "</style>\n",
       "<table border=\"1\" class=\"dataframe\">\n",
       "  <thead>\n",
       "    <tr style=\"text-align: right;\">\n",
       "      <th></th>\n",
       "      <th>Features</th>\n",
       "      <th>Score</th>\n",
       "    </tr>\n",
       "  </thead>\n",
       "  <tbody>\n",
       "    <tr>\n",
       "      <th>56</th>\n",
       "      <td>BIOF_T0</td>\n",
       "      <td>0.099112</td>\n",
       "    </tr>\n",
       "    <tr>\n",
       "      <th>58</th>\n",
       "      <td>CTSIB_Total_T0</td>\n",
       "      <td>0.081361</td>\n",
       "    </tr>\n",
       "    <tr>\n",
       "      <th>15</th>\n",
       "      <td>SwingSpeed_D_TS_T0</td>\n",
       "      <td>0.054231</td>\n",
       "    </tr>\n",
       "    <tr>\n",
       "      <th>64</th>\n",
       "      <td>SF36_PF_T0</td>\n",
       "      <td>0.042792</td>\n",
       "    </tr>\n",
       "    <tr>\n",
       "      <th>19</th>\n",
       "      <td>Gait_Assimetry_DTPV_T0</td>\n",
       "      <td>0.039463</td>\n",
       "    </tr>\n",
       "    <tr>\n",
       "      <th>52</th>\n",
       "      <td>BEOA_T0</td>\n",
       "      <td>0.036982</td>\n",
       "    </tr>\n",
       "    <tr>\n",
       "      <th>28</th>\n",
       "      <td>SwingSpeed_D_DTPV_T0</td>\n",
       "      <td>0.035598</td>\n",
       "    </tr>\n",
       "    <tr>\n",
       "      <th>71</th>\n",
       "      <td>SF36_GHP_T0</td>\n",
       "      <td>0.032914</td>\n",
       "    </tr>\n",
       "    <tr>\n",
       "      <th>14</th>\n",
       "      <td>PeakAngVelocity_D_TS_T0</td>\n",
       "      <td>0.031757</td>\n",
       "    </tr>\n",
       "    <tr>\n",
       "      <th>29</th>\n",
       "      <td>MinToe_D_DTPV_T0</td>\n",
       "      <td>0.031065</td>\n",
       "    </tr>\n",
       "  </tbody>\n",
       "</table>\n",
       "</div>"
      ],
      "text/plain": [
       "                   Features     Score\n",
       "56                  BIOF_T0  0.099112\n",
       "58           CTSIB_Total_T0  0.081361\n",
       "15       SwingSpeed_D_TS_T0  0.054231\n",
       "64               SF36_PF_T0  0.042792\n",
       "19   Gait_Assimetry_DTPV_T0  0.039463\n",
       "52                  BEOA_T0  0.036982\n",
       "28     SwingSpeed_D_DTPV_T0  0.035598\n",
       "71              SF36_GHP_T0  0.032914\n",
       "14  PeakAngVelocity_D_TS_T0  0.031757\n",
       "29         MinToe_D_DTPV_T0  0.031065"
      ]
     },
     "execution_count": 118,
     "metadata": {},
     "output_type": "execute_result"
    }
   ],
   "source": [
    "generate_experiment(T0_df, classifier=RandomForestClassifier(n_estimators=100))"
   ]
  },
  {
   "cell_type": "code",
   "execution_count": 119,
   "metadata": {},
   "outputs": [
    {
     "name": "stdout",
     "output_type": "stream",
     "text": [
      "Accuracy: 0.43 (+/- 0.26)\n",
      "F1 Micro: 0.44 (+/- 0.11)\n",
      "Precision: 0.42 (+/- 0.19)\n",
      "Recall: 0.49 (+/- 0.43)\n",
      "ROC: 0.47 (+/- 0.31)\n"
     ]
    },
    {
     "data": {
      "text/html": [
       "<div>\n",
       "<style scoped>\n",
       "    .dataframe tbody tr th:only-of-type {\n",
       "        vertical-align: middle;\n",
       "    }\n",
       "\n",
       "    .dataframe tbody tr th {\n",
       "        vertical-align: top;\n",
       "    }\n",
       "\n",
       "    .dataframe thead th {\n",
       "        text-align: right;\n",
       "    }\n",
       "</style>\n",
       "<table border=\"1\" class=\"dataframe\">\n",
       "  <thead>\n",
       "    <tr style=\"text-align: right;\">\n",
       "      <th></th>\n",
       "      <th>Features</th>\n",
       "      <th>Score</th>\n",
       "    </tr>\n",
       "  </thead>\n",
       "  <tbody>\n",
       "    <tr>\n",
       "      <th>56</th>\n",
       "      <td>BIOF_T0</td>\n",
       "      <td>0.099112</td>\n",
       "    </tr>\n",
       "    <tr>\n",
       "      <th>58</th>\n",
       "      <td>CTSIB_Total_T0</td>\n",
       "      <td>0.081361</td>\n",
       "    </tr>\n",
       "    <tr>\n",
       "      <th>15</th>\n",
       "      <td>SwingSpeed_D_TS_T0</td>\n",
       "      <td>0.054231</td>\n",
       "    </tr>\n",
       "    <tr>\n",
       "      <th>64</th>\n",
       "      <td>SF36_PF_T0</td>\n",
       "      <td>0.042792</td>\n",
       "    </tr>\n",
       "    <tr>\n",
       "      <th>19</th>\n",
       "      <td>Gait_Assimetry_DTPV_T0</td>\n",
       "      <td>0.039463</td>\n",
       "    </tr>\n",
       "    <tr>\n",
       "      <th>52</th>\n",
       "      <td>BEOA_T0</td>\n",
       "      <td>0.036982</td>\n",
       "    </tr>\n",
       "    <tr>\n",
       "      <th>28</th>\n",
       "      <td>SwingSpeed_D_DTPV_T0</td>\n",
       "      <td>0.035598</td>\n",
       "    </tr>\n",
       "    <tr>\n",
       "      <th>71</th>\n",
       "      <td>SF36_GHP_T0</td>\n",
       "      <td>0.032914</td>\n",
       "    </tr>\n",
       "    <tr>\n",
       "      <th>14</th>\n",
       "      <td>PeakAngVelocity_D_TS_T0</td>\n",
       "      <td>0.031757</td>\n",
       "    </tr>\n",
       "    <tr>\n",
       "      <th>29</th>\n",
       "      <td>MinToe_D_DTPV_T0</td>\n",
       "      <td>0.031065</td>\n",
       "    </tr>\n",
       "  </tbody>\n",
       "</table>\n",
       "</div>"
      ],
      "text/plain": [
       "                   Features     Score\n",
       "56                  BIOF_T0  0.099112\n",
       "58           CTSIB_Total_T0  0.081361\n",
       "15       SwingSpeed_D_TS_T0  0.054231\n",
       "64               SF36_PF_T0  0.042792\n",
       "19   Gait_Assimetry_DTPV_T0  0.039463\n",
       "52                  BEOA_T0  0.036982\n",
       "28     SwingSpeed_D_DTPV_T0  0.035598\n",
       "71              SF36_GHP_T0  0.032914\n",
       "14  PeakAngVelocity_D_TS_T0  0.031757\n",
       "29         MinToe_D_DTPV_T0  0.031065"
      ]
     },
     "execution_count": 119,
     "metadata": {},
     "output_type": "execute_result"
    }
   ],
   "source": [
    "generate_experiment(T0_df, classifier=RandomForestClassifier(n_estimators=50))"
   ]
  },
  {
   "cell_type": "markdown",
   "metadata": {},
   "source": [
    "## Without Relief (feature selection)"
   ]
  },
  {
   "cell_type": "code",
   "execution_count": 120,
   "metadata": {},
   "outputs": [
    {
     "name": "stdout",
     "output_type": "stream",
     "text": [
      "Accuracy: 0.42 (+/- 0.16)\n",
      "F1 Micro: 0.42 (+/- 0.16)\n",
      "Precision: 0.36 (+/- 0.39)\n",
      "Recall: 0.53 (+/- 0.66)\n",
      "ROC: 0.34 (+/- 0.18)\n"
     ]
    }
   ],
   "source": [
    "generate_experiment(T0_df, classifier=SVC(kernel='poly'), relief=False)"
   ]
  },
  {
   "cell_type": "code",
   "execution_count": 121,
   "metadata": {},
   "outputs": [
    {
     "name": "stdout",
     "output_type": "stream",
     "text": [
      "Accuracy: 0.48 (+/- 0.13)\n",
      "F1 Micro: 0.48 (+/- 0.13)\n",
      "Precision: 0.39 (+/- 0.40)\n",
      "Recall: 0.60 (+/- 0.67)\n",
      "ROC: 0.47 (+/- 0.26)\n"
     ]
    },
    {
     "name": "stderr",
     "output_type": "stream",
     "text": [
      "/home/sarai/.virtualenvs/relief/lib/python3.7/site-packages/sklearn/metrics/_classification.py:1268: UndefinedMetricWarning: Precision is ill-defined and being set to 0.0 due to no predicted samples. Use `zero_division` parameter to control this behavior.\n",
      "  _warn_prf(average, modifier, msg_start, len(result))\n"
     ]
    }
   ],
   "source": [
    "generate_experiment(T0_df, classifier=SVC(kernel='sigmoid'), relief=False)"
   ]
  },
  {
   "cell_type": "code",
   "execution_count": 122,
   "metadata": {},
   "outputs": [
    {
     "name": "stdout",
     "output_type": "stream",
     "text": [
      "Accuracy: 0.54 (+/- 0.14)\n",
      "F1 Micro: 0.54 (+/- 0.14)\n",
      "Precision: 0.55 (+/- 0.14)\n",
      "Recall: 0.53 (+/- 0.22)\n",
      "ROC: 0.53 (+/- 0.19)\n"
     ]
    }
   ],
   "source": [
    "generate_experiment(T0_df, classifier=SVC(kernel='linear'), relief=False)"
   ]
  },
  {
   "cell_type": "code",
   "execution_count": 124,
   "metadata": {},
   "outputs": [
    {
     "name": "stdout",
     "output_type": "stream",
     "text": [
      "Accuracy: 0.40 (+/- 0.14)\n",
      "F1 Micro: 0.46 (+/- 0.23)\n",
      "Precision: 0.44 (+/- 0.20)\n",
      "Recall: 0.38 (+/- 0.32)\n",
      "ROC: 0.35 (+/- 0.37)\n"
     ]
    }
   ],
   "source": [
    "generate_experiment(T0_df, classifier=RandomForestClassifier(n_estimators=100), relief=False)"
   ]
  },
  {
   "cell_type": "code",
   "execution_count": 125,
   "metadata": {},
   "outputs": [
    {
     "name": "stdout",
     "output_type": "stream",
     "text": [
      "Accuracy: 0.42 (+/- 0.18)\n",
      "F1 Micro: 0.40 (+/- 0.21)\n",
      "Precision: 0.37 (+/- 0.23)\n",
      "Recall: 0.53 (+/- 0.34)\n",
      "ROC: 0.36 (+/- 0.26)\n"
     ]
    }
   ],
   "source": [
    "generate_experiment(T0_df, classifier=RandomForestClassifier(n_estimators=50), relief=False)"
   ]
  },
  {
   "cell_type": "markdown",
   "metadata": {},
   "source": [
    "# Experiment #3 \n",
    "- Using all subjects that went to all measurements to predict Group"
   ]
  },
  {
   "cell_type": "code",
   "execution_count": 126,
   "metadata": {},
   "outputs": [
    {
     "name": "stdout",
     "output_type": "stream",
     "text": [
      "17\n"
     ]
    }
   ],
   "source": [
    "all_Ts = df.drop(labels=['Grupo', 'Sexo', 'Missing Values'], axis=1)\n",
    "all_Ts = all_Ts.dropna()\n",
    "print(len(all_Ts))"
   ]
  },
  {
   "cell_type": "code",
   "execution_count": 127,
   "metadata": {
    "scrolled": false
   },
   "outputs": [
    {
     "name": "stdout",
     "output_type": "stream",
     "text": [
      "Accuracy: 0.63 (+/- 0.67)\n",
      "F1 Micro: 0.63 (+/- 0.67)\n",
      "Precision: 0.70 (+/- 0.80)\n",
      "Recall: 0.60 (+/- 0.75)\n",
      "ROC: 0.75 (+/- 0.77)\n"
     ]
    },
    {
     "data": {
      "text/html": [
       "<div>\n",
       "<style scoped>\n",
       "    .dataframe tbody tr th:only-of-type {\n",
       "        vertical-align: middle;\n",
       "    }\n",
       "\n",
       "    .dataframe tbody tr th {\n",
       "        vertical-align: top;\n",
       "    }\n",
       "\n",
       "    .dataframe thead th {\n",
       "        text-align: right;\n",
       "    }\n",
       "</style>\n",
       "<table border=\"1\" class=\"dataframe\">\n",
       "  <thead>\n",
       "    <tr style=\"text-align: right;\">\n",
       "      <th></th>\n",
       "      <th>Features</th>\n",
       "      <th>Score</th>\n",
       "    </tr>\n",
       "  </thead>\n",
       "  <tbody>\n",
       "    <tr>\n",
       "      <th>342</th>\n",
       "      <td>SF36_Pain_T12</td>\n",
       "      <td>0.353758</td>\n",
       "    </tr>\n",
       "    <tr>\n",
       "      <th>97</th>\n",
       "      <td>StrideLength_D_DTPV_T9</td>\n",
       "      <td>0.308320</td>\n",
       "    </tr>\n",
       "    <tr>\n",
       "      <th>274</th>\n",
       "      <td>CTSIB_Total_T0</td>\n",
       "      <td>0.283497</td>\n",
       "    </tr>\n",
       "    <tr>\n",
       "      <th>303</th>\n",
       "      <td>GDS_T12</td>\n",
       "      <td>0.266340</td>\n",
       "    </tr>\n",
       "    <tr>\n",
       "      <th>337</th>\n",
       "      <td>SF36_VEF_T9</td>\n",
       "      <td>0.264706</td>\n",
       "    </tr>\n",
       "    <tr>\n",
       "      <th>255</th>\n",
       "      <td>BEDO_T3</td>\n",
       "      <td>0.264706</td>\n",
       "    </tr>\n",
       "    <tr>\n",
       "      <th>163</th>\n",
       "      <td>StrideLength_D_DTPF_T12</td>\n",
       "      <td>0.242599</td>\n",
       "    </tr>\n",
       "    <tr>\n",
       "      <th>335</th>\n",
       "      <td>SF36_GMH_T9</td>\n",
       "      <td>0.235294</td>\n",
       "    </tr>\n",
       "    <tr>\n",
       "      <th>225</th>\n",
       "      <td>EERE_T3</td>\n",
       "      <td>0.228758</td>\n",
       "    </tr>\n",
       "    <tr>\n",
       "      <th>315</th>\n",
       "      <td>SF36_Pain_T3</td>\n",
       "      <td>0.223856</td>\n",
       "    </tr>\n",
       "  </tbody>\n",
       "</table>\n",
       "</div>"
      ],
      "text/plain": [
       "                    Features     Score\n",
       "342            SF36_Pain_T12  0.353758\n",
       "97    StrideLength_D_DTPV_T9  0.308320\n",
       "274           CTSIB_Total_T0  0.283497\n",
       "303                  GDS_T12  0.266340\n",
       "337              SF36_VEF_T9  0.264706\n",
       "255                  BEDO_T3  0.264706\n",
       "163  StrideLength_D_DTPF_T12  0.242599\n",
       "335              SF36_GMH_T9  0.235294\n",
       "225                  EERE_T3  0.228758\n",
       "315             SF36_Pain_T3  0.223856"
      ]
     },
     "execution_count": 127,
     "metadata": {},
     "output_type": "execute_result"
    }
   ],
   "source": [
    "generate_experiment(all_Ts, classifier=SVC(kernel='poly'))"
   ]
  },
  {
   "cell_type": "code",
   "execution_count": 128,
   "metadata": {},
   "outputs": [
    {
     "name": "stdout",
     "output_type": "stream",
     "text": [
      "Accuracy: 0.40 (+/- 0.16)\n",
      "F1 Micro: 0.40 (+/- 0.16)\n"
     ]
    },
    {
     "name": "stderr",
     "output_type": "stream",
     "text": [
      "/home/sarai/.virtualenvs/relief/lib/python3.7/site-packages/sklearn/metrics/_classification.py:1268: UndefinedMetricWarning: Precision is ill-defined and being set to 0.0 due to no predicted samples. Use `zero_division` parameter to control this behavior.\n",
      "  _warn_prf(average, modifier, msg_start, len(result))\n",
      "/home/sarai/.virtualenvs/relief/lib/python3.7/site-packages/sklearn/metrics/_classification.py:1268: UndefinedMetricWarning: Precision is ill-defined and being set to 0.0 due to no predicted samples. Use `zero_division` parameter to control this behavior.\n",
      "  _warn_prf(average, modifier, msg_start, len(result))\n",
      "/home/sarai/.virtualenvs/relief/lib/python3.7/site-packages/sklearn/metrics/_classification.py:1268: UndefinedMetricWarning: Precision is ill-defined and being set to 0.0 due to no predicted samples. Use `zero_division` parameter to control this behavior.\n",
      "  _warn_prf(average, modifier, msg_start, len(result))\n"
     ]
    },
    {
     "name": "stdout",
     "output_type": "stream",
     "text": [
      "Precision: 0.07 (+/- 0.27)\n",
      "Recall: 0.20 (+/- 0.80)\n",
      "ROC: 0.30 (+/- 0.80)\n"
     ]
    },
    {
     "data": {
      "text/html": [
       "<div>\n",
       "<style scoped>\n",
       "    .dataframe tbody tr th:only-of-type {\n",
       "        vertical-align: middle;\n",
       "    }\n",
       "\n",
       "    .dataframe tbody tr th {\n",
       "        vertical-align: top;\n",
       "    }\n",
       "\n",
       "    .dataframe thead th {\n",
       "        text-align: right;\n",
       "    }\n",
       "</style>\n",
       "<table border=\"1\" class=\"dataframe\">\n",
       "  <thead>\n",
       "    <tr style=\"text-align: right;\">\n",
       "      <th></th>\n",
       "      <th>Features</th>\n",
       "      <th>Score</th>\n",
       "    </tr>\n",
       "  </thead>\n",
       "  <tbody>\n",
       "    <tr>\n",
       "      <th>342</th>\n",
       "      <td>SF36_Pain_T12</td>\n",
       "      <td>0.353758</td>\n",
       "    </tr>\n",
       "    <tr>\n",
       "      <th>97</th>\n",
       "      <td>StrideLength_D_DTPV_T9</td>\n",
       "      <td>0.308320</td>\n",
       "    </tr>\n",
       "    <tr>\n",
       "      <th>274</th>\n",
       "      <td>CTSIB_Total_T0</td>\n",
       "      <td>0.283497</td>\n",
       "    </tr>\n",
       "    <tr>\n",
       "      <th>303</th>\n",
       "      <td>GDS_T12</td>\n",
       "      <td>0.266340</td>\n",
       "    </tr>\n",
       "    <tr>\n",
       "      <th>337</th>\n",
       "      <td>SF36_VEF_T9</td>\n",
       "      <td>0.264706</td>\n",
       "    </tr>\n",
       "    <tr>\n",
       "      <th>255</th>\n",
       "      <td>BEDO_T3</td>\n",
       "      <td>0.264706</td>\n",
       "    </tr>\n",
       "    <tr>\n",
       "      <th>163</th>\n",
       "      <td>StrideLength_D_DTPF_T12</td>\n",
       "      <td>0.242599</td>\n",
       "    </tr>\n",
       "    <tr>\n",
       "      <th>335</th>\n",
       "      <td>SF36_GMH_T9</td>\n",
       "      <td>0.235294</td>\n",
       "    </tr>\n",
       "    <tr>\n",
       "      <th>225</th>\n",
       "      <td>EERE_T3</td>\n",
       "      <td>0.228758</td>\n",
       "    </tr>\n",
       "    <tr>\n",
       "      <th>315</th>\n",
       "      <td>SF36_Pain_T3</td>\n",
       "      <td>0.223856</td>\n",
       "    </tr>\n",
       "  </tbody>\n",
       "</table>\n",
       "</div>"
      ],
      "text/plain": [
       "                    Features     Score\n",
       "342            SF36_Pain_T12  0.353758\n",
       "97    StrideLength_D_DTPV_T9  0.308320\n",
       "274           CTSIB_Total_T0  0.283497\n",
       "303                  GDS_T12  0.266340\n",
       "337              SF36_VEF_T9  0.264706\n",
       "255                  BEDO_T3  0.264706\n",
       "163  StrideLength_D_DTPF_T12  0.242599\n",
       "335              SF36_GMH_T9  0.235294\n",
       "225                  EERE_T3  0.228758\n",
       "315             SF36_Pain_T3  0.223856"
      ]
     },
     "execution_count": 128,
     "metadata": {},
     "output_type": "execute_result"
    }
   ],
   "source": [
    "generate_experiment(all_Ts, classifier=SVC(kernel='sigmoid'))"
   ]
  },
  {
   "cell_type": "code",
   "execution_count": 129,
   "metadata": {},
   "outputs": [
    {
     "name": "stdout",
     "output_type": "stream",
     "text": [
      "Accuracy: 0.67 (+/- 0.37)\n",
      "F1 Micro: 0.67 (+/- 0.37)\n"
     ]
    },
    {
     "name": "stderr",
     "output_type": "stream",
     "text": [
      "/home/sarai/.virtualenvs/relief/lib/python3.7/site-packages/sklearn/metrics/_classification.py:1268: UndefinedMetricWarning: Precision is ill-defined and being set to 0.0 due to no predicted samples. Use `zero_division` parameter to control this behavior.\n",
      "  _warn_prf(average, modifier, msg_start, len(result))\n"
     ]
    },
    {
     "name": "stdout",
     "output_type": "stream",
     "text": [
      "Precision: 0.50 (+/- 0.63)\n",
      "Recall: 0.60 (+/- 0.75)\n",
      "ROC: 0.75 (+/- 0.63)\n"
     ]
    },
    {
     "data": {
      "text/html": [
       "<div>\n",
       "<style scoped>\n",
       "    .dataframe tbody tr th:only-of-type {\n",
       "        vertical-align: middle;\n",
       "    }\n",
       "\n",
       "    .dataframe tbody tr th {\n",
       "        vertical-align: top;\n",
       "    }\n",
       "\n",
       "    .dataframe thead th {\n",
       "        text-align: right;\n",
       "    }\n",
       "</style>\n",
       "<table border=\"1\" class=\"dataframe\">\n",
       "  <thead>\n",
       "    <tr style=\"text-align: right;\">\n",
       "      <th></th>\n",
       "      <th>Features</th>\n",
       "      <th>Score</th>\n",
       "    </tr>\n",
       "  </thead>\n",
       "  <tbody>\n",
       "    <tr>\n",
       "      <th>342</th>\n",
       "      <td>SF36_Pain_T12</td>\n",
       "      <td>0.353758</td>\n",
       "    </tr>\n",
       "    <tr>\n",
       "      <th>97</th>\n",
       "      <td>StrideLength_D_DTPV_T9</td>\n",
       "      <td>0.308320</td>\n",
       "    </tr>\n",
       "    <tr>\n",
       "      <th>274</th>\n",
       "      <td>CTSIB_Total_T0</td>\n",
       "      <td>0.283497</td>\n",
       "    </tr>\n",
       "    <tr>\n",
       "      <th>303</th>\n",
       "      <td>GDS_T12</td>\n",
       "      <td>0.266340</td>\n",
       "    </tr>\n",
       "    <tr>\n",
       "      <th>337</th>\n",
       "      <td>SF36_VEF_T9</td>\n",
       "      <td>0.264706</td>\n",
       "    </tr>\n",
       "    <tr>\n",
       "      <th>255</th>\n",
       "      <td>BEDO_T3</td>\n",
       "      <td>0.264706</td>\n",
       "    </tr>\n",
       "    <tr>\n",
       "      <th>163</th>\n",
       "      <td>StrideLength_D_DTPF_T12</td>\n",
       "      <td>0.242599</td>\n",
       "    </tr>\n",
       "    <tr>\n",
       "      <th>335</th>\n",
       "      <td>SF36_GMH_T9</td>\n",
       "      <td>0.235294</td>\n",
       "    </tr>\n",
       "    <tr>\n",
       "      <th>225</th>\n",
       "      <td>EERE_T3</td>\n",
       "      <td>0.228758</td>\n",
       "    </tr>\n",
       "    <tr>\n",
       "      <th>315</th>\n",
       "      <td>SF36_Pain_T3</td>\n",
       "      <td>0.223856</td>\n",
       "    </tr>\n",
       "  </tbody>\n",
       "</table>\n",
       "</div>"
      ],
      "text/plain": [
       "                    Features     Score\n",
       "342            SF36_Pain_T12  0.353758\n",
       "97    StrideLength_D_DTPV_T9  0.308320\n",
       "274           CTSIB_Total_T0  0.283497\n",
       "303                  GDS_T12  0.266340\n",
       "337              SF36_VEF_T9  0.264706\n",
       "255                  BEDO_T3  0.264706\n",
       "163  StrideLength_D_DTPF_T12  0.242599\n",
       "335              SF36_GMH_T9  0.235294\n",
       "225                  EERE_T3  0.228758\n",
       "315             SF36_Pain_T3  0.223856"
      ]
     },
     "execution_count": 129,
     "metadata": {},
     "output_type": "execute_result"
    }
   ],
   "source": [
    "generate_experiment(all_Ts, classifier=SVC(kernel='linear'))"
   ]
  },
  {
   "cell_type": "code",
   "execution_count": 131,
   "metadata": {},
   "outputs": [
    {
     "name": "stdout",
     "output_type": "stream",
     "text": [
      "Accuracy: 0.42 (+/- 0.30)\n",
      "F1 Micro: 0.48 (+/- 0.34)\n"
     ]
    },
    {
     "name": "stderr",
     "output_type": "stream",
     "text": [
      "/home/sarai/.virtualenvs/relief/lib/python3.7/site-packages/sklearn/metrics/_classification.py:1268: UndefinedMetricWarning: Precision is ill-defined and being set to 0.0 due to no predicted samples. Use `zero_division` parameter to control this behavior.\n",
      "  _warn_prf(average, modifier, msg_start, len(result))\n"
     ]
    },
    {
     "name": "stdout",
     "output_type": "stream",
     "text": [
      "Precision: 0.20 (+/- 0.80)\n",
      "Recall: 0.10 (+/- 0.40)\n",
      "ROC: 0.40 (+/- 0.75)\n"
     ]
    },
    {
     "data": {
      "text/html": [
       "<div>\n",
       "<style scoped>\n",
       "    .dataframe tbody tr th:only-of-type {\n",
       "        vertical-align: middle;\n",
       "    }\n",
       "\n",
       "    .dataframe tbody tr th {\n",
       "        vertical-align: top;\n",
       "    }\n",
       "\n",
       "    .dataframe thead th {\n",
       "        text-align: right;\n",
       "    }\n",
       "</style>\n",
       "<table border=\"1\" class=\"dataframe\">\n",
       "  <thead>\n",
       "    <tr style=\"text-align: right;\">\n",
       "      <th></th>\n",
       "      <th>Features</th>\n",
       "      <th>Score</th>\n",
       "    </tr>\n",
       "  </thead>\n",
       "  <tbody>\n",
       "    <tr>\n",
       "      <th>342</th>\n",
       "      <td>SF36_Pain_T12</td>\n",
       "      <td>0.353758</td>\n",
       "    </tr>\n",
       "    <tr>\n",
       "      <th>97</th>\n",
       "      <td>StrideLength_D_DTPV_T9</td>\n",
       "      <td>0.308320</td>\n",
       "    </tr>\n",
       "    <tr>\n",
       "      <th>274</th>\n",
       "      <td>CTSIB_Total_T0</td>\n",
       "      <td>0.283497</td>\n",
       "    </tr>\n",
       "    <tr>\n",
       "      <th>303</th>\n",
       "      <td>GDS_T12</td>\n",
       "      <td>0.266340</td>\n",
       "    </tr>\n",
       "    <tr>\n",
       "      <th>337</th>\n",
       "      <td>SF36_VEF_T9</td>\n",
       "      <td>0.264706</td>\n",
       "    </tr>\n",
       "    <tr>\n",
       "      <th>255</th>\n",
       "      <td>BEDO_T3</td>\n",
       "      <td>0.264706</td>\n",
       "    </tr>\n",
       "    <tr>\n",
       "      <th>163</th>\n",
       "      <td>StrideLength_D_DTPF_T12</td>\n",
       "      <td>0.242599</td>\n",
       "    </tr>\n",
       "    <tr>\n",
       "      <th>335</th>\n",
       "      <td>SF36_GMH_T9</td>\n",
       "      <td>0.235294</td>\n",
       "    </tr>\n",
       "    <tr>\n",
       "      <th>225</th>\n",
       "      <td>EERE_T3</td>\n",
       "      <td>0.228758</td>\n",
       "    </tr>\n",
       "    <tr>\n",
       "      <th>315</th>\n",
       "      <td>SF36_Pain_T3</td>\n",
       "      <td>0.223856</td>\n",
       "    </tr>\n",
       "  </tbody>\n",
       "</table>\n",
       "</div>"
      ],
      "text/plain": [
       "                    Features     Score\n",
       "342            SF36_Pain_T12  0.353758\n",
       "97    StrideLength_D_DTPV_T9  0.308320\n",
       "274           CTSIB_Total_T0  0.283497\n",
       "303                  GDS_T12  0.266340\n",
       "337              SF36_VEF_T9  0.264706\n",
       "255                  BEDO_T3  0.264706\n",
       "163  StrideLength_D_DTPF_T12  0.242599\n",
       "335              SF36_GMH_T9  0.235294\n",
       "225                  EERE_T3  0.228758\n",
       "315             SF36_Pain_T3  0.223856"
      ]
     },
     "execution_count": 131,
     "metadata": {},
     "output_type": "execute_result"
    }
   ],
   "source": [
    "generate_experiment(all_Ts, classifier=RandomForestClassifier(n_estimators=100))"
   ]
  },
  {
   "cell_type": "code",
   "execution_count": 132,
   "metadata": {},
   "outputs": [
    {
     "name": "stdout",
     "output_type": "stream",
     "text": [
      "Accuracy: 0.37 (+/- 0.31)\n",
      "F1 Micro: 0.67 (+/- 0.56)\n"
     ]
    },
    {
     "name": "stderr",
     "output_type": "stream",
     "text": [
      "/home/sarai/.virtualenvs/relief/lib/python3.7/site-packages/sklearn/metrics/_classification.py:1268: UndefinedMetricWarning: Precision is ill-defined and being set to 0.0 due to no predicted samples. Use `zero_division` parameter to control this behavior.\n",
      "  _warn_prf(average, modifier, msg_start, len(result))\n",
      "/home/sarai/.virtualenvs/relief/lib/python3.7/site-packages/sklearn/metrics/_classification.py:1268: UndefinedMetricWarning: Precision is ill-defined and being set to 0.0 due to no predicted samples. Use `zero_division` parameter to control this behavior.\n",
      "  _warn_prf(average, modifier, msg_start, len(result))\n"
     ]
    },
    {
     "name": "stdout",
     "output_type": "stream",
     "text": [
      "Precision: 0.20 (+/- 0.80)\n",
      "Recall: 0.20 (+/- 0.49)\n",
      "ROC: 0.50 (+/- 0.89)\n"
     ]
    },
    {
     "data": {
      "text/html": [
       "<div>\n",
       "<style scoped>\n",
       "    .dataframe tbody tr th:only-of-type {\n",
       "        vertical-align: middle;\n",
       "    }\n",
       "\n",
       "    .dataframe tbody tr th {\n",
       "        vertical-align: top;\n",
       "    }\n",
       "\n",
       "    .dataframe thead th {\n",
       "        text-align: right;\n",
       "    }\n",
       "</style>\n",
       "<table border=\"1\" class=\"dataframe\">\n",
       "  <thead>\n",
       "    <tr style=\"text-align: right;\">\n",
       "      <th></th>\n",
       "      <th>Features</th>\n",
       "      <th>Score</th>\n",
       "    </tr>\n",
       "  </thead>\n",
       "  <tbody>\n",
       "    <tr>\n",
       "      <th>342</th>\n",
       "      <td>SF36_Pain_T12</td>\n",
       "      <td>0.353758</td>\n",
       "    </tr>\n",
       "    <tr>\n",
       "      <th>97</th>\n",
       "      <td>StrideLength_D_DTPV_T9</td>\n",
       "      <td>0.308320</td>\n",
       "    </tr>\n",
       "    <tr>\n",
       "      <th>274</th>\n",
       "      <td>CTSIB_Total_T0</td>\n",
       "      <td>0.283497</td>\n",
       "    </tr>\n",
       "    <tr>\n",
       "      <th>303</th>\n",
       "      <td>GDS_T12</td>\n",
       "      <td>0.266340</td>\n",
       "    </tr>\n",
       "    <tr>\n",
       "      <th>337</th>\n",
       "      <td>SF36_VEF_T9</td>\n",
       "      <td>0.264706</td>\n",
       "    </tr>\n",
       "    <tr>\n",
       "      <th>255</th>\n",
       "      <td>BEDO_T3</td>\n",
       "      <td>0.264706</td>\n",
       "    </tr>\n",
       "    <tr>\n",
       "      <th>163</th>\n",
       "      <td>StrideLength_D_DTPF_T12</td>\n",
       "      <td>0.242599</td>\n",
       "    </tr>\n",
       "    <tr>\n",
       "      <th>335</th>\n",
       "      <td>SF36_GMH_T9</td>\n",
       "      <td>0.235294</td>\n",
       "    </tr>\n",
       "    <tr>\n",
       "      <th>225</th>\n",
       "      <td>EERE_T3</td>\n",
       "      <td>0.228758</td>\n",
       "    </tr>\n",
       "    <tr>\n",
       "      <th>315</th>\n",
       "      <td>SF36_Pain_T3</td>\n",
       "      <td>0.223856</td>\n",
       "    </tr>\n",
       "  </tbody>\n",
       "</table>\n",
       "</div>"
      ],
      "text/plain": [
       "                    Features     Score\n",
       "342            SF36_Pain_T12  0.353758\n",
       "97    StrideLength_D_DTPV_T9  0.308320\n",
       "274           CTSIB_Total_T0  0.283497\n",
       "303                  GDS_T12  0.266340\n",
       "337              SF36_VEF_T9  0.264706\n",
       "255                  BEDO_T3  0.264706\n",
       "163  StrideLength_D_DTPF_T12  0.242599\n",
       "335              SF36_GMH_T9  0.235294\n",
       "225                  EERE_T3  0.228758\n",
       "315             SF36_Pain_T3  0.223856"
      ]
     },
     "execution_count": 132,
     "metadata": {},
     "output_type": "execute_result"
    }
   ],
   "source": [
    "generate_experiment(all_Ts, classifier=RandomForestClassifier(n_estimators=50))"
   ]
  },
  {
   "cell_type": "markdown",
   "metadata": {},
   "source": [
    "## Without Relief (feature selection)"
   ]
  },
  {
   "cell_type": "code",
   "execution_count": 133,
   "metadata": {
    "scrolled": false
   },
   "outputs": [
    {
     "name": "stdout",
     "output_type": "stream",
     "text": [
      "Accuracy: 0.33 (+/- 0.37)\n",
      "F1 Micro: 0.33 (+/- 0.37)\n",
      "Precision: 0.00 (+/- 0.00)\n",
      "Recall: 0.00 (+/- 0.00)\n",
      "ROC: 0.25 (+/- 0.45)\n"
     ]
    },
    {
     "name": "stderr",
     "output_type": "stream",
     "text": [
      "/home/sarai/.virtualenvs/relief/lib/python3.7/site-packages/sklearn/metrics/_classification.py:1268: UndefinedMetricWarning: Precision is ill-defined and being set to 0.0 due to no predicted samples. Use `zero_division` parameter to control this behavior.\n",
      "  _warn_prf(average, modifier, msg_start, len(result))\n",
      "/home/sarai/.virtualenvs/relief/lib/python3.7/site-packages/sklearn/metrics/_classification.py:1268: UndefinedMetricWarning: Precision is ill-defined and being set to 0.0 due to no predicted samples. Use `zero_division` parameter to control this behavior.\n",
      "  _warn_prf(average, modifier, msg_start, len(result))\n",
      "/home/sarai/.virtualenvs/relief/lib/python3.7/site-packages/sklearn/metrics/_classification.py:1268: UndefinedMetricWarning: Precision is ill-defined and being set to 0.0 due to no predicted samples. Use `zero_division` parameter to control this behavior.\n",
      "  _warn_prf(average, modifier, msg_start, len(result))\n"
     ]
    }
   ],
   "source": [
    "generate_experiment(all_Ts, classifier=SVC(kernel='poly'), relief=False)"
   ]
  },
  {
   "cell_type": "code",
   "execution_count": 134,
   "metadata": {},
   "outputs": [
    {
     "name": "stdout",
     "output_type": "stream",
     "text": [
      "Accuracy: 0.33 (+/- 0.37)\n"
     ]
    },
    {
     "name": "stderr",
     "output_type": "stream",
     "text": [
      "/home/sarai/.virtualenvs/relief/lib/python3.7/site-packages/sklearn/metrics/_classification.py:1268: UndefinedMetricWarning: Precision is ill-defined and being set to 0.0 due to no predicted samples. Use `zero_division` parameter to control this behavior.\n",
      "  _warn_prf(average, modifier, msg_start, len(result))\n"
     ]
    },
    {
     "name": "stdout",
     "output_type": "stream",
     "text": [
      "F1 Micro: 0.33 (+/- 0.37)\n",
      "Precision: 0.07 (+/- 0.27)\n",
      "Recall: 0.20 (+/- 0.80)\n",
      "ROC: 0.25 (+/- 0.45)\n"
     ]
    },
    {
     "name": "stderr",
     "output_type": "stream",
     "text": [
      "/home/sarai/.virtualenvs/relief/lib/python3.7/site-packages/sklearn/metrics/_classification.py:1268: UndefinedMetricWarning: Precision is ill-defined and being set to 0.0 due to no predicted samples. Use `zero_division` parameter to control this behavior.\n",
      "  _warn_prf(average, modifier, msg_start, len(result))\n",
      "/home/sarai/.virtualenvs/relief/lib/python3.7/site-packages/sklearn/metrics/_classification.py:1268: UndefinedMetricWarning: Precision is ill-defined and being set to 0.0 due to no predicted samples. Use `zero_division` parameter to control this behavior.\n",
      "  _warn_prf(average, modifier, msg_start, len(result))\n"
     ]
    }
   ],
   "source": [
    "generate_experiment(all_Ts, classifier=SVC(kernel='sigmoid'), relief=False)"
   ]
  },
  {
   "cell_type": "code",
   "execution_count": 135,
   "metadata": {},
   "outputs": [
    {
     "name": "stdout",
     "output_type": "stream",
     "text": [
      "Accuracy: 0.27 (+/- 0.45)\n",
      "F1 Micro: 0.27 (+/- 0.45)\n",
      "Precision: 0.30 (+/- 0.49)\n",
      "Recall: 0.30 (+/- 0.49)\n",
      "ROC: 0.15 (+/- 0.40)\n"
     ]
    }
   ],
   "source": [
    "generate_experiment(all_Ts, classifier=SVC(kernel='linear'), relief=False)"
   ]
  },
  {
   "cell_type": "code",
   "execution_count": 137,
   "metadata": {},
   "outputs": [
    {
     "name": "stdout",
     "output_type": "stream",
     "text": [
      "Accuracy: 0.28 (+/- 0.33)\n",
      "F1 Micro: 0.40 (+/- 0.45)\n"
     ]
    },
    {
     "name": "stderr",
     "output_type": "stream",
     "text": [
      "/home/sarai/.virtualenvs/relief/lib/python3.7/site-packages/sklearn/metrics/_classification.py:1268: UndefinedMetricWarning: Precision is ill-defined and being set to 0.0 due to no predicted samples. Use `zero_division` parameter to control this behavior.\n",
      "  _warn_prf(average, modifier, msg_start, len(result))\n",
      "/home/sarai/.virtualenvs/relief/lib/python3.7/site-packages/sklearn/metrics/_classification.py:1268: UndefinedMetricWarning: Precision is ill-defined and being set to 0.0 due to no predicted samples. Use `zero_division` parameter to control this behavior.\n",
      "  _warn_prf(average, modifier, msg_start, len(result))\n"
     ]
    },
    {
     "name": "stdout",
     "output_type": "stream",
     "text": [
      "Precision: 0.10 (+/- 0.40)\n",
      "Recall: 0.20 (+/- 0.80)\n",
      "ROC: 0.35 (+/- 0.60)\n"
     ]
    }
   ],
   "source": [
    "generate_experiment(all_Ts, classifier=RandomForestClassifier(n_estimators=100), relief=False)"
   ]
  },
  {
   "cell_type": "code",
   "execution_count": 138,
   "metadata": {},
   "outputs": [
    {
     "name": "stdout",
     "output_type": "stream",
     "text": [
      "Accuracy: 0.35 (+/- 0.45)\n",
      "F1 Micro: 0.42 (+/- 0.30)\n"
     ]
    },
    {
     "name": "stderr",
     "output_type": "stream",
     "text": [
      "/home/sarai/.virtualenvs/relief/lib/python3.7/site-packages/sklearn/metrics/_classification.py:1268: UndefinedMetricWarning: Precision is ill-defined and being set to 0.0 due to no predicted samples. Use `zero_division` parameter to control this behavior.\n",
      "  _warn_prf(average, modifier, msg_start, len(result))\n"
     ]
    },
    {
     "name": "stdout",
     "output_type": "stream",
     "text": [
      "Precision: 0.40 (+/- 0.98)\n",
      "Recall: 0.10 (+/- 0.40)\n",
      "ROC: 0.38 (+/- 0.39)\n"
     ]
    }
   ],
   "source": [
    "generate_experiment(all_Ts, classifier=RandomForestClassifier(n_estimators=50), relief=False)"
   ]
  }
 ],
 "metadata": {
  "kernelspec": {
   "display_name": "relief",
   "language": "python",
   "name": "relief"
  },
  "language_info": {
   "codemirror_mode": {
    "name": "ipython",
    "version": 3
   },
   "file_extension": ".py",
   "mimetype": "text/x-python",
   "name": "python",
   "nbconvert_exporter": "python",
   "pygments_lexer": "ipython3",
   "version": "3.7.5"
  }
 },
 "nbformat": 4,
 "nbformat_minor": 2
}
