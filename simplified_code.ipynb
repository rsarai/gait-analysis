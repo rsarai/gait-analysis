{
 "cells": [
  {
   "cell_type": "markdown",
   "metadata": {},
   "source": [
    "## Simplified Code\n",
    "### Needs to pass the `data`\n",
    "### Also before run: `pip install -r requirements.txt`"
   ]
  },
  {
   "cell_type": "code",
   "execution_count": null,
   "metadata": {},
   "outputs": [],
   "source": [
    "import sompy\n",
    "from sklearn.cluster import KMeans\n",
    "\n",
    "n_clusters=6\n",
    "iterations=2000\n",
    "mapsize = [50,50]\n",
    "\n",
    "som = sompy.SOMFactory.build(\n",
    "    data, mapsize, mask=None, mapshape='planar', \n",
    "    normalization='var', initialization='pca', \n",
    "    neighborhood='gaussian', training='batch', \n",
    "    name='sompy', lattice='hexa')\n",
    "\n",
    "som.train(\n",
    "    n_job=4, verbose=False, train_finetune_len=100, train_rough_len=iterations\n",
    ")\n",
    "\n",
    "kmeans_labels = KMeans(\n",
    "    n_clusters=n_clusters\n",
    ").fit(\n",
    "    som._normalizer.denormalize_by(som.data_raw, som.codebook.matrix)\n",
    ")\n",
    "som.cluster_labels = kmeans_labels.labels_\n",
    "\n",
    "# Print HitMapView and MapView\n",
    "# Compare prediction vs real\n",
    "# Generate metrics### Needs to pass the `data`\n",
    "### Also before run: `pip install -r requirements.txt`"
   ]
  }
 ],
 "metadata": {
  "kernelspec": {
   "display_name": "hybrid-approach",
   "language": "python",
   "name": "hybrid-approach"
  },
  "language_info": {
   "codemirror_mode": {
    "name": "ipython",
    "version": 3
   },
   "file_extension": ".py",
   "mimetype": "text/x-python",
   "name": "python",
   "nbconvert_exporter": "python",
   "pygments_lexer": "ipython3",
   "version": "3.6.3"
  }
 },
 "nbformat": 4,
 "nbformat_minor": 2
}
